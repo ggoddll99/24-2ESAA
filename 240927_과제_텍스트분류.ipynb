{
  "cells": [
    {
      "cell_type": "markdown",
      "metadata": {
        "id": "view-in-github",
        "colab_type": "text"
      },
      "source": [
        "<a href=\"https://colab.research.google.com/github/ggoddll99/24-2ESAA/blob/main/240927_%EA%B3%BC%EC%A0%9C_%ED%85%8D%EC%8A%A4%ED%8A%B8%EB%B6%84%EB%A5%98.ipynb\" target=\"_parent\"><img src=\"https://colab.research.google.com/assets/colab-badge.svg\" alt=\"Open In Colab\"/></a>"
      ]
    },
    {
      "cell_type": "markdown",
      "metadata": {
        "id": "Fma-DUl0KTuP"
      },
      "source": [
        "## **04. 텍스트 분류 실습 - 20 뉴스그룹 분류**\n",
        "* 텍스트 분류 : 문서가 특정 분류 또는 카테고리에 속하는 것을 예측하는 기법. - ex. 특정 신문 기사 내용이 연예/정치/사회/문화 중 어떤 카테고리에 속하는지 자동으로 분류하거나 스팸 메일 검출 같은 프로그램이 이에 속함. 지도학습 적용\n",
        "  * 특정 문서의 분류를 학습 데이터를 통해 학습해 모델을 생성한 뒤 이 학습 모델을 이용해 다른 문서의 분류를 예측하는 것\n",
        "* BOW 모델 단점\n",
        "  * 희소 행렬 문제 : 희소 행렬 형태의 데이터 세트가 만들어지기 쉽다. 많은 문서에서 단어를 추출하면 매우 많은 단어가 칼럼으로 만들어진다. 문서마다 서로 다른 단어로 구성되기 때문에 단어가 문서마다 나타나지 않는 경우가 훨씬 더 많다. 하나의 문서에 있는 단어는 이 중 극히 일부분이므로 대부분의 데이터가 0 값으로 채워지게 된다. 이렇게 대규모의 칼럼으로 구성된 행렬에서 대부분의 값이 0으로 채워지는 행렬을 희소 행렬이라고 한다. 최소 행렬은 일반적으로 ML 알고리즘의 수행 시간과 예측 성능을 떨어뜨리기 때문에 희소 행렬을 위한 특별한 기법이 마련돼있다.\n",
        "\n",
        "텍스트를 피처 벡터화로 변환하면 일반적으로 희소 행렬 형태가 된다. 이때 분류를 효과적으로 잘 처리할 수 있는 알고리즘은 로지스틱 회귀, 선형 서포트 벡터 머신, 나이브 베이즈 등이다. -> 로지스틱 회귀 사용\n",
        "\n",
        "1. 텍스트 정규화\n",
        "2. 피처 벡터화 적용 : 카운트 기반 벡터화, TF-IDF 벡터화로 예측 성능 비교 - 피처 벡터화를 위한 파라미터\n",
        "3. 적합한 머신러닝 알고리즘으로 분류를 학습/예측/평가 - GridSearchCV 기반의 하이퍼 파라미터 튜닝\n",
        "\n",
        "-> Pipeline 객체로 피처 벡터화 파라미터와 GridSearchCV 기반의 하이퍼 파라미터 튜닝을 한꺼번에 수행한다."
      ]
    },
    {
      "cell_type": "markdown",
      "metadata": {
        "id": "HcR-HYgiMguO"
      },
      "source": [
        "**!. 텍스트 정규화**\n",
        "\n",
        "`fetch_20newsgroups()`는 인터넷에서 로컬 컴퓨터로 데이터를 먼저 내려받은 후에 메모리로 데이터를 로딩한다."
      ]
    },
    {
      "cell_type": "code",
      "execution_count": null,
      "metadata": {
        "id": "sNFD8YphJzNv"
      },
      "outputs": [],
      "source": [
        "from sklearn.datasets import fetch_20newsgroups\n",
        "\n",
        "news_data=fetch_20newsgroups(subset='all', random_state=156)"
      ]
    },
    {
      "cell_type": "markdown",
      "metadata": {
        "id": "v1eqTdzAMyj6"
      },
      "source": [
        "파이썬 딕셔너리와 유사한 Bunch 객체를 반환한다. 어떤 key 값을 가지고 있는지 확인한다."
      ]
    },
    {
      "cell_type": "code",
      "execution_count": null,
      "metadata": {
        "colab": {
          "base_uri": "https://localhost:8080/"
        },
        "id": "XHMD2U4fM5xm",
        "outputId": "3c382359-d145-40de-ae55-38b62bea963d"
      },
      "outputs": [
        {
          "name": "stdout",
          "output_type": "stream",
          "text": [
            "dict_keys(['data', 'filenames', 'target_names', 'target', 'DESCR'])\n"
          ]
        }
      ],
      "source": [
        "print(news_data.keys())"
      ]
    },
    {
      "cell_type": "markdown",
      "metadata": {
        "id": "ScrTcg-EM9Tv"
      },
      "source": [
        "`fetch_20newsgroups()` API 또한 `load_xxx()` API와 유사한 key 값을 가지고 있다. filenames는 `fetch_20newsgroups()` API가 인터넷에서 내려받아 로컬 컴퓨터에서 저장하는 디렉터리의 파일명을 지칭한다.\n",
        "\n",
        "Target 클래스가 어떻게 구성돼 있는지 확인한다."
      ]
    },
    {
      "cell_type": "code",
      "execution_count": null,
      "metadata": {
        "colab": {
          "base_uri": "https://localhost:8080/"
        },
        "id": "hCF-gSyINQYi",
        "outputId": "97c6c26c-993b-4dc7-e09b-3a5606e35e51"
      },
      "outputs": [
        {
          "name": "stdout",
          "output_type": "stream",
          "text": [
            "target 클래스의 값과 분포도 \n",
            " 0     799\n",
            "1     973\n",
            "2     985\n",
            "3     982\n",
            "4     963\n",
            "5     988\n",
            "6     975\n",
            "7     990\n",
            "8     996\n",
            "9     994\n",
            "10    999\n",
            "11    991\n",
            "12    984\n",
            "13    990\n",
            "14    987\n",
            "15    997\n",
            "16    910\n",
            "17    940\n",
            "18    775\n",
            "19    628\n",
            "Name: count, dtype: int64\n",
            "target 클래스의 이름들 \n",
            " ['alt.atheism', 'comp.graphics', 'comp.os.ms-windows.misc', 'comp.sys.ibm.pc.hardware', 'comp.sys.mac.hardware', 'comp.windows.x', 'misc.forsale', 'rec.autos', 'rec.motorcycles', 'rec.sport.baseball', 'rec.sport.hockey', 'sci.crypt', 'sci.electronics', 'sci.med', 'sci.space', 'soc.religion.christian', 'talk.politics.guns', 'talk.politics.mideast', 'talk.politics.misc', 'talk.religion.misc']\n"
          ]
        }
      ],
      "source": [
        "import pandas as pd\n",
        "\n",
        "print('target 클래스의 값과 분포도 \\n', pd.Series(news_data.target).value_counts().sort_index())\n",
        "print('target 클래스의 이름들 \\n', news_data.target_names)"
      ]
    },
    {
      "cell_type": "markdown",
      "metadata": {
        "id": "l7yjD6QsNlt1"
      },
      "source": [
        "Target 클래스의 값은 0부터 19까지 20개로 구성돼 있으며, 위의 출력 결과처럼 주어졌다. - ex. Target 값 0 : alt.atheism, Target 값 1 : comp.graphics 개별 데이터가 텍스트로 어떻게 구성돼 있는지 보기 위해 데이터를 한 개만 추출해 값을 확인한다."
      ]
    },
    {
      "cell_type": "code",
      "execution_count": null,
      "metadata": {
        "colab": {
          "base_uri": "https://localhost:8080/"
        },
        "id": "txZhx5pXN6x6",
        "outputId": "b5f067d5-f0e8-4963-9c4c-a1e86620d671"
      },
      "outputs": [
        {
          "name": "stdout",
          "output_type": "stream",
          "text": [
            "From: egreen@east.sun.com (Ed Green - Pixel Cruncher)\n",
            "Subject: Re: Observation re: helmets\n",
            "Organization: Sun Microsystems, RTP, NC\n",
            "Lines: 21\n",
            "Distribution: world\n",
            "Reply-To: egreen@east.sun.com\n",
            "NNTP-Posting-Host: laser.east.sun.com\n",
            "\n",
            "In article 211353@mavenry.altcit.eskimo.com, maven@mavenry.altcit.eskimo.com (Norman Hamer) writes:\n",
            "> \n",
            "> The question for the day is re: passenger helmets, if you don't know for \n",
            ">certain who's gonna ride with you (like say you meet them at a .... church \n",
            ">meeting, yeah, that's the ticket)... What are some guidelines? Should I just \n",
            ">pick up another shoei in my size to have a backup helmet (XL), or should I \n",
            ">maybe get an inexpensive one of a smaller size to accomodate my likely \n",
            ">passenger? \n",
            "\n",
            "If your primary concern is protecting the passenger in the event of a\n",
            "crash, have him or her fitted for a helmet that is their size.  If your\n",
            "primary concern is complying with stupid helmet laws, carry a real big\n",
            "spare (you can put a big or small head in a big helmet, but not in a\n",
            "small one).\n",
            "\n",
            "---\n",
            "Ed Green, former Ninjaite |I was drinking last night with a biker,\n",
            "  Ed.Green@East.Sun.COM   |and I showed him a picture of you.  I said,\n",
            "DoD #0111  (919)460-8302  |\"Go on, get to know her, you'll like her!\"\n",
            " (The Grateful Dead) -->  |It seemed like the least I could do...\n",
            "\n",
            "\n"
          ]
        }
      ],
      "source": [
        "print(news_data.data[0])"
      ]
    },
    {
      "cell_type": "markdown",
      "metadata": {
        "id": "0X6j6NC-N_Qe"
      },
      "source": [
        "뉴스그룹 기사의 내용, 뉴스그룹 제목, 작성자, 소속, 이메일 등 다양한 정보를 담고 있다. 이 중 내용을 제외한 다른 정보는 제거한다. 제목과 소속, 이메일 주소 등의 헤더와 푸터 정보들은 뉴스그룹 분류의 Target 클래스 값과 유사한 데이터를 가지고 있는 경우가 많기 때문이다. 이 피처들을 포함하게 되면 웬만한 ML 알고리즘을 적용해도 예측 성능이 상당히 높게 나올 것이다.\n",
        "\n",
        "remove 파라미터를 이용하면 뉴스그룹 기사의 헤더(header), 푸터(footer) 등을 제거할 수 있다. `fetch_20newsgroups()`는 subset 파라미터를 이용해 학습 데이터 세트와 테스트 데이터 세트를 분리해 내려받을 수 있다."
      ]
    },
    {
      "cell_type": "code",
      "execution_count": null,
      "metadata": {
        "colab": {
          "base_uri": "https://localhost:8080/"
        },
        "id": "f9Uuy2GWOhHL",
        "outputId": "98bec9a1-79ef-442c-d002-a16b292cea11"
      },
      "outputs": [
        {
          "name": "stdout",
          "output_type": "stream",
          "text": [
            "학습 데이터 크기 11314, 테스트 데이터 크기 7532\n"
          ]
        }
      ],
      "source": [
        "from sklearn.datasets import fetch_20newsgroups\n",
        "\n",
        "# subset='train'으로 학습용 데이터만 추출. remove=('headers', footers', 'quotes')로 내용만 추출\n",
        "train_news=fetch_20newsgroups(subset='train', remove=('headers', 'footers', 'quotes'), random_state=156)\n",
        "X_train=train_news.data\n",
        "y_train=train_news.target\n",
        "\n",
        "# subset='test'로 테스트 데이터만 추출. remove=('headers', 'footers', 'quotes')로 내용만 추출\n",
        "test_news=fetch_20newsgroups(subset='test', remove=('headers', 'footers', 'quotes'), random_state=156)\n",
        "X_test=test_news.data\n",
        "y_test=test_news.target\n",
        "print('학습 데이터 크기 {0}, 테스트 데이터 크기 {1}'.format(len(train_news.data), len(test_news.data)))"
      ]
    },
    {
      "cell_type": "markdown",
      "metadata": {
        "id": "s6IIbQCgPTB7"
      },
      "source": [
        "**2. 피처 벡터화 변환과 머신러닝 모델 학습/예측/평가**\n",
        "\n",
        "학습 데이터와 테스트 데이터 모두 리스트 형태로 주어졌다. CountVectorizer를 이용해 학습 데이터의 텍스트를 피처 벡터화한다. 테스트 데이터를 피처 벡터화를 수행할 때는 반드시 학습 데이터를 이용해 `fit()`이 수행된 CountVectorizer 객체를 이용해 테스트 데이터를 변환(transform)해야 한다. 이렇게 변환했을 때 학습 시 설정된 CountVectorizer 피처 개수와 테스트 데이터를 CountVectorizer로 변환할 피처 개수가 같아진다. -> `fit_transform()` 사용하지 않는다."
      ]
    },
    {
      "cell_type": "code",
      "execution_count": null,
      "metadata": {
        "colab": {
          "base_uri": "https://localhost:8080/"
        },
        "id": "r5Jg1PLlPSZT",
        "outputId": "012a0162-4f20-4542-e455-dec4214ad9ea"
      },
      "outputs": [
        {
          "name": "stdout",
          "output_type": "stream",
          "text": [
            "학습 데이터 텍스트의 CountVectorizer Shape : (11314, 101631)\n"
          ]
        }
      ],
      "source": [
        "from sklearn.feature_extraction.text import CountVectorizer\n",
        "\n",
        "# Count Vectorization으로 피처 벡터화 변환\n",
        "cnt_vect=CountVectorizer()\n",
        "cnt_vect.fit(X_train)\n",
        "X_train_cnt_vect=cnt_vect.transform(X_train)\n",
        "\n",
        "# 학습 데이터로 fit()된 CountVectorizer를 이용해 테스트 데이터를 피처 벡터화 변환\n",
        "X_test_cnt_vect=cnt_vect.transform(X_test)\n",
        "\n",
        "print('학습 데이터 텍스트의 CountVectorizer Shape :', X_train_cnt_vect.shape)"
      ]
    },
    {
      "cell_type": "markdown",
      "metadata": {
        "id": "7wyS_--ySciz"
      },
      "source": [
        "11314개의 문서에서 피처(단어)가 101631개로 만들어졌다.\n",
        "\n",
        "피처 벡터화된 데이터에 로지스틱 회귀를 적용해 뉴스그룹에 대한 분류를 예측한다."
      ]
    },
    {
      "cell_type": "code",
      "execution_count": null,
      "metadata": {
        "colab": {
          "base_uri": "https://localhost:8080/"
        },
        "id": "-QDmyKvPSl8m",
        "outputId": "c0d7672c-ae93-4524-a9e4-694c8dc860f5"
      },
      "outputs": [
        {
          "name": "stdout",
          "output_type": "stream",
          "text": [
            "CountverVectorized Logistic Regression의 예측 정확도는 0.617\n"
          ]
        }
      ],
      "source": [
        "from sklearn.linear_model import LogisticRegression\n",
        "from sklearn.metrics import accuracy_score\n",
        "import warnings\n",
        "warnings.filterwarnings('ignore')\n",
        "\n",
        "# LogisticRegression을 이용하여 학습/예측/평가 수행\n",
        "lr_clf=LogisticRegression(solver='liblinear')\n",
        "lr_clf.fit(X_train_cnt_vect, y_train)\n",
        "pred=lr_clf.predict(X_test_cnt_vect)\n",
        "print('CountverVectorized Logistic Regression의 예측 정확도는 {0:.3f}'.format(accuracy_score(y_test, pred)))"
      ]
    },
    {
      "cell_type": "markdown",
      "metadata": {
        "id": "QJ4oytv7TCbK"
      },
      "source": [
        "Count 기반으로 피처 벡터화가 적용된 데이터 세트에 대한 로지스틱 회귀의 예측 정도는 약 0.616이다.\n",
        "\n",
        "TF-IDF 기반으로 벡터화를 변경해 예측 모델을 수행한다."
      ]
    },
    {
      "cell_type": "code",
      "execution_count": null,
      "metadata": {
        "colab": {
          "base_uri": "https://localhost:8080/"
        },
        "id": "oBFrtbz0TBzX",
        "outputId": "32910bc9-6216-41c0-f2aa-8200daf10167"
      },
      "outputs": [
        {
          "name": "stdout",
          "output_type": "stream",
          "text": [
            "TF-IDF Logistic Regression의 예측 정확도는 0.678\n"
          ]
        }
      ],
      "source": [
        "from sklearn.feature_extraction.text import TfidfVectorizer\n",
        "\n",
        "# TF-IDF 벡터화를 적용해 학습 데이터 세트와 테스트 데이터 세트 반환\n",
        "tfidf_vect=TfidfVectorizer()\n",
        "tfidf_vect.fit(X_train)\n",
        "X_train_tfidf_vect=tfidf_vect.transform(X_train)\n",
        "X_test_tfidf_vect=tfidf_vect.transform(X_test)\n",
        "\n",
        "# LogisticRegression을 이용해 학습/예측/평가 수행\n",
        "lr_clf=LogisticRegression(solver='liblinear')\n",
        "lr_clf.fit(X_train_tfidf_vect, y_train)\n",
        "pred=lr_clf.predict(X_test_tfidf_vect)\n",
        "print('TF-IDF Logistic Regression의 예측 정확도는 {0:.3f}'.format(accuracy_score(y_test, pred)))"
      ]
    },
    {
      "cell_type": "markdown",
      "metadata": {
        "id": "tBISJqixWpBl"
      },
      "source": [
        "TF-IDF가 단순 카운트 기반보다 훨씬 높은 예측 정확도를 제공한다. 일반적으로 문서 내에 텍스트가 많고, 많은 문서를 가지는 텍스트 분석에서 카운트 벡터화보다는 TF-IDF 벡터화가 좋은 예측 결과를 도출한다.\n",
        "\n",
        "텍스트 분석에서 머신러닝 모델의 성능을 향상시키는 2가지 방법 : 최적의 ML 알고리즘 선택, 최상의 피처 전처리 수행\n",
        "\n",
        "즉, 텍스트 정규화나 Count/TF-IDF 기반 피처 벡터화를 어떻게 효과적으로 적용했는지가 텍스트 기반의 머신러닝 성능에 큰 영향을 미칠 수 있다.\n",
        "\n",
        "다양한 파라미터 적용\n",
        "1. TfidfVectorizer 클래스의 스톱 워드를 기존 'None'에서 'english'로 변경\n",
        "2. ngram_range는 기존 (1, 1)에서 (1, 2)로 변경\n",
        "3. `max_df=300`"
      ]
    },
    {
      "cell_type": "code",
      "execution_count": null,
      "metadata": {
        "colab": {
          "base_uri": "https://localhost:8080/"
        },
        "id": "V6AnAytQXVJQ",
        "outputId": "038c0dec-8aad-42dc-a9f2-d327929df1bf"
      },
      "outputs": [
        {
          "name": "stdout",
          "output_type": "stream",
          "text": [
            "TF-IDF Vectorized Logistic Regression의 예측 정확도는 0.690\n"
          ]
        }
      ],
      "source": [
        "# stop words 필터링을 추가하고 ngram을 기본 (1, 1)에서 (1, 2)로 변경해 피처 벡터화 적용\n",
        "tfidf_vect=TfidfVectorizer(stop_words='english', ngram_range=(1, 2), max_df=300)\n",
        "tfidf_vect.fit(X_train)\n",
        "X_train_tfidf_vect=tfidf_vect.transform(X_train)\n",
        "X_test_tfidf_vect=tfidf_vect.transform(X_test)\n",
        "\n",
        "lr_clf=LogisticRegression(solver='liblinear')\n",
        "lr_clf.fit(X_train_tfidf_vect, y_train)\n",
        "pred=lr_clf.predict(X_test_tfidf_vect)\n",
        "print('TF-IDF Vectorized Logistic Regression의 예측 정확도는 {0:.3f}'.format(accuracy_score(y_test, pred)))"
      ]
    },
    {
      "cell_type": "markdown",
      "metadata": {
        "id": "2MDEEGSvX6pN"
      },
      "source": [
        "GridSearchCV를 이용해 로지스틱 회귀의 하이퍼 파라미터 최적화를 수행해 보자. 로지스틱 회귀의 C 파라미터만 변경하면서 최적의 C 값을 찾은 뒤 이 C 값으로 학습된 모델에서 테스트 데이터로 예측해 성능을 평가한다."
      ]
    },
    {
      "cell_type": "code",
      "execution_count": null,
      "metadata": {
        "colab": {
          "base_uri": "https://localhost:8080/"
        },
        "id": "zv8UYpEhYFE1",
        "outputId": "50a622c5-26cc-4e81-cb4d-9feed1b9d582"
      },
      "outputs": [
        {
          "name": "stdout",
          "output_type": "stream",
          "text": [
            "Fitting 3 folds for each of 5 candidates, totalling 15 fits\n",
            "Logistic Regression best C parameter : {'C': 10}\n",
            "TF-IDF Vectorized Logistic Regression의 예측 정확도는 0.704\n"
          ]
        }
      ],
      "source": [
        "from sklearn.model_selection import GridSearchCV\n",
        "\n",
        "# 최적 C 값 도출 튜닝 수행. CV는 3 폴드 세트로 설정\n",
        "params={'C' : [0.01, 0.1, 1, 5, 10]}\n",
        "grid_cv_lr=GridSearchCV(lr_clf, param_grid=params, cv=3, scoring='accuracy', verbose=1)\n",
        "grid_cv_lr.fit(X_train_tfidf_vect, y_train)\n",
        "print('Logistic Regression best C parameter :', grid_cv_lr.best_params_)\n",
        "\n",
        "# 최적 C 값으로 학습된 grid_cv로 예측 및 정확도 평가\n",
        "pred=grid_cv_lr.predict(X_test_tfidf_vect)\n",
        "print('TF-IDF Vectorized Logistic Regression의 예측 정확도는 {0:.3f}'.format(accuracy_score(y_test, pred)))"
      ]
    },
    {
      "cell_type": "markdown",
      "metadata": {
        "id": "TjbN7d-pYvc6"
      },
      "source": [
        "로지스틱 회귀의 C가 10일 때 GridSearchCV의 교차 검증 테스트 세트에서 가장 좋은 예측 성능을 나타냈으며, 이를 테스트 데이터 세트에 적용하면 이전보다 약간 향상된 성능 수치인 0.704가 나타난다."
      ]
    },
    {
      "cell_type": "markdown",
      "metadata": {
        "id": "pwoiERvxY-0S"
      },
      "source": [
        "**3. 사이킷런 파이프라인 사용 및 GridSearchCV와의 결합**\n",
        "\n",
        "사이킷런의 Pipeline 클래스를 이용하면 피처 벡터화와 ML 알고리즘 학습/예측을 위한 코드 작성을 한 번에 진행할 수 있다.\n",
        "\n",
        "Pipeline : 데이터의 가공, 변환 등의 전처리와 알고리즘 적용을 마치 '수도관에서 물이 흐르듯' 한 번에 스트림 기반으로 처리한다는 의미이다.\n",
        "1. 데이터의 전처리와 머신러닝 학습 과정을 통일된 API 기반에서 처리할 수 있어 더 직관적인 ML 모델 코드를 생성할 수 있다.\n",
        "3. 대용량 데이터의 피처 벡터화 결과를 별도 데이터로 저장하지 않고 스트림 기반에서 바로 머신러닝 알고리즘의 데이터로 입력할 수 있기 때문에 수행 시간을 절약할 수 있다.\n",
        "\n",
        "일반적으로 사이킷런 파이프라인 텍스트 기반의 피처 벡터화뿐만 아니라 모든 데이터 전처리 작업과 Estimator를 결합할 수 있다. 예를 들어 스케일링 또는 벡터 정규화, PCA 등의 변환 작업과 분류, 회귀 등의 Estimator를 한 번에 결합할 수 있다."
      ]
    },
    {
      "cell_type": "code",
      "execution_count": null,
      "metadata": {
        "id": "F73zHrfXZGUw"
      },
      "outputs": [],
      "source": [
        "pipeline=Pipeline([('tfidf_vect', TfidfVectorizer(stop_words='english')), ('lr_clf', LogisticRegression(random_state=156))])"
      ]
    },
    {
      "cell_type": "markdown",
      "metadata": {
        "id": "hKMUujaBaCkV"
      },
      "source": [
        "-> TfidfVectorizer 객체를 tfidf_vect라는 객체 변수명으로, LogisticRegression 객체를 lr_clf라는 객체 변수명으로 생성한 뒤 이 두개의 객체를 파이프라인으로 연결하는 Pipeline 객체 pipeline을 생성한다.\n",
        "\n",
        "기존 TfidfVectorizer의 학습 데이터와 테스트 데이터에 대한 `fit()`과 `transform()` 수행을 통한 피처 벡터화와 LogisticRegressor의 `fit()`과 `predict()` 수행을 통한 머신러닝 모델의 학습과 예측이 Pipeline의 `fit()`과 `predict()`로 통일돼 수행됨을 알 수 있다."
      ]
    },
    {
      "cell_type": "code",
      "execution_count": null,
      "metadata": {
        "colab": {
          "base_uri": "https://localhost:8080/"
        },
        "id": "OFNBJTCvaoDH",
        "outputId": "18e45e6f-d3f0-4168-cff0-272895b07053"
      },
      "outputs": [
        {
          "name": "stdout",
          "output_type": "stream",
          "text": [
            "Pipeline을 통한 Logistic Regression의 예측 정확도는 0.704\n"
          ]
        }
      ],
      "source": [
        "from sklearn.pipeline import Pipeline\n",
        "\n",
        "# TfidfVectorizer 객체를 tfidf_vect로, LogisticRegression 객체를 lr_clf로 생성하는 Pipeline 생성\n",
        "pipeline=Pipeline([\n",
        "    ('tfidf_vect', TfidfVectorizer(stop_words='english', ngram_range=(1, 2), max_df=300)),\n",
        "    ('lr_clf', LogisticRegression(solver='liblinear', C=10))\n",
        "])\n",
        "\n",
        "# 별도의 TfidfVectorizer 객체의 fit(), transform()과 LogisticRegression의 fit(), predict()가 필요 없음.\n",
        "# Pipeline의 fit()과 predict()만으로 한꺼번에 피처 벡터화와 ML 학습/예측 가능.\n",
        "pipeline.fit(X_train, y_train)\n",
        "pred=pipeline.predict(X_test)\n",
        "print('Pipeline을 통한 Logistic Regression의 예측 정확도는 {0:.3f}'.format(accuracy_score(y_test, pred)))"
      ]
    },
    {
      "cell_type": "markdown",
      "metadata": {
        "id": "Zq_jCWpZbYR-"
      },
      "source": [
        "사이킷런은 GridSearchCV 클래스의 생성 파라미터로 Pipeline을 입력해 Pipeline 기반에서도 하이퍼 파라미터 튜닝을 GridSearchCV 방식으로 진행할 수 있게 지원한다. 이렇게 하면 피처 벡터화를 위한 파라미터와 ML 알고리즘의 하이퍼 파라미터를 모두 한 번에 GridSearchCV를 이용해 최적화할 수 있다.\n",
        "\n",
        "GridSearchCV에 Pipeline을 입력하면서 TfidfVectorizer의 파라미터 LogisticRegression의 하이퍼 파라미터를 함께 최적화한다.\n",
        "\n",
        "GridSearchCV에 Pipeline을 입력할 경우\n",
        "* param_grid의 입력값 설정은 딕셔너리 형태의 Key와 Value 값을 가진다.\n",
        "* Value를 리스트 형태로 입력한다.\n",
        "* Key 값으로 'tfidf_vect__ngram_range'와 같이 하이퍼 파라미터명이 객체 변수명과 결합돼 제공된다.\n",
        "  * Pipeline을 GridSearchCV에 인자로 입력하면 GridSearchCV는 Pipeline을 구성하는 피처 벡터화 객체의 파라미터와 Estimator 객체의 하이퍼 파라미터를 각각 구별할 수 있어야 하는데, 이때 개별 객체 명과 파라미터명/하이퍼 파라미터명을 결합해 Key 값으로 할당한다.\n",
        "  * 가령 TfidfVectorizer 객체 변수인 tfidf_vect의 ngram_range 파라미터 값을 변화시키면서 최적화하기를 원한다면 객체 변수명인 tfidf_vect에 언더바 2개를 연달아 붙인 뒤 파라미터명인 ngram_range를 결합해 'tfidf_vect__ngram_range'를 Key 값으로 할당한다.\n",
        "\n",
        "Pipeline + GridSearchCV를 적용할 때 유의할 점은 파라미터를 모두 최적화하려면 많은 튜닝 시간이 소모된다는 점이다. 피처 벡터화에 사용되는 파라미터와 GridSearchCV 하이퍼 파라미터를 합치면 최적화를 위한 많은 경우의 수가 발생하기 쉽다."
      ]
    },
    {
      "cell_type": "code",
      "execution_count": null,
      "metadata": {
        "colab": {
          "base_uri": "https://localhost:8080/"
        },
        "id": "Tk2oug89d5aF",
        "outputId": "42e8ae33-ebec-4837-c9a6-e736059f9dad"
      },
      "outputs": [
        {
          "name": "stdout",
          "output_type": "stream",
          "text": [
            "Fitting 3 folds for each of 27 candidates, totalling 81 fits\n",
            "{'lr_clf__C': 10, 'tfidf_vect__max_df': 300, 'tfidf_vect__ngram_range': (1, 2)} 0.7533152393023013\n",
            "Pipeline을 통한 Logistic Regression의 예측 정확도는 0.701\n"
          ]
        }
      ],
      "source": [
        "from sklearn.pipeline import Pipeline\n",
        "\n",
        "pipeline=Pipeline([('tfidf_vect', TfidfVectorizer(stop_words='english')),\n",
        "                   ('lr_clf', LogisticRegression())\n",
        "                   ])\n",
        "\n",
        "# Pipeline에 기술된 각각의 객체 변수에 언더바 2개를 연달아 붙여 GridSearchCV에 사용될 파라미터/하이퍼 파라미터 이름과 값을 설정\n",
        "params={'tfidf_vect__ngram_range' : [(1, 1), (1, 2), (1, 3)],\n",
        "        'tfidf_vect__max_df' : [100, 300, 700],\n",
        "        'lr_clf__C' : [1, 5, 10]\n",
        "        }\n",
        "\n",
        "# GridSearchCV의 생성자에 Estimator가 아닌 Pipeline 객체 입력\n",
        "grid_cv_pipe=GridSearchCV(pipeline, param_grid=params, cv=3, scoring='accuracy', verbose=1)\n",
        "grid_cv_pipe.fit(X_train, y_train)\n",
        "print(grid_cv_pipe.best_params_, grid_cv_pipe.best_score_)\n",
        "\n",
        "pred=grid_cv_pipe.predict(X_test)\n",
        "print('Pipeline을 통한 Logistic Regression의 예측 정확도는 {0:.3f}'.format(accuracy_score(y_test, pred)))"
      ]
    },
    {
      "cell_type": "markdown",
      "metadata": {
        "id": "2wKjoyLvfGtx"
      },
      "source": [
        "TfidfVectorizer 객체의 max_df 파라미터가 700, ngram_range 파라미터가 (1, 2)로 피처 벡터화된 데이터 세트에 LogisticRegression의 C 하이퍼 파라미터에 10을 적용해 예측 분류를 수행할 때 가장 좋은 검증 세트 성능 수치가 도출됐다. 아쉽게도 이렇게 최적화된 파라미터를 기반으로 테스트 데이터 세트에 대해 예측했을 때의 정확도는 약 0.702로 크게 개선되지는 않았다.\n",
        "\n",
        "로지스틱 회귀 외에 서포트 벡터머신와 나이브 베이즈 알고리즘도 희소 행렬 기반의 텍스트 분류에 자주 사용되는 머신러닝 알고리즘이다."
      ]
    },
    {
      "cell_type": "markdown",
      "metadata": {
        "id": "IBN470UhfiBQ"
      },
      "source": [
        "## **05. 감성분석**\n",
        "감성 분석 : 텍스트에서 나타나는 감정/판단/믿음/의견/기분 등의 주관적인 요소를 분석하는 기법. 소셜 미디어 감정 분석, 영화나 제품에 대한 긍정, 리뷰나 여론조사 의견 분석. 텍스트 분석에서 가장 활발하게 사용되고 있는 분야. 지도학습, 비지도 학습 적용\n",
        "* 문서 내 텍스트가 나타내는 여러 가지 주관적인 단어와 문맥을 기반으로 감성 수치를 계산하는 방법을 사용한다. 감성 지수는 긍정 감성 지수와 부정 감성 지수로 구성되며 이들 지수를 합산해 긍정 감성 또는 부정 감성을 결정한다.\n",
        "  * 지도학습 : 학습 데이터와 타깃 레이블 값을 기반으로 감성 분석 학습을 수행한 뒤 이를 기반으로 다른 데이터의 감성 분석을 예측하는 방법으로 일반적인 텍스트 기반의 분류와 거의 동일하다.\n",
        "  * 비지도학습 : 'Lexicon'이라는 일종의 감성 어휘 사전을 이용한다. Lexicon은 감성 분석을 위한 용어와 문맥에 대한 다양한 정보를 가지고 있으며, 이를 이용해 문서의 긍정적, 부정적 감성 여부를 판단한다."
      ]
    },
    {
      "cell_type": "markdown",
      "metadata": {
        "id": "PJuoBchjgJ-J"
      },
      "source": [
        "### **1. 지도학습 기반 감성 분석 실습 - IMDB 영화평**\n",
        "지도학습 기반 감성 분석(텍스트 기반의 이진 분류) :\n",
        "영화평의 텍스트를 분석해 감성 분석 결과가 긍정인지 부정인지 예측하는 모델을 만든다."
      ]
    },
    {
      "cell_type": "code",
      "execution_count": 1,
      "metadata": {
        "colab": {
          "base_uri": "https://localhost:8080/"
        },
        "id": "lqEpko-FhXQN",
        "outputId": "e65d9906-345a-4c6c-c41d-1e3ba6534dd3"
      },
      "outputs": [
        {
          "output_type": "stream",
          "name": "stdout",
          "text": [
            "Mounted at /content/drive\n"
          ]
        }
      ],
      "source": [
        "from google.colab import drive\n",
        "drive.mount('/content/drive')"
      ]
    },
    {
      "cell_type": "code",
      "execution_count": 2,
      "metadata": {
        "colab": {
          "base_uri": "https://localhost:8080/",
          "height": 143
        },
        "id": "E_dCe6vmhhVL",
        "outputId": "861fd325-a577-4bcd-9336-a6e163fa24da"
      },
      "outputs": [
        {
          "output_type": "execute_result",
          "data": {
            "text/plain": [
              "         id  sentiment                                             review\n",
              "0  \"5814_8\"          1  \"With all this stuff going down at the moment ...\n",
              "1  \"2381_9\"          1  \"\\\"The Classic War of the Worlds\\\" by Timothy ...\n",
              "2  \"7759_3\"          0  \"The film starts with a manager (Nicholas Bell..."
            ],
            "text/html": [
              "\n",
              "  <div id=\"df-71dc7a02-402b-4cfb-9c4f-3420b43af1d8\" class=\"colab-df-container\">\n",
              "    <div>\n",
              "<style scoped>\n",
              "    .dataframe tbody tr th:only-of-type {\n",
              "        vertical-align: middle;\n",
              "    }\n",
              "\n",
              "    .dataframe tbody tr th {\n",
              "        vertical-align: top;\n",
              "    }\n",
              "\n",
              "    .dataframe thead th {\n",
              "        text-align: right;\n",
              "    }\n",
              "</style>\n",
              "<table border=\"1\" class=\"dataframe\">\n",
              "  <thead>\n",
              "    <tr style=\"text-align: right;\">\n",
              "      <th></th>\n",
              "      <th>id</th>\n",
              "      <th>sentiment</th>\n",
              "      <th>review</th>\n",
              "    </tr>\n",
              "  </thead>\n",
              "  <tbody>\n",
              "    <tr>\n",
              "      <th>0</th>\n",
              "      <td>\"5814_8\"</td>\n",
              "      <td>1</td>\n",
              "      <td>\"With all this stuff going down at the moment ...</td>\n",
              "    </tr>\n",
              "    <tr>\n",
              "      <th>1</th>\n",
              "      <td>\"2381_9\"</td>\n",
              "      <td>1</td>\n",
              "      <td>\"\\\"The Classic War of the Worlds\\\" by Timothy ...</td>\n",
              "    </tr>\n",
              "    <tr>\n",
              "      <th>2</th>\n",
              "      <td>\"7759_3\"</td>\n",
              "      <td>0</td>\n",
              "      <td>\"The film starts with a manager (Nicholas Bell...</td>\n",
              "    </tr>\n",
              "  </tbody>\n",
              "</table>\n",
              "</div>\n",
              "    <div class=\"colab-df-buttons\">\n",
              "\n",
              "  <div class=\"colab-df-container\">\n",
              "    <button class=\"colab-df-convert\" onclick=\"convertToInteractive('df-71dc7a02-402b-4cfb-9c4f-3420b43af1d8')\"\n",
              "            title=\"Convert this dataframe to an interactive table.\"\n",
              "            style=\"display:none;\">\n",
              "\n",
              "  <svg xmlns=\"http://www.w3.org/2000/svg\" height=\"24px\" viewBox=\"0 -960 960 960\">\n",
              "    <path d=\"M120-120v-720h720v720H120Zm60-500h600v-160H180v160Zm220 220h160v-160H400v160Zm0 220h160v-160H400v160ZM180-400h160v-160H180v160Zm440 0h160v-160H620v160ZM180-180h160v-160H180v160Zm440 0h160v-160H620v160Z\"/>\n",
              "  </svg>\n",
              "    </button>\n",
              "\n",
              "  <style>\n",
              "    .colab-df-container {\n",
              "      display:flex;\n",
              "      gap: 12px;\n",
              "    }\n",
              "\n",
              "    .colab-df-convert {\n",
              "      background-color: #E8F0FE;\n",
              "      border: none;\n",
              "      border-radius: 50%;\n",
              "      cursor: pointer;\n",
              "      display: none;\n",
              "      fill: #1967D2;\n",
              "      height: 32px;\n",
              "      padding: 0 0 0 0;\n",
              "      width: 32px;\n",
              "    }\n",
              "\n",
              "    .colab-df-convert:hover {\n",
              "      background-color: #E2EBFA;\n",
              "      box-shadow: 0px 1px 2px rgba(60, 64, 67, 0.3), 0px 1px 3px 1px rgba(60, 64, 67, 0.15);\n",
              "      fill: #174EA6;\n",
              "    }\n",
              "\n",
              "    .colab-df-buttons div {\n",
              "      margin-bottom: 4px;\n",
              "    }\n",
              "\n",
              "    [theme=dark] .colab-df-convert {\n",
              "      background-color: #3B4455;\n",
              "      fill: #D2E3FC;\n",
              "    }\n",
              "\n",
              "    [theme=dark] .colab-df-convert:hover {\n",
              "      background-color: #434B5C;\n",
              "      box-shadow: 0px 1px 3px 1px rgba(0, 0, 0, 0.15);\n",
              "      filter: drop-shadow(0px 1px 2px rgba(0, 0, 0, 0.3));\n",
              "      fill: #FFFFFF;\n",
              "    }\n",
              "  </style>\n",
              "\n",
              "    <script>\n",
              "      const buttonEl =\n",
              "        document.querySelector('#df-71dc7a02-402b-4cfb-9c4f-3420b43af1d8 button.colab-df-convert');\n",
              "      buttonEl.style.display =\n",
              "        google.colab.kernel.accessAllowed ? 'block' : 'none';\n",
              "\n",
              "      async function convertToInteractive(key) {\n",
              "        const element = document.querySelector('#df-71dc7a02-402b-4cfb-9c4f-3420b43af1d8');\n",
              "        const dataTable =\n",
              "          await google.colab.kernel.invokeFunction('convertToInteractive',\n",
              "                                                    [key], {});\n",
              "        if (!dataTable) return;\n",
              "\n",
              "        const docLinkHtml = 'Like what you see? Visit the ' +\n",
              "          '<a target=\"_blank\" href=https://colab.research.google.com/notebooks/data_table.ipynb>data table notebook</a>'\n",
              "          + ' to learn more about interactive tables.';\n",
              "        element.innerHTML = '';\n",
              "        dataTable['output_type'] = 'display_data';\n",
              "        await google.colab.output.renderOutput(dataTable, element);\n",
              "        const docLink = document.createElement('div');\n",
              "        docLink.innerHTML = docLinkHtml;\n",
              "        element.appendChild(docLink);\n",
              "      }\n",
              "    </script>\n",
              "  </div>\n",
              "\n",
              "\n",
              "<div id=\"df-5126f347-712a-4092-9616-7836f2b660a4\">\n",
              "  <button class=\"colab-df-quickchart\" onclick=\"quickchart('df-5126f347-712a-4092-9616-7836f2b660a4')\"\n",
              "            title=\"Suggest charts\"\n",
              "            style=\"display:none;\">\n",
              "\n",
              "<svg xmlns=\"http://www.w3.org/2000/svg\" height=\"24px\"viewBox=\"0 0 24 24\"\n",
              "     width=\"24px\">\n",
              "    <g>\n",
              "        <path d=\"M19 3H5c-1.1 0-2 .9-2 2v14c0 1.1.9 2 2 2h14c1.1 0 2-.9 2-2V5c0-1.1-.9-2-2-2zM9 17H7v-7h2v7zm4 0h-2V7h2v10zm4 0h-2v-4h2v4z\"/>\n",
              "    </g>\n",
              "</svg>\n",
              "  </button>\n",
              "\n",
              "<style>\n",
              "  .colab-df-quickchart {\n",
              "      --bg-color: #E8F0FE;\n",
              "      --fill-color: #1967D2;\n",
              "      --hover-bg-color: #E2EBFA;\n",
              "      --hover-fill-color: #174EA6;\n",
              "      --disabled-fill-color: #AAA;\n",
              "      --disabled-bg-color: #DDD;\n",
              "  }\n",
              "\n",
              "  [theme=dark] .colab-df-quickchart {\n",
              "      --bg-color: #3B4455;\n",
              "      --fill-color: #D2E3FC;\n",
              "      --hover-bg-color: #434B5C;\n",
              "      --hover-fill-color: #FFFFFF;\n",
              "      --disabled-bg-color: #3B4455;\n",
              "      --disabled-fill-color: #666;\n",
              "  }\n",
              "\n",
              "  .colab-df-quickchart {\n",
              "    background-color: var(--bg-color);\n",
              "    border: none;\n",
              "    border-radius: 50%;\n",
              "    cursor: pointer;\n",
              "    display: none;\n",
              "    fill: var(--fill-color);\n",
              "    height: 32px;\n",
              "    padding: 0;\n",
              "    width: 32px;\n",
              "  }\n",
              "\n",
              "  .colab-df-quickchart:hover {\n",
              "    background-color: var(--hover-bg-color);\n",
              "    box-shadow: 0 1px 2px rgba(60, 64, 67, 0.3), 0 1px 3px 1px rgba(60, 64, 67, 0.15);\n",
              "    fill: var(--button-hover-fill-color);\n",
              "  }\n",
              "\n",
              "  .colab-df-quickchart-complete:disabled,\n",
              "  .colab-df-quickchart-complete:disabled:hover {\n",
              "    background-color: var(--disabled-bg-color);\n",
              "    fill: var(--disabled-fill-color);\n",
              "    box-shadow: none;\n",
              "  }\n",
              "\n",
              "  .colab-df-spinner {\n",
              "    border: 2px solid var(--fill-color);\n",
              "    border-color: transparent;\n",
              "    border-bottom-color: var(--fill-color);\n",
              "    animation:\n",
              "      spin 1s steps(1) infinite;\n",
              "  }\n",
              "\n",
              "  @keyframes spin {\n",
              "    0% {\n",
              "      border-color: transparent;\n",
              "      border-bottom-color: var(--fill-color);\n",
              "      border-left-color: var(--fill-color);\n",
              "    }\n",
              "    20% {\n",
              "      border-color: transparent;\n",
              "      border-left-color: var(--fill-color);\n",
              "      border-top-color: var(--fill-color);\n",
              "    }\n",
              "    30% {\n",
              "      border-color: transparent;\n",
              "      border-left-color: var(--fill-color);\n",
              "      border-top-color: var(--fill-color);\n",
              "      border-right-color: var(--fill-color);\n",
              "    }\n",
              "    40% {\n",
              "      border-color: transparent;\n",
              "      border-right-color: var(--fill-color);\n",
              "      border-top-color: var(--fill-color);\n",
              "    }\n",
              "    60% {\n",
              "      border-color: transparent;\n",
              "      border-right-color: var(--fill-color);\n",
              "    }\n",
              "    80% {\n",
              "      border-color: transparent;\n",
              "      border-right-color: var(--fill-color);\n",
              "      border-bottom-color: var(--fill-color);\n",
              "    }\n",
              "    90% {\n",
              "      border-color: transparent;\n",
              "      border-bottom-color: var(--fill-color);\n",
              "    }\n",
              "  }\n",
              "</style>\n",
              "\n",
              "  <script>\n",
              "    async function quickchart(key) {\n",
              "      const quickchartButtonEl =\n",
              "        document.querySelector('#' + key + ' button');\n",
              "      quickchartButtonEl.disabled = true;  // To prevent multiple clicks.\n",
              "      quickchartButtonEl.classList.add('colab-df-spinner');\n",
              "      try {\n",
              "        const charts = await google.colab.kernel.invokeFunction(\n",
              "            'suggestCharts', [key], {});\n",
              "      } catch (error) {\n",
              "        console.error('Error during call to suggestCharts:', error);\n",
              "      }\n",
              "      quickchartButtonEl.classList.remove('colab-df-spinner');\n",
              "      quickchartButtonEl.classList.add('colab-df-quickchart-complete');\n",
              "    }\n",
              "    (() => {\n",
              "      let quickchartButtonEl =\n",
              "        document.querySelector('#df-5126f347-712a-4092-9616-7836f2b660a4 button');\n",
              "      quickchartButtonEl.style.display =\n",
              "        google.colab.kernel.accessAllowed ? 'block' : 'none';\n",
              "    })();\n",
              "  </script>\n",
              "</div>\n",
              "\n",
              "    </div>\n",
              "  </div>\n"
            ],
            "application/vnd.google.colaboratory.intrinsic+json": {
              "type": "dataframe",
              "variable_name": "review_df",
              "summary": "{\n  \"name\": \"review_df\",\n  \"rows\": 25000,\n  \"fields\": [\n    {\n      \"column\": \"id\",\n      \"properties\": {\n        \"dtype\": \"string\",\n        \"num_unique_values\": 25000,\n        \"samples\": [\n          \"\\\"2570_3\\\"\",\n          \"\\\"4897_8\\\"\",\n          \"\\\"8485_3\\\"\"\n        ],\n        \"semantic_type\": \"\",\n        \"description\": \"\"\n      }\n    },\n    {\n      \"column\": \"sentiment\",\n      \"properties\": {\n        \"dtype\": \"number\",\n        \"std\": 0,\n        \"min\": 0,\n        \"max\": 1,\n        \"num_unique_values\": 2,\n        \"samples\": [\n          0,\n          1\n        ],\n        \"semantic_type\": \"\",\n        \"description\": \"\"\n      }\n    },\n    {\n      \"column\": \"review\",\n      \"properties\": {\n        \"dtype\": \"string\",\n        \"num_unique_values\": 24904,\n        \"samples\": [\n          \"\\\"This is not my favorite WIP (\\\\\\\"Women in Prison\\\\\\\"), but it is one of the most famous films in the sub-genre. It is was produced by Roger Corman, who at this point had already produced a few WIPs. It is obvious that the film tries to play with the established formula. The movie takes place in an USA prison, not in a \\\\\\\"banana republic\\\\\\\" like most WIP films. I'm not sure if that was a wise move, but it is an acceptable change of pace. Writer-director Demme really gets into his job, always digging for new ways to present a familiar scenario. In fact, he is a little too ambitious for his own good. The filmmaker creates a few surreal dream sequences that are borderline pretentious but it is fun to see how hard he tries to put this film above your average chicks-in-chains flick. But do not worry, Demme still operates within the parameters of the sub-genre. There is plenty of nudity and violence, something that will satisfy hardcore fans. The film is a little slow, but it is very entertaining. The cast is good. Roberta Collins is a WIP veteran, so she does not need an introduction, and Barbara Steel is a hoot as the wheelchair-bound crazy warden. Pam Grier is sorely missed, though.\\\"\",\n          \"\\\"In 1972, after his wife left to go her own way, Elvis Presley began dating Linda Thompson. Miss Thompson, a good-humored, long haired, lovely, statuesque beauty queen, is charted to fill a void in Elvis' life. When Elvis' divorce became final, Linda was already in place as the legendary performer's live-in girlfriend and travel companion until 1976.<br /><br />This is a gaudy look at their love affair and companionship. Linda whole-heartedly tending to her lover's needs and desires. And even putting up with his swallowing medications by the handful and introducing her to her own love affair with valium. At times this movie is harsh and dark of heart; a very unattractive look at the 'King' and his queen.<br /><br />Don Johnson is absolutely awful as Elvis. Over acting to the hilt is not attractive. Stephanie Zimbalist lacks the classiness of Linda, but does the job pretty well. Supporting cast includes: John Crawford, Ruta Lee, and Rick Lenz. Watching this twice is more than enough for me, but don't let this review stop you from checking it out. For most Elvis fans that I have conferred with, this is not a favored presentation.\\\"\"\n        ],\n        \"semantic_type\": \"\",\n        \"description\": \"\"\n      }\n    }\n  ]\n}"
            }
          },
          "metadata": {},
          "execution_count": 2
        }
      ],
      "source": [
        "import pandas as pd\n",
        "\n",
        "review_df=pd.read_csv('/content/drive/MyDrive/24-1/ESAA/과제/IMDB영화평/labeledTrainData.tsv', header=0, sep='\\t', quoting=3)\n",
        "review_df.head(3)"
      ]
    },
    {
      "cell_type": "markdown",
      "metadata": {
        "id": "n13Ex-c3hrba"
      },
      "source": [
        "* id : 각 데이터의 id\n",
        "* sentiment : 영화평(review)의 Sentiment 결과 값(Target Label). 1은 긍정적 평가, 0은 부정적 평가\n",
        "* review : 영화평의 텍스트"
      ]
    },
    {
      "cell_type": "code",
      "execution_count": 3,
      "metadata": {
        "colab": {
          "base_uri": "https://localhost:8080/"
        },
        "id": "83QclPuZh3zH",
        "outputId": "91b64021-f4b1-4a2c-87d7-02d73d245559"
      },
      "outputs": [
        {
          "output_type": "stream",
          "name": "stdout",
          "text": [
            "\"With all this stuff going down at the moment with MJ i've started listening to his music, watching the odd documentary here and there, watched The Wiz and watched Moonwalker again. Maybe i just want to get a certain insight into this guy who i thought was really cool in the eighties just to maybe make up my mind whether he is guilty or innocent. Moonwalker is part biography, part feature film which i remember going to see at the cinema when it was originally released. Some of it has subtle messages about MJ's feeling towards the press and also the obvious message of drugs are bad m'kay.<br /><br />Visually impressive but of course this is all about Michael Jackson so unless you remotely like MJ in anyway then you are going to hate this and find it boring. Some may call MJ an egotist for consenting to the making of this movie BUT MJ and most of his fans would say that he made it for the fans which if true is really nice of him.<br /><br />The actual feature film bit when it finally starts is only on for 20 minutes or so excluding the Smooth Criminal sequence and Joe Pesci is convincing as a psychopathic all powerful drug lord. Why he wants MJ dead so bad is beyond me. Because MJ overheard his plans? Nah, Joe Pesci's character ranted that he wanted people to know it is he who is supplying drugs etc so i dunno, maybe he just hates MJ's music.<br /><br />Lots of cool things in this like MJ turning into a car and a robot and the whole Speed Demon sequence. Also, the director must have had the patience of a saint when it came to filming the kiddy Bad sequence as usually directors hate working with one kid let alone a whole bunch of them performing a complex dance scene.<br /><br />Bottom line, this movie is for people who like MJ on one level or another (which i think is most people). If not, then stay away. It does try and give off a wholesome message and ironically MJ's bestest buddy in this movie is a girl! Michael Jackson is truly one of the most talented people ever to grace this planet but is he guilty? Well, with all the attention i've gave this subject....hmmm well i don't know because people can be different behind closed doors, i know this for a fact. He is either an extremely nice but stupid guy or one of the most sickest liars. I hope he is not the latter.\"\n"
          ]
        }
      ],
      "source": [
        "print(review_df['review'][0])"
      ]
    },
    {
      "cell_type": "markdown",
      "metadata": {
        "id": "X7pCsuPJh6im"
      },
      "source": [
        "1. <br \\> 문자열은 피처로 만들 필요가 없기 때문에 삭제한다. 판다스의 DataFrame/Series는 문자열 연산을 지원하기 위해 str 속성을 이용한다. DataFrame/Series 객체에서 str을 적용하면 다양한 문자열 연산을 수행할 수 있다. `replace()`를 str에 적용해 <br \\> 태그를 공백으로 모두 바꾼다.\n",
        "\n",
        "2. 숫자/특수문자 역시 Sentiment를 위한 피처로는 별 의미가 없으므로 모두 공란으로 변경한다. 숫자/특수문자를 찾고 이를 변환하는 것은 **정규 표현식**을 이용한다. 파이썬의 re 모듈은 편리하게 정규 표현식을 지원한다. 정규 표현식 [^a-zA-Z]는 영어 대/소문자가 아닌 모든 문자를 의미한다. `re.sub('[^a-zA-Z]', '', x)`는 영어 대/소문자가 아닌 모든 문자를 찾아 공란으로 변경하는 코드이다. 판다스 DataFrame에 `re.sub()`는 lambda 식을 이용해 적용한다."
      ]
    },
    {
      "cell_type": "code",
      "execution_count": 4,
      "metadata": {
        "id": "PBVzPZ-AjW5l"
      },
      "outputs": [],
      "source": [
        "import re\n",
        "\n",
        "# <br> html 태그는 replace 함수로 공백으로 변환\n",
        "review_df['review']=review_df['review'].str.replace('<br />', ' ')\n",
        "\n",
        "# 파이썬의 정규 표현식 모듈인 re를 이용해 영어 문자열이 아닌 문자는 모두 공백으로 변환\n",
        "review_df['review']=review_df['review'].apply(lambda x : re.sub('[^a-zA-Z]', ' ', x))"
      ]
    },
    {
      "cell_type": "markdown",
      "metadata": {
        "id": "zaoEUgP9jp-u"
      },
      "source": [
        "결정 값 클래스인 sentiment 칼럼을 별도로 추출해 결정 값 데이터 세트를 만들고, 원본 데이터 세트에서 id와 sentiment 칼럼을 삭제해 피처 데이터 세트를 생성한다. 그리고 `train_test_split()`을 이용해 학습용과 테스트용 데이터 세트로 분리한다."
      ]
    },
    {
      "cell_type": "code",
      "execution_count": 5,
      "metadata": {
        "colab": {
          "base_uri": "https://localhost:8080/"
        },
        "id": "061HtVoYjpmP",
        "outputId": "e2d18478-8b94-4ac6-a2d9-6b99c1ba054e"
      },
      "outputs": [
        {
          "output_type": "execute_result",
          "data": {
            "text/plain": [
              "((17500, 1), (7500, 1))"
            ]
          },
          "metadata": {},
          "execution_count": 5
        }
      ],
      "source": [
        "from sklearn.model_selection import train_test_split\n",
        "\n",
        "class_df=review_df['sentiment']\n",
        "feature_df=review_df.drop(['id', 'sentiment'], axis=1, inplace=False)\n",
        "X_train, X_test, y_train, y_test=train_test_split(feature_df, class_df, test_size=0.3, random_state=156)\n",
        "X_train.shape, X_test.shape"
      ]
    },
    {
      "cell_type": "markdown",
      "metadata": {
        "id": "-OUqnZd4kGF-"
      },
      "source": [
        "학습용 데이터는 17500개 리뷰, 테스트용 데이터는 7500개의 리뷰로 구성되어 있다.\n",
        "\n",
        "감상평 텍스트를 피처 벡터화한 후 ML 분류 알고리즘을 적용해 예측 성능을 측정한다.\n",
        "\n",
        "Count 벡터화를 적용해 예측 성능을 측정하고, 다음으로 TF-IDF 벡터화를 적용한다. Classifier는 LogisticRegression을 이용한다. 예측 성능 평가는 이진 분류임을 고려하여 테스트 데이터 세트의 정확도와 ROC-AUC를 모두 측정한다."
      ]
    },
    {
      "cell_type": "code",
      "execution_count": 6,
      "metadata": {
        "colab": {
          "base_uri": "https://localhost:8080/"
        },
        "id": "Nan18HAOkiV0",
        "outputId": "d4f7afa3-2736-4ea8-8db5-8685dbdddff1"
      },
      "outputs": [
        {
          "output_type": "stream",
          "name": "stdout",
          "text": [
            "예측 정확도는 0.8861, ROC-AUC는 0.9503\n"
          ]
        }
      ],
      "source": [
        "from sklearn.feature_extraction.text import CountVectorizer, TfidfVectorizer\n",
        "from sklearn.pipeline import Pipeline\n",
        "from sklearn.linear_model import LogisticRegression\n",
        "from sklearn.metrics import accuracy_score, roc_auc_score\n",
        "\n",
        "# 스톱 워드는 English, ngram은 (1, 2)로 설정해 CountVectorization 수행\n",
        "# LogisticRegression의 C는 10으로 설정\n",
        "pipeline=Pipeline([\n",
        "    ('cnt_vect', CountVectorizer(stop_words='english', ngram_range=(1, 2))),\n",
        "    ('lr_clf', LogisticRegression(solver='liblinear', C=10, max_iter=500))\n",
        "])\n",
        "\n",
        "# Pipeline 객체를 이용해 fit(), predict()로 학습/예측 수행. predict_proba()는 roc_auc 때문에 수행.\n",
        "pipeline.fit(X_train['review'], y_train)\n",
        "pred=pipeline.predict(X_test['review'])\n",
        "pred_probs=pipeline.predict_proba(X_test['review'])[:, 1]\n",
        "\n",
        "print('예측 정확도는 {0:.4f}, ROC-AUC는 {1:.4f}'.format(accuracy_score(y_test, pred), roc_auc_score(y_test, pred_probs)))"
      ]
    },
    {
      "cell_type": "markdown",
      "metadata": {
        "id": "mgJ29lsmlhOv"
      },
      "source": [
        "TF-IDF 벡터화를 이용해 다시 예측 성능을 측정한다."
      ]
    },
    {
      "cell_type": "code",
      "execution_count": 7,
      "metadata": {
        "colab": {
          "base_uri": "https://localhost:8080/"
        },
        "id": "d5ikkxKellK-",
        "outputId": "afbb4e9e-651a-4b82-9917-aef36f5ee251"
      },
      "outputs": [
        {
          "output_type": "stream",
          "name": "stdout",
          "text": [
            "예측 정확도는 0.8936, ROC-AUC는 0.9598\n"
          ]
        }
      ],
      "source": [
        "# 스톱 워드는 english, filtering, ngram은 (1, 2)로 설정해 TF-IDF 벡터화 수행\n",
        "# LogisticRegression의 C는 10으로 설정\n",
        "pipeline=Pipeline([\n",
        "    ('tfidf_vect', TfidfVectorizer(stop_words='english', ngram_range=(1, 2))),\n",
        "     ('lr_clf', LogisticRegression(solver='liblinear', C=10))\n",
        "])\n",
        "\n",
        "pipeline.fit(X_train['review'], y_train)\n",
        "pred=pipeline.predict(X_test['review'])\n",
        "pred_probs=pipeline.predict_proba(X_test['review'])[:, 1]\n",
        "\n",
        "print('예측 정확도는 {0:.4f}, ROC-AUC는 {1:.4f}'.format(accuracy_score(y_test, pred), roc_auc_score(y_test, pred_probs)))"
      ]
    },
    {
      "cell_type": "markdown",
      "metadata": {
        "id": "WuMNSy-09EnI"
      },
      "source": [
        "TF-IDF 기반 피처 벡터화의 예측 성능이 조금 더 나아졌다."
      ]
    },
    {
      "cell_type": "markdown",
      "metadata": {
        "id": "r-BZGJKi9SEl"
      },
      "source": [
        "### **2. 비지도학습 기반 감성 분석**\n",
        "비지도 감성 분석은 Lexicon을 기반으로 한다.\n",
        "\n",
        "Lexicon : 감성만을 분석하기 위해 지원하는 감성 어휘 사전.\n",
        "\n",
        "감성 지수(Polarity score) : 감성 사전이 가지고 있는, 긍정(Positive) 감성, 부정(Negative) 감성 정도를 의미하는 수치. 단어의 위치, 주변 단어, 문맥, POS(Part of Speech) 등을 참고해 결정된다.\n",
        "\n",
        "감성 사전을 구현한 대표격은 NLTK 패키지이다. NLTK는 많은 서브 모듈을 가지고 있다.\n",
        "* Lexicon 모듈\n",
        "* WordNet 모듈 :방대한 영어 어휘 사전. 시멘틱 정보 제공. 각각의 품사로 구성된 개별 단어를 Synset이라는 개념을 이용해 표현한다.\n",
        "\n",
        "  * 시멘틱(semantic) : 문맥상 의미.\n",
        "  \n",
        "  ex. Present : 선물, 현재\n",
        "  \n",
        "  ex. 밥 먹었어? : 단순 식사했는지, 안부 묻기\n",
        "\n",
        "  * Synset : 단어가 가지는 문맥, 시멘틱 정보를 제공하는 WordNet의 핵심 개념\n",
        "\n",
        "NLP 패키지는 시멘틱을 프로그램적으로 인터페이스할 수 있는 다양한 방법을 제공한다. 하지만 예측 성능은 그리 좋지 못하다.\n",
        "\n",
        "**대표 감성 사전**\n",
        "1. SentiWordNet : NLTK 패키지의 WordNet과 유사하게 감정 단어 전용의 WordNet을 구현한 것이다. WordNet의 Synset 개념을 감성 분석에 적용한 것이다. Synset 별로 3가지 감성 점수를 할당한다.\n",
        "* 긍정 감성 지수 : 해당 단어가 감성적으로 얼마나 긍정적인가를 수치로 나타낸 것\n",
        "* 부정 감성 지수 : 얼마나 감성적으로 부정적인가를 수치로 나타낸 것\n",
        "* 객관성 지수 : 긍정/부정 감성 지수와 완전히 반대되는 개념으로, 단어가 감성과 관계없이 얼마나 객관적인지를 수치로 나타낸 것\n",
        "\n",
        "문장별로 단어들의 긍정 감성 지수와 부정 감성 지수를 합산하여 최종 감성 지수를 계산하고 이에 기반해 감성이 긍정인지 부정인지 결정한다.\n",
        "2. VADER : 주로 소셜 미디어의 텍스트에 대한 감성 분석을 제공하기 위한 패키지이다. 뛰어난 감성 분석 결과를 제공하며, 비교적 빠른 수행 시간을 보장해 대용량 텍스트 데이터에 잘 사용되는 패키지이다.\n",
        "3. Pattern : 예측 성능 측면에서 가장 주목받는 패키지이다. 현재 기준으로 파이썬 3.x 버전에서 호환이 되지 않는다.\n",
        "\n",
        "SentiWordNet과 VADER 감성 사전을 이용해 감성 분석을 수행한 뒤 예측 성능을 지도학습 기반의 분류와 비교해 보자.\n",
        "\n"
      ]
    },
    {
      "cell_type": "markdown",
      "metadata": {
        "id": "gRDTVHl-_2O3"
      },
      "source": [
        "**SentiWordNet을 이용한 감성 분석**\n",
        "\n",
        "NLTK 셋업 후 WordNet 서브패키지와 데이터 세트를 내려받는다."
      ]
    },
    {
      "cell_type": "code",
      "execution_count": 8,
      "metadata": {
        "colab": {
          "base_uri": "https://localhost:8080/"
        },
        "id": "n-iRycaA9YZ6",
        "outputId": "06fa9864-4102-4e0e-b9f2-cbd5602ff3c0"
      },
      "outputs": [
        {
          "output_type": "stream",
          "name": "stderr",
          "text": [
            "[nltk_data] Downloading collection 'all'\n",
            "[nltk_data]    | \n",
            "[nltk_data]    | Downloading package abc to /root/nltk_data...\n",
            "[nltk_data]    |   Unzipping corpora/abc.zip.\n",
            "[nltk_data]    | Downloading package alpino to /root/nltk_data...\n",
            "[nltk_data]    |   Unzipping corpora/alpino.zip.\n",
            "[nltk_data]    | Downloading package averaged_perceptron_tagger to\n",
            "[nltk_data]    |     /root/nltk_data...\n",
            "[nltk_data]    |   Unzipping taggers/averaged_perceptron_tagger.zip.\n",
            "[nltk_data]    | Downloading package averaged_perceptron_tagger_eng to\n",
            "[nltk_data]    |     /root/nltk_data...\n",
            "[nltk_data]    |   Unzipping\n",
            "[nltk_data]    |       taggers/averaged_perceptron_tagger_eng.zip.\n",
            "[nltk_data]    | Downloading package averaged_perceptron_tagger_ru to\n",
            "[nltk_data]    |     /root/nltk_data...\n",
            "[nltk_data]    |   Unzipping\n",
            "[nltk_data]    |       taggers/averaged_perceptron_tagger_ru.zip.\n",
            "[nltk_data]    | Downloading package averaged_perceptron_tagger_rus to\n",
            "[nltk_data]    |     /root/nltk_data...\n",
            "[nltk_data]    |   Unzipping\n",
            "[nltk_data]    |       taggers/averaged_perceptron_tagger_rus.zip.\n",
            "[nltk_data]    | Downloading package basque_grammars to\n",
            "[nltk_data]    |     /root/nltk_data...\n",
            "[nltk_data]    |   Unzipping grammars/basque_grammars.zip.\n",
            "[nltk_data]    | Downloading package bcp47 to /root/nltk_data...\n",
            "[nltk_data]    | Downloading package biocreative_ppi to\n",
            "[nltk_data]    |     /root/nltk_data...\n",
            "[nltk_data]    |   Unzipping corpora/biocreative_ppi.zip.\n",
            "[nltk_data]    | Downloading package bllip_wsj_no_aux to\n",
            "[nltk_data]    |     /root/nltk_data...\n",
            "[nltk_data]    |   Unzipping models/bllip_wsj_no_aux.zip.\n",
            "[nltk_data]    | Downloading package book_grammars to\n",
            "[nltk_data]    |     /root/nltk_data...\n",
            "[nltk_data]    |   Unzipping grammars/book_grammars.zip.\n",
            "[nltk_data]    | Downloading package brown to /root/nltk_data...\n",
            "[nltk_data]    |   Unzipping corpora/brown.zip.\n",
            "[nltk_data]    | Downloading package brown_tei to /root/nltk_data...\n",
            "[nltk_data]    |   Unzipping corpora/brown_tei.zip.\n",
            "[nltk_data]    | Downloading package cess_cat to /root/nltk_data...\n",
            "[nltk_data]    |   Unzipping corpora/cess_cat.zip.\n",
            "[nltk_data]    | Downloading package cess_esp to /root/nltk_data...\n",
            "[nltk_data]    |   Unzipping corpora/cess_esp.zip.\n",
            "[nltk_data]    | Downloading package chat80 to /root/nltk_data...\n",
            "[nltk_data]    |   Unzipping corpora/chat80.zip.\n",
            "[nltk_data]    | Downloading package city_database to\n",
            "[nltk_data]    |     /root/nltk_data...\n",
            "[nltk_data]    |   Unzipping corpora/city_database.zip.\n",
            "[nltk_data]    | Downloading package cmudict to /root/nltk_data...\n",
            "[nltk_data]    |   Unzipping corpora/cmudict.zip.\n",
            "[nltk_data]    | Downloading package comparative_sentences to\n",
            "[nltk_data]    |     /root/nltk_data...\n",
            "[nltk_data]    |   Unzipping corpora/comparative_sentences.zip.\n",
            "[nltk_data]    | Downloading package comtrans to /root/nltk_data...\n",
            "[nltk_data]    | Downloading package conll2000 to /root/nltk_data...\n",
            "[nltk_data]    |   Unzipping corpora/conll2000.zip.\n",
            "[nltk_data]    | Downloading package conll2002 to /root/nltk_data...\n",
            "[nltk_data]    |   Unzipping corpora/conll2002.zip.\n",
            "[nltk_data]    | Downloading package conll2007 to /root/nltk_data...\n",
            "[nltk_data]    | Downloading package crubadan to /root/nltk_data...\n",
            "[nltk_data]    |   Unzipping corpora/crubadan.zip.\n",
            "[nltk_data]    | Downloading package dependency_treebank to\n",
            "[nltk_data]    |     /root/nltk_data...\n",
            "[nltk_data]    |   Unzipping corpora/dependency_treebank.zip.\n",
            "[nltk_data]    | Downloading package dolch to /root/nltk_data...\n",
            "[nltk_data]    |   Unzipping corpora/dolch.zip.\n",
            "[nltk_data]    | Downloading package europarl_raw to\n",
            "[nltk_data]    |     /root/nltk_data...\n",
            "[nltk_data]    |   Unzipping corpora/europarl_raw.zip.\n",
            "[nltk_data]    | Downloading package extended_omw to\n",
            "[nltk_data]    |     /root/nltk_data...\n",
            "[nltk_data]    | Downloading package floresta to /root/nltk_data...\n",
            "[nltk_data]    |   Unzipping corpora/floresta.zip.\n",
            "[nltk_data]    | Downloading package framenet_v15 to\n",
            "[nltk_data]    |     /root/nltk_data...\n",
            "[nltk_data]    |   Unzipping corpora/framenet_v15.zip.\n",
            "[nltk_data]    | Downloading package framenet_v17 to\n",
            "[nltk_data]    |     /root/nltk_data...\n",
            "[nltk_data]    |   Unzipping corpora/framenet_v17.zip.\n",
            "[nltk_data]    | Downloading package gazetteers to /root/nltk_data...\n",
            "[nltk_data]    |   Unzipping corpora/gazetteers.zip.\n",
            "[nltk_data]    | Downloading package genesis to /root/nltk_data...\n",
            "[nltk_data]    |   Unzipping corpora/genesis.zip.\n",
            "[nltk_data]    | Downloading package gutenberg to /root/nltk_data...\n",
            "[nltk_data]    |   Unzipping corpora/gutenberg.zip.\n",
            "[nltk_data]    | Downloading package ieer to /root/nltk_data...\n",
            "[nltk_data]    |   Unzipping corpora/ieer.zip.\n",
            "[nltk_data]    | Downloading package inaugural to /root/nltk_data...\n",
            "[nltk_data]    |   Unzipping corpora/inaugural.zip.\n",
            "[nltk_data]    | Downloading package indian to /root/nltk_data...\n",
            "[nltk_data]    |   Unzipping corpora/indian.zip.\n",
            "[nltk_data]    | Downloading package jeita to /root/nltk_data...\n",
            "[nltk_data]    | Downloading package kimmo to /root/nltk_data...\n",
            "[nltk_data]    |   Unzipping corpora/kimmo.zip.\n",
            "[nltk_data]    | Downloading package knbc to /root/nltk_data...\n",
            "[nltk_data]    | Downloading package large_grammars to\n",
            "[nltk_data]    |     /root/nltk_data...\n",
            "[nltk_data]    |   Unzipping grammars/large_grammars.zip.\n",
            "[nltk_data]    | Downloading package lin_thesaurus to\n",
            "[nltk_data]    |     /root/nltk_data...\n",
            "[nltk_data]    |   Unzipping corpora/lin_thesaurus.zip.\n",
            "[nltk_data]    | Downloading package mac_morpho to /root/nltk_data...\n",
            "[nltk_data]    |   Unzipping corpora/mac_morpho.zip.\n",
            "[nltk_data]    | Downloading package machado to /root/nltk_data...\n",
            "[nltk_data]    | Downloading package masc_tagged to /root/nltk_data...\n",
            "[nltk_data]    | Downloading package maxent_ne_chunker to\n",
            "[nltk_data]    |     /root/nltk_data...\n",
            "[nltk_data]    |   Unzipping chunkers/maxent_ne_chunker.zip.\n",
            "[nltk_data]    | Downloading package maxent_ne_chunker_tab to\n",
            "[nltk_data]    |     /root/nltk_data...\n",
            "[nltk_data]    |   Unzipping chunkers/maxent_ne_chunker_tab.zip.\n",
            "[nltk_data]    | Downloading package maxent_treebank_pos_tagger to\n",
            "[nltk_data]    |     /root/nltk_data...\n",
            "[nltk_data]    |   Unzipping taggers/maxent_treebank_pos_tagger.zip.\n",
            "[nltk_data]    | Downloading package maxent_treebank_pos_tagger_tab to\n",
            "[nltk_data]    |     /root/nltk_data...\n",
            "[nltk_data]    |   Unzipping\n",
            "[nltk_data]    |       taggers/maxent_treebank_pos_tagger_tab.zip.\n",
            "[nltk_data]    | Downloading package moses_sample to\n",
            "[nltk_data]    |     /root/nltk_data...\n",
            "[nltk_data]    |   Unzipping models/moses_sample.zip.\n",
            "[nltk_data]    | Downloading package movie_reviews to\n",
            "[nltk_data]    |     /root/nltk_data...\n",
            "[nltk_data]    |   Unzipping corpora/movie_reviews.zip.\n",
            "[nltk_data]    | Downloading package mte_teip5 to /root/nltk_data...\n",
            "[nltk_data]    |   Unzipping corpora/mte_teip5.zip.\n",
            "[nltk_data]    | Downloading package mwa_ppdb to /root/nltk_data...\n",
            "[nltk_data]    |   Unzipping misc/mwa_ppdb.zip.\n",
            "[nltk_data]    | Downloading package names to /root/nltk_data...\n",
            "[nltk_data]    |   Unzipping corpora/names.zip.\n",
            "[nltk_data]    | Downloading package nombank.1.0 to /root/nltk_data...\n",
            "[nltk_data]    | Downloading package nonbreaking_prefixes to\n",
            "[nltk_data]    |     /root/nltk_data...\n",
            "[nltk_data]    |   Unzipping corpora/nonbreaking_prefixes.zip.\n",
            "[nltk_data]    | Downloading package nps_chat to /root/nltk_data...\n",
            "[nltk_data]    |   Unzipping corpora/nps_chat.zip.\n",
            "[nltk_data]    | Downloading package omw to /root/nltk_data...\n",
            "[nltk_data]    | Downloading package omw-1.4 to /root/nltk_data...\n",
            "[nltk_data]    | Downloading package opinion_lexicon to\n",
            "[nltk_data]    |     /root/nltk_data...\n",
            "[nltk_data]    |   Unzipping corpora/opinion_lexicon.zip.\n",
            "[nltk_data]    | Downloading package panlex_swadesh to\n",
            "[nltk_data]    |     /root/nltk_data...\n",
            "[nltk_data]    | Downloading package paradigms to /root/nltk_data...\n",
            "[nltk_data]    |   Unzipping corpora/paradigms.zip.\n",
            "[nltk_data]    | Downloading package pe08 to /root/nltk_data...\n",
            "[nltk_data]    |   Unzipping corpora/pe08.zip.\n",
            "[nltk_data]    | Downloading package perluniprops to\n",
            "[nltk_data]    |     /root/nltk_data...\n",
            "[nltk_data]    |   Unzipping misc/perluniprops.zip.\n",
            "[nltk_data]    | Downloading package pil to /root/nltk_data...\n",
            "[nltk_data]    |   Unzipping corpora/pil.zip.\n",
            "[nltk_data]    | Downloading package pl196x to /root/nltk_data...\n",
            "[nltk_data]    |   Unzipping corpora/pl196x.zip.\n",
            "[nltk_data]    | Downloading package porter_test to /root/nltk_data...\n",
            "[nltk_data]    |   Unzipping stemmers/porter_test.zip.\n",
            "[nltk_data]    | Downloading package ppattach to /root/nltk_data...\n",
            "[nltk_data]    |   Unzipping corpora/ppattach.zip.\n",
            "[nltk_data]    | Downloading package problem_reports to\n",
            "[nltk_data]    |     /root/nltk_data...\n",
            "[nltk_data]    |   Unzipping corpora/problem_reports.zip.\n",
            "[nltk_data]    | Downloading package product_reviews_1 to\n",
            "[nltk_data]    |     /root/nltk_data...\n",
            "[nltk_data]    |   Unzipping corpora/product_reviews_1.zip.\n",
            "[nltk_data]    | Downloading package product_reviews_2 to\n",
            "[nltk_data]    |     /root/nltk_data...\n",
            "[nltk_data]    |   Unzipping corpora/product_reviews_2.zip.\n",
            "[nltk_data]    | Downloading package propbank to /root/nltk_data...\n",
            "[nltk_data]    | Downloading package pros_cons to /root/nltk_data...\n",
            "[nltk_data]    |   Unzipping corpora/pros_cons.zip.\n",
            "[nltk_data]    | Downloading package ptb to /root/nltk_data...\n",
            "[nltk_data]    |   Unzipping corpora/ptb.zip.\n",
            "[nltk_data]    | Downloading package punkt to /root/nltk_data...\n",
            "[nltk_data]    |   Unzipping tokenizers/punkt.zip.\n",
            "[nltk_data]    | Downloading package punkt_tab to /root/nltk_data...\n",
            "[nltk_data]    |   Unzipping tokenizers/punkt_tab.zip.\n",
            "[nltk_data]    | Downloading package qc to /root/nltk_data...\n",
            "[nltk_data]    |   Unzipping corpora/qc.zip.\n",
            "[nltk_data]    | Downloading package reuters to /root/nltk_data...\n",
            "[nltk_data]    | Downloading package rslp to /root/nltk_data...\n",
            "[nltk_data]    |   Unzipping stemmers/rslp.zip.\n",
            "[nltk_data]    | Downloading package rte to /root/nltk_data...\n",
            "[nltk_data]    |   Unzipping corpora/rte.zip.\n",
            "[nltk_data]    | Downloading package sample_grammars to\n",
            "[nltk_data]    |     /root/nltk_data...\n",
            "[nltk_data]    |   Unzipping grammars/sample_grammars.zip.\n",
            "[nltk_data]    | Downloading package semcor to /root/nltk_data...\n",
            "[nltk_data]    | Downloading package senseval to /root/nltk_data...\n",
            "[nltk_data]    |   Unzipping corpora/senseval.zip.\n",
            "[nltk_data]    | Downloading package sentence_polarity to\n",
            "[nltk_data]    |     /root/nltk_data...\n",
            "[nltk_data]    |   Unzipping corpora/sentence_polarity.zip.\n",
            "[nltk_data]    | Downloading package sentiwordnet to\n",
            "[nltk_data]    |     /root/nltk_data...\n",
            "[nltk_data]    |   Unzipping corpora/sentiwordnet.zip.\n",
            "[nltk_data]    | Downloading package shakespeare to /root/nltk_data...\n",
            "[nltk_data]    |   Unzipping corpora/shakespeare.zip.\n",
            "[nltk_data]    | Downloading package sinica_treebank to\n",
            "[nltk_data]    |     /root/nltk_data...\n",
            "[nltk_data]    |   Unzipping corpora/sinica_treebank.zip.\n",
            "[nltk_data]    | Downloading package smultron to /root/nltk_data...\n",
            "[nltk_data]    |   Unzipping corpora/smultron.zip.\n",
            "[nltk_data]    | Downloading package snowball_data to\n",
            "[nltk_data]    |     /root/nltk_data...\n",
            "[nltk_data]    | Downloading package spanish_grammars to\n",
            "[nltk_data]    |     /root/nltk_data...\n",
            "[nltk_data]    |   Unzipping grammars/spanish_grammars.zip.\n",
            "[nltk_data]    | Downloading package state_union to /root/nltk_data...\n",
            "[nltk_data]    |   Unzipping corpora/state_union.zip.\n",
            "[nltk_data]    | Downloading package stopwords to /root/nltk_data...\n",
            "[nltk_data]    |   Unzipping corpora/stopwords.zip.\n",
            "[nltk_data]    | Downloading package subjectivity to\n",
            "[nltk_data]    |     /root/nltk_data...\n",
            "[nltk_data]    |   Unzipping corpora/subjectivity.zip.\n",
            "[nltk_data]    | Downloading package swadesh to /root/nltk_data...\n",
            "[nltk_data]    |   Unzipping corpora/swadesh.zip.\n",
            "[nltk_data]    | Downloading package switchboard to /root/nltk_data...\n",
            "[nltk_data]    |   Unzipping corpora/switchboard.zip.\n",
            "[nltk_data]    | Downloading package tagsets to /root/nltk_data...\n",
            "[nltk_data]    |   Unzipping help/tagsets.zip.\n",
            "[nltk_data]    | Downloading package tagsets_json to\n",
            "[nltk_data]    |     /root/nltk_data...\n",
            "[nltk_data]    |   Unzipping help/tagsets_json.zip.\n",
            "[nltk_data]    | Downloading package timit to /root/nltk_data...\n",
            "[nltk_data]    |   Unzipping corpora/timit.zip.\n",
            "[nltk_data]    | Downloading package toolbox to /root/nltk_data...\n",
            "[nltk_data]    |   Unzipping corpora/toolbox.zip.\n",
            "[nltk_data]    | Downloading package treebank to /root/nltk_data...\n",
            "[nltk_data]    |   Unzipping corpora/treebank.zip.\n",
            "[nltk_data]    | Downloading package twitter_samples to\n",
            "[nltk_data]    |     /root/nltk_data...\n",
            "[nltk_data]    |   Unzipping corpora/twitter_samples.zip.\n",
            "[nltk_data]    | Downloading package udhr to /root/nltk_data...\n",
            "[nltk_data]    |   Unzipping corpora/udhr.zip.\n",
            "[nltk_data]    | Downloading package udhr2 to /root/nltk_data...\n",
            "[nltk_data]    |   Unzipping corpora/udhr2.zip.\n",
            "[nltk_data]    | Downloading package unicode_samples to\n",
            "[nltk_data]    |     /root/nltk_data...\n",
            "[nltk_data]    |   Unzipping corpora/unicode_samples.zip.\n",
            "[nltk_data]    | Downloading package universal_tagset to\n",
            "[nltk_data]    |     /root/nltk_data...\n",
            "[nltk_data]    |   Unzipping taggers/universal_tagset.zip.\n",
            "[nltk_data]    | Downloading package universal_treebanks_v20 to\n",
            "[nltk_data]    |     /root/nltk_data...\n",
            "[nltk_data]    | Downloading package vader_lexicon to\n",
            "[nltk_data]    |     /root/nltk_data...\n",
            "[nltk_data]    | Downloading package verbnet to /root/nltk_data...\n",
            "[nltk_data]    |   Unzipping corpora/verbnet.zip.\n",
            "[nltk_data]    | Downloading package verbnet3 to /root/nltk_data...\n",
            "[nltk_data]    |   Unzipping corpora/verbnet3.zip.\n",
            "[nltk_data]    | Downloading package webtext to /root/nltk_data...\n",
            "[nltk_data]    |   Unzipping corpora/webtext.zip.\n",
            "[nltk_data]    | Downloading package wmt15_eval to /root/nltk_data...\n",
            "[nltk_data]    |   Unzipping models/wmt15_eval.zip.\n",
            "[nltk_data]    | Downloading package word2vec_sample to\n",
            "[nltk_data]    |     /root/nltk_data...\n",
            "[nltk_data]    |   Unzipping models/word2vec_sample.zip.\n",
            "[nltk_data]    | Downloading package wordnet to /root/nltk_data...\n",
            "[nltk_data]    | Downloading package wordnet2021 to /root/nltk_data...\n",
            "[nltk_data]    | Downloading package wordnet2022 to /root/nltk_data...\n",
            "[nltk_data]    |   Unzipping corpora/wordnet2022.zip.\n",
            "[nltk_data]    | Downloading package wordnet31 to /root/nltk_data...\n",
            "[nltk_data]    | Downloading package wordnet_ic to /root/nltk_data...\n",
            "[nltk_data]    |   Unzipping corpora/wordnet_ic.zip.\n",
            "[nltk_data]    | Downloading package words to /root/nltk_data...\n",
            "[nltk_data]    |   Unzipping corpora/words.zip.\n",
            "[nltk_data]    | Downloading package ycoe to /root/nltk_data...\n",
            "[nltk_data]    |   Unzipping corpora/ycoe.zip.\n",
            "[nltk_data]    | \n",
            "[nltk_data]  Done downloading collection all\n"
          ]
        },
        {
          "output_type": "execute_result",
          "data": {
            "text/plain": [
              "True"
            ]
          },
          "metadata": {},
          "execution_count": 8
        }
      ],
      "source": [
        "import nltk\n",
        "nltk.download('all')"
      ]
    },
    {
      "cell_type": "markdown",
      "metadata": {
        "id": "rtRW0jSiAOVk"
      },
      "source": [
        "WordNet 모듈을 임포트해서 'present' 단어에 대한 Synset을 추출한다. WordNet의 `synsets()`는 파라미터로 지정된 단어에 대해 WordNet에 등재된 모든 Synset 객체를 반환한다."
      ]
    },
    {
      "cell_type": "code",
      "execution_count": 9,
      "metadata": {
        "colab": {
          "base_uri": "https://localhost:8080/"
        },
        "id": "6_vnXcOPAYty",
        "outputId": "08c17fd3-58c3-4792-9a17-ab0480aaab7e"
      },
      "outputs": [
        {
          "output_type": "stream",
          "name": "stdout",
          "text": [
            "synsets() 반환 type : <class 'list'>\n",
            "synsets() 반환 값 계수 : 18\n",
            "synsets() 반환 값 : [Synset('present.n.01'), Synset('present.n.02'), Synset('present.n.03'), Synset('show.v.01'), Synset('present.v.02'), Synset('stage.v.01'), Synset('present.v.04'), Synset('present.v.05'), Synset('award.v.01'), Synset('give.v.08'), Synset('deliver.v.01'), Synset('introduce.v.01'), Synset('portray.v.04'), Synset('confront.v.03'), Synset('present.v.12'), Synset('salute.v.06'), Synset('present.a.01'), Synset('present.a.02')]\n"
          ]
        }
      ],
      "source": [
        "from nltk.corpus import wordnet as wn\n",
        "\n",
        "term='present'\n",
        "\n",
        "\n",
        "# present라는 단어로 wordnet의 synsets 생성\n",
        "synsets=wn.synsets(term)\n",
        "print('synsets() 반환 type :', type(synsets))\n",
        "print('synsets() 반환 값 계수 :', len(synsets))\n",
        "print('synsets() 반환 값 :', synsets)"
      ]
    },
    {
      "cell_type": "markdown",
      "metadata": {
        "id": "rUQz8Is2AqjE"
      },
      "source": [
        "`synsets()` 호출 시 반환되는 것은 여러 개의 Synset 객체를 가지는 리스트이다. 총 18개의 서로 다른 semantic을 가지는 synset 객체가 반환됐다. `Synset('present.n.01')`와 같이 Synset 객체의 파라미터 'present.n.01'은 POS 태그를 나타낸다. 'present.n.01'에서 present의 의미, n은 명사 품사, 01은 present가 명사로서 가지는 의미가 여러 가지 있어서 이를 구분하는 인덱스이다.\n",
        "\n",
        "synset 객체가 가지는 여러 가지 속성을 살펴 보자. Synset은 POS(품사), 정의, 부명제(Lemma) 등으로 시멘틱적인 요소를 표현할 수 있다."
      ]
    },
    {
      "cell_type": "code",
      "execution_count": 10,
      "metadata": {
        "colab": {
          "base_uri": "https://localhost:8080/"
        },
        "id": "HAwo04orBEJc",
        "outputId": "c32a6a64-c3ed-4473-95ec-20801d894b16"
      },
      "outputs": [
        {
          "output_type": "stream",
          "name": "stdout",
          "text": [
            "#### Synset name : present.n.01 ####\n",
            "POS : noun.time\n",
            "Definition : the period of time that is happening now; any continuous stretch of time including the moment of speech\n",
            "Lemmas : ['present', 'nowadays']\n",
            "#### Synset name : present.n.02 ####\n",
            "POS : noun.possession\n",
            "Definition : something presented as a gift\n",
            "Lemmas : ['present']\n",
            "#### Synset name : present.n.03 ####\n",
            "POS : noun.communication\n",
            "Definition : a verb tense that expresses actions or states at the time of speaking\n",
            "Lemmas : ['present', 'present_tense']\n",
            "#### Synset name : show.v.01 ####\n",
            "POS : verb.perception\n",
            "Definition : give an exhibition of to an interested audience\n",
            "Lemmas : ['show', 'demo', 'exhibit', 'present', 'demonstrate']\n",
            "#### Synset name : present.v.02 ####\n",
            "POS : verb.communication\n",
            "Definition : bring forward and present to the mind\n",
            "Lemmas : ['present', 'represent', 'lay_out']\n",
            "#### Synset name : stage.v.01 ####\n",
            "POS : verb.creation\n",
            "Definition : perform (a play), especially on a stage\n",
            "Lemmas : ['stage', 'present', 'represent']\n",
            "#### Synset name : present.v.04 ####\n",
            "POS : verb.possession\n",
            "Definition : hand over formally\n",
            "Lemmas : ['present', 'submit']\n",
            "#### Synset name : present.v.05 ####\n",
            "POS : verb.stative\n",
            "Definition : introduce\n",
            "Lemmas : ['present', 'pose']\n",
            "#### Synset name : award.v.01 ####\n",
            "POS : verb.possession\n",
            "Definition : give, especially as an honor or reward\n",
            "Lemmas : ['award', 'present']\n",
            "#### Synset name : give.v.08 ####\n",
            "POS : verb.possession\n",
            "Definition : give as a present; make a gift of\n",
            "Lemmas : ['give', 'gift', 'present']\n",
            "#### Synset name : deliver.v.01 ####\n",
            "POS : verb.communication\n",
            "Definition : deliver (a speech, oration, or idea)\n",
            "Lemmas : ['deliver', 'present']\n",
            "#### Synset name : introduce.v.01 ####\n",
            "POS : verb.communication\n",
            "Definition : cause to come to know personally\n",
            "Lemmas : ['introduce', 'present', 'acquaint']\n",
            "#### Synset name : portray.v.04 ####\n",
            "POS : verb.creation\n",
            "Definition : represent abstractly, for example in a painting, drawing, or sculpture\n",
            "Lemmas : ['portray', 'present']\n",
            "#### Synset name : confront.v.03 ####\n",
            "POS : verb.communication\n",
            "Definition : present somebody with something, usually to accuse or criticize\n",
            "Lemmas : ['confront', 'face', 'present']\n",
            "#### Synset name : present.v.12 ####\n",
            "POS : verb.communication\n",
            "Definition : formally present a debutante, a representative of a country, etc.\n",
            "Lemmas : ['present']\n",
            "#### Synset name : salute.v.06 ####\n",
            "POS : verb.communication\n",
            "Definition : recognize with a gesture prescribed by a military regulation; assume a prescribed position\n",
            "Lemmas : ['salute', 'present']\n",
            "#### Synset name : present.a.01 ####\n",
            "POS : adj.all\n",
            "Definition : temporal sense; intermediate between past and future; now existing or happening or in consideration\n",
            "Lemmas : ['present']\n",
            "#### Synset name : present.a.02 ####\n",
            "POS : adj.all\n",
            "Definition : being or existing in a specified place\n",
            "Lemmas : ['present']\n"
          ]
        }
      ],
      "source": [
        "for synset in synsets:\n",
        "  print('#### Synset name :', synset.name(), '####')\n",
        "  print('POS :', synset.lexname())\n",
        "  print('Definition :', synset.definition())\n",
        "  print('Lemmas :', synset.lemma_names())"
      ]
    },
    {
      "cell_type": "markdown",
      "metadata": {
        "id": "BSjMEfo2DXkB"
      },
      "source": [
        "`Synset('present.n.01')`과 Synset('present.n.02')`는 명사지만 서로 다른 의미를 가지고 있다. `Synset('present.n.01')`은 POS가 noun.time이며 Definition을 살펴보면 '시간적인 의미로 현재'를 나타낸다. `Synset('present.n.02')`는 POS가 noun.possession이며 Definition은 '선물'이다. `Synset('show.v.01')`은 동사로서 POS가 verb.perception이며, Definition은 '관객에게 전시물 등을 보여주다'라는 뜻이다. 이처럼 synset은 하나의 단어가 가질 수 있는 여러 가지 시멘틱 정보를 개별 클래스로 나타낸 것이다.\n",
        "\n",
        "WordNet은 어떤 어휘와 다른 어휘 간의 관계를 유사도로 나타낼 수 있다. synset 객체는 단어 간의 유사도를 나타내기 위해 `path_similarity()` 메서드를 제공한다. 이를 이용하여 tree, lion, tiger, cat, dog라는 단어의 상호 유사도를 살펴보자."
      ]
    },
    {
      "cell_type": "code",
      "execution_count": 11,
      "metadata": {
        "colab": {
          "base_uri": "https://localhost:8080/",
          "height": 206
        },
        "id": "RY4l6HB6EToH",
        "outputId": "46de49a3-c7e9-4f20-9a03-a0f85908e14b"
      },
      "outputs": [
        {
          "output_type": "execute_result",
          "data": {
            "text/plain": [
              "       tree  lion  tiger   cat   dog\n",
              "tree   1.00  0.07   0.07  0.08  0.12\n",
              "lion   0.07  1.00   0.33  0.25  0.17\n",
              "tiger  0.07  0.33   1.00  0.25  0.17\n",
              "cat    0.08  0.25   0.25  1.00  0.20\n",
              "dog    0.12  0.17   0.17  0.20  1.00"
            ],
            "text/html": [
              "\n",
              "  <div id=\"df-595d4dc5-d527-4141-8319-3a654deee3be\" class=\"colab-df-container\">\n",
              "    <div>\n",
              "<style scoped>\n",
              "    .dataframe tbody tr th:only-of-type {\n",
              "        vertical-align: middle;\n",
              "    }\n",
              "\n",
              "    .dataframe tbody tr th {\n",
              "        vertical-align: top;\n",
              "    }\n",
              "\n",
              "    .dataframe thead th {\n",
              "        text-align: right;\n",
              "    }\n",
              "</style>\n",
              "<table border=\"1\" class=\"dataframe\">\n",
              "  <thead>\n",
              "    <tr style=\"text-align: right;\">\n",
              "      <th></th>\n",
              "      <th>tree</th>\n",
              "      <th>lion</th>\n",
              "      <th>tiger</th>\n",
              "      <th>cat</th>\n",
              "      <th>dog</th>\n",
              "    </tr>\n",
              "  </thead>\n",
              "  <tbody>\n",
              "    <tr>\n",
              "      <th>tree</th>\n",
              "      <td>1.00</td>\n",
              "      <td>0.07</td>\n",
              "      <td>0.07</td>\n",
              "      <td>0.08</td>\n",
              "      <td>0.12</td>\n",
              "    </tr>\n",
              "    <tr>\n",
              "      <th>lion</th>\n",
              "      <td>0.07</td>\n",
              "      <td>1.00</td>\n",
              "      <td>0.33</td>\n",
              "      <td>0.25</td>\n",
              "      <td>0.17</td>\n",
              "    </tr>\n",
              "    <tr>\n",
              "      <th>tiger</th>\n",
              "      <td>0.07</td>\n",
              "      <td>0.33</td>\n",
              "      <td>1.00</td>\n",
              "      <td>0.25</td>\n",
              "      <td>0.17</td>\n",
              "    </tr>\n",
              "    <tr>\n",
              "      <th>cat</th>\n",
              "      <td>0.08</td>\n",
              "      <td>0.25</td>\n",
              "      <td>0.25</td>\n",
              "      <td>1.00</td>\n",
              "      <td>0.20</td>\n",
              "    </tr>\n",
              "    <tr>\n",
              "      <th>dog</th>\n",
              "      <td>0.12</td>\n",
              "      <td>0.17</td>\n",
              "      <td>0.17</td>\n",
              "      <td>0.20</td>\n",
              "      <td>1.00</td>\n",
              "    </tr>\n",
              "  </tbody>\n",
              "</table>\n",
              "</div>\n",
              "    <div class=\"colab-df-buttons\">\n",
              "\n",
              "  <div class=\"colab-df-container\">\n",
              "    <button class=\"colab-df-convert\" onclick=\"convertToInteractive('df-595d4dc5-d527-4141-8319-3a654deee3be')\"\n",
              "            title=\"Convert this dataframe to an interactive table.\"\n",
              "            style=\"display:none;\">\n",
              "\n",
              "  <svg xmlns=\"http://www.w3.org/2000/svg\" height=\"24px\" viewBox=\"0 -960 960 960\">\n",
              "    <path d=\"M120-120v-720h720v720H120Zm60-500h600v-160H180v160Zm220 220h160v-160H400v160Zm0 220h160v-160H400v160ZM180-400h160v-160H180v160Zm440 0h160v-160H620v160ZM180-180h160v-160H180v160Zm440 0h160v-160H620v160Z\"/>\n",
              "  </svg>\n",
              "    </button>\n",
              "\n",
              "  <style>\n",
              "    .colab-df-container {\n",
              "      display:flex;\n",
              "      gap: 12px;\n",
              "    }\n",
              "\n",
              "    .colab-df-convert {\n",
              "      background-color: #E8F0FE;\n",
              "      border: none;\n",
              "      border-radius: 50%;\n",
              "      cursor: pointer;\n",
              "      display: none;\n",
              "      fill: #1967D2;\n",
              "      height: 32px;\n",
              "      padding: 0 0 0 0;\n",
              "      width: 32px;\n",
              "    }\n",
              "\n",
              "    .colab-df-convert:hover {\n",
              "      background-color: #E2EBFA;\n",
              "      box-shadow: 0px 1px 2px rgba(60, 64, 67, 0.3), 0px 1px 3px 1px rgba(60, 64, 67, 0.15);\n",
              "      fill: #174EA6;\n",
              "    }\n",
              "\n",
              "    .colab-df-buttons div {\n",
              "      margin-bottom: 4px;\n",
              "    }\n",
              "\n",
              "    [theme=dark] .colab-df-convert {\n",
              "      background-color: #3B4455;\n",
              "      fill: #D2E3FC;\n",
              "    }\n",
              "\n",
              "    [theme=dark] .colab-df-convert:hover {\n",
              "      background-color: #434B5C;\n",
              "      box-shadow: 0px 1px 3px 1px rgba(0, 0, 0, 0.15);\n",
              "      filter: drop-shadow(0px 1px 2px rgba(0, 0, 0, 0.3));\n",
              "      fill: #FFFFFF;\n",
              "    }\n",
              "  </style>\n",
              "\n",
              "    <script>\n",
              "      const buttonEl =\n",
              "        document.querySelector('#df-595d4dc5-d527-4141-8319-3a654deee3be button.colab-df-convert');\n",
              "      buttonEl.style.display =\n",
              "        google.colab.kernel.accessAllowed ? 'block' : 'none';\n",
              "\n",
              "      async function convertToInteractive(key) {\n",
              "        const element = document.querySelector('#df-595d4dc5-d527-4141-8319-3a654deee3be');\n",
              "        const dataTable =\n",
              "          await google.colab.kernel.invokeFunction('convertToInteractive',\n",
              "                                                    [key], {});\n",
              "        if (!dataTable) return;\n",
              "\n",
              "        const docLinkHtml = 'Like what you see? Visit the ' +\n",
              "          '<a target=\"_blank\" href=https://colab.research.google.com/notebooks/data_table.ipynb>data table notebook</a>'\n",
              "          + ' to learn more about interactive tables.';\n",
              "        element.innerHTML = '';\n",
              "        dataTable['output_type'] = 'display_data';\n",
              "        await google.colab.output.renderOutput(dataTable, element);\n",
              "        const docLink = document.createElement('div');\n",
              "        docLink.innerHTML = docLinkHtml;\n",
              "        element.appendChild(docLink);\n",
              "      }\n",
              "    </script>\n",
              "  </div>\n",
              "\n",
              "\n",
              "<div id=\"df-843dfd2a-aa88-48c7-b8ad-393e5cbb4978\">\n",
              "  <button class=\"colab-df-quickchart\" onclick=\"quickchart('df-843dfd2a-aa88-48c7-b8ad-393e5cbb4978')\"\n",
              "            title=\"Suggest charts\"\n",
              "            style=\"display:none;\">\n",
              "\n",
              "<svg xmlns=\"http://www.w3.org/2000/svg\" height=\"24px\"viewBox=\"0 0 24 24\"\n",
              "     width=\"24px\">\n",
              "    <g>\n",
              "        <path d=\"M19 3H5c-1.1 0-2 .9-2 2v14c0 1.1.9 2 2 2h14c1.1 0 2-.9 2-2V5c0-1.1-.9-2-2-2zM9 17H7v-7h2v7zm4 0h-2V7h2v10zm4 0h-2v-4h2v4z\"/>\n",
              "    </g>\n",
              "</svg>\n",
              "  </button>\n",
              "\n",
              "<style>\n",
              "  .colab-df-quickchart {\n",
              "      --bg-color: #E8F0FE;\n",
              "      --fill-color: #1967D2;\n",
              "      --hover-bg-color: #E2EBFA;\n",
              "      --hover-fill-color: #174EA6;\n",
              "      --disabled-fill-color: #AAA;\n",
              "      --disabled-bg-color: #DDD;\n",
              "  }\n",
              "\n",
              "  [theme=dark] .colab-df-quickchart {\n",
              "      --bg-color: #3B4455;\n",
              "      --fill-color: #D2E3FC;\n",
              "      --hover-bg-color: #434B5C;\n",
              "      --hover-fill-color: #FFFFFF;\n",
              "      --disabled-bg-color: #3B4455;\n",
              "      --disabled-fill-color: #666;\n",
              "  }\n",
              "\n",
              "  .colab-df-quickchart {\n",
              "    background-color: var(--bg-color);\n",
              "    border: none;\n",
              "    border-radius: 50%;\n",
              "    cursor: pointer;\n",
              "    display: none;\n",
              "    fill: var(--fill-color);\n",
              "    height: 32px;\n",
              "    padding: 0;\n",
              "    width: 32px;\n",
              "  }\n",
              "\n",
              "  .colab-df-quickchart:hover {\n",
              "    background-color: var(--hover-bg-color);\n",
              "    box-shadow: 0 1px 2px rgba(60, 64, 67, 0.3), 0 1px 3px 1px rgba(60, 64, 67, 0.15);\n",
              "    fill: var(--button-hover-fill-color);\n",
              "  }\n",
              "\n",
              "  .colab-df-quickchart-complete:disabled,\n",
              "  .colab-df-quickchart-complete:disabled:hover {\n",
              "    background-color: var(--disabled-bg-color);\n",
              "    fill: var(--disabled-fill-color);\n",
              "    box-shadow: none;\n",
              "  }\n",
              "\n",
              "  .colab-df-spinner {\n",
              "    border: 2px solid var(--fill-color);\n",
              "    border-color: transparent;\n",
              "    border-bottom-color: var(--fill-color);\n",
              "    animation:\n",
              "      spin 1s steps(1) infinite;\n",
              "  }\n",
              "\n",
              "  @keyframes spin {\n",
              "    0% {\n",
              "      border-color: transparent;\n",
              "      border-bottom-color: var(--fill-color);\n",
              "      border-left-color: var(--fill-color);\n",
              "    }\n",
              "    20% {\n",
              "      border-color: transparent;\n",
              "      border-left-color: var(--fill-color);\n",
              "      border-top-color: var(--fill-color);\n",
              "    }\n",
              "    30% {\n",
              "      border-color: transparent;\n",
              "      border-left-color: var(--fill-color);\n",
              "      border-top-color: var(--fill-color);\n",
              "      border-right-color: var(--fill-color);\n",
              "    }\n",
              "    40% {\n",
              "      border-color: transparent;\n",
              "      border-right-color: var(--fill-color);\n",
              "      border-top-color: var(--fill-color);\n",
              "    }\n",
              "    60% {\n",
              "      border-color: transparent;\n",
              "      border-right-color: var(--fill-color);\n",
              "    }\n",
              "    80% {\n",
              "      border-color: transparent;\n",
              "      border-right-color: var(--fill-color);\n",
              "      border-bottom-color: var(--fill-color);\n",
              "    }\n",
              "    90% {\n",
              "      border-color: transparent;\n",
              "      border-bottom-color: var(--fill-color);\n",
              "    }\n",
              "  }\n",
              "</style>\n",
              "\n",
              "  <script>\n",
              "    async function quickchart(key) {\n",
              "      const quickchartButtonEl =\n",
              "        document.querySelector('#' + key + ' button');\n",
              "      quickchartButtonEl.disabled = true;  // To prevent multiple clicks.\n",
              "      quickchartButtonEl.classList.add('colab-df-spinner');\n",
              "      try {\n",
              "        const charts = await google.colab.kernel.invokeFunction(\n",
              "            'suggestCharts', [key], {});\n",
              "      } catch (error) {\n",
              "        console.error('Error during call to suggestCharts:', error);\n",
              "      }\n",
              "      quickchartButtonEl.classList.remove('colab-df-spinner');\n",
              "      quickchartButtonEl.classList.add('colab-df-quickchart-complete');\n",
              "    }\n",
              "    (() => {\n",
              "      let quickchartButtonEl =\n",
              "        document.querySelector('#df-843dfd2a-aa88-48c7-b8ad-393e5cbb4978 button');\n",
              "      quickchartButtonEl.style.display =\n",
              "        google.colab.kernel.accessAllowed ? 'block' : 'none';\n",
              "    })();\n",
              "  </script>\n",
              "</div>\n",
              "\n",
              "  <div id=\"id_059de4e2-cecf-4f7f-8fc3-723a7be6d01f\">\n",
              "    <style>\n",
              "      .colab-df-generate {\n",
              "        background-color: #E8F0FE;\n",
              "        border: none;\n",
              "        border-radius: 50%;\n",
              "        cursor: pointer;\n",
              "        display: none;\n",
              "        fill: #1967D2;\n",
              "        height: 32px;\n",
              "        padding: 0 0 0 0;\n",
              "        width: 32px;\n",
              "      }\n",
              "\n",
              "      .colab-df-generate:hover {\n",
              "        background-color: #E2EBFA;\n",
              "        box-shadow: 0px 1px 2px rgba(60, 64, 67, 0.3), 0px 1px 3px 1px rgba(60, 64, 67, 0.15);\n",
              "        fill: #174EA6;\n",
              "      }\n",
              "\n",
              "      [theme=dark] .colab-df-generate {\n",
              "        background-color: #3B4455;\n",
              "        fill: #D2E3FC;\n",
              "      }\n",
              "\n",
              "      [theme=dark] .colab-df-generate:hover {\n",
              "        background-color: #434B5C;\n",
              "        box-shadow: 0px 1px 3px 1px rgba(0, 0, 0, 0.15);\n",
              "        filter: drop-shadow(0px 1px 2px rgba(0, 0, 0, 0.3));\n",
              "        fill: #FFFFFF;\n",
              "      }\n",
              "    </style>\n",
              "    <button class=\"colab-df-generate\" onclick=\"generateWithVariable('similarity_df')\"\n",
              "            title=\"Generate code using this dataframe.\"\n",
              "            style=\"display:none;\">\n",
              "\n",
              "  <svg xmlns=\"http://www.w3.org/2000/svg\" height=\"24px\"viewBox=\"0 0 24 24\"\n",
              "       width=\"24px\">\n",
              "    <path d=\"M7,19H8.4L18.45,9,17,7.55,7,17.6ZM5,21V16.75L18.45,3.32a2,2,0,0,1,2.83,0l1.4,1.43a1.91,1.91,0,0,1,.58,1.4,1.91,1.91,0,0,1-.58,1.4L9.25,21ZM18.45,9,17,7.55Zm-12,3A5.31,5.31,0,0,0,4.9,8.1,5.31,5.31,0,0,0,1,6.5,5.31,5.31,0,0,0,4.9,4.9,5.31,5.31,0,0,0,6.5,1,5.31,5.31,0,0,0,8.1,4.9,5.31,5.31,0,0,0,12,6.5,5.46,5.46,0,0,0,6.5,12Z\"/>\n",
              "  </svg>\n",
              "    </button>\n",
              "    <script>\n",
              "      (() => {\n",
              "      const buttonEl =\n",
              "        document.querySelector('#id_059de4e2-cecf-4f7f-8fc3-723a7be6d01f button.colab-df-generate');\n",
              "      buttonEl.style.display =\n",
              "        google.colab.kernel.accessAllowed ? 'block' : 'none';\n",
              "\n",
              "      buttonEl.onclick = () => {\n",
              "        google.colab.notebook.generateWithVariable('similarity_df');\n",
              "      }\n",
              "      })();\n",
              "    </script>\n",
              "  </div>\n",
              "\n",
              "    </div>\n",
              "  </div>\n"
            ],
            "application/vnd.google.colaboratory.intrinsic+json": {
              "type": "dataframe",
              "variable_name": "similarity_df",
              "summary": "{\n  \"name\": \"similarity_df\",\n  \"rows\": 5,\n  \"fields\": [\n    {\n      \"column\": \"tree\",\n      \"properties\": {\n        \"dtype\": \"number\",\n        \"std\": 0.40971941618624813,\n        \"min\": 0.07,\n        \"max\": 1.0,\n        \"num_unique_values\": 4,\n        \"samples\": [\n          0.07,\n          0.12,\n          1.0\n        ],\n        \"semantic_type\": \"\",\n        \"description\": \"\"\n      }\n    },\n    {\n      \"column\": \"lion\",\n      \"properties\": {\n        \"dtype\": \"number\",\n        \"std\": 0.3683476618630828,\n        \"min\": 0.07,\n        \"max\": 1.0,\n        \"num_unique_values\": 5,\n        \"samples\": [\n          1.0,\n          0.17,\n          0.33\n        ],\n        \"semantic_type\": \"\",\n        \"description\": \"\"\n      }\n    },\n    {\n      \"column\": \"tiger\",\n      \"properties\": {\n        \"dtype\": \"number\",\n        \"std\": 0.3683476618630828,\n        \"min\": 0.07,\n        \"max\": 1.0,\n        \"num_unique_values\": 5,\n        \"samples\": [\n          0.33,\n          0.17,\n          1.0\n        ],\n        \"semantic_type\": \"\",\n        \"description\": \"\"\n      }\n    },\n    {\n      \"column\": \"cat\",\n      \"properties\": {\n        \"dtype\": \"number\",\n        \"std\": 0.36664696916789047,\n        \"min\": 0.08,\n        \"max\": 1.0,\n        \"num_unique_values\": 4,\n        \"samples\": [\n          0.25,\n          0.2,\n          0.08\n        ],\n        \"semantic_type\": \"\",\n        \"description\": \"\"\n      }\n    },\n    {\n      \"column\": \"dog\",\n      \"properties\": {\n        \"dtype\": \"number\",\n        \"std\": 0.3745263675630862,\n        \"min\": 0.12,\n        \"max\": 1.0,\n        \"num_unique_values\": 4,\n        \"samples\": [\n          0.17,\n          1.0,\n          0.12\n        ],\n        \"semantic_type\": \"\",\n        \"description\": \"\"\n      }\n    }\n  ]\n}"
            }
          },
          "metadata": {},
          "execution_count": 11
        }
      ],
      "source": [
        "# synet 객체를 단어별로 생성한다.\n",
        "tree=wn.synset('tree.n.01')\n",
        "lion=wn.synset('lion.n.01')\n",
        "tiger=wn.synset('tiger.n.02')\n",
        "cat=wn.synset('cat.n.01')\n",
        "dog=wn.synset('dog.n.01')\n",
        "\n",
        "entities=[tree, lion, tiger, cat, dog]\n",
        "similarities=[]\n",
        "entity_names=[entity.name().split('.')[0] for entity in entities]\n",
        "\n",
        "# 단어별 synset을 반복하면서 다른 단어의 synset과 유사도를 측정한다.\n",
        "for entity in entities:\n",
        "  similarity=[round(entity.path_similarity(compared_entity), 2) for compared_entity in entities]\n",
        "  similarities.append(similarity)\n",
        "\n",
        "# 개별 단어별 synset과 다른 단어의 synset과의 유사도를 DataFrame 형태로 저장한다.\n",
        "similarity_df=pd.DataFrame(similarities, columns=entity_names, index=entity_names)\n",
        "similarity_df"
      ]
    },
    {
      "cell_type": "markdown",
      "metadata": {
        "id": "nD7nS-KQFGHv"
      },
      "source": [
        "lion은 tree와의 유사도가 0.07로 가장 작고, tiger와의 유사도가 0.33으로 가장 큼.\n",
        "\n",
        "SentiWordNet은 WordNet의 Synset과 유사한 Senti_Synset 클래스를 가지고 있다. SentiWordNet 모듈의 `senti_synsets()`는 WordNet 모듈이라서 `synsets()`와 비슷하게 Senti_Synset 클래스를 리스트 형태로 반환한다."
      ]
    },
    {
      "cell_type": "code",
      "execution_count": 12,
      "metadata": {
        "colab": {
          "base_uri": "https://localhost:8080/"
        },
        "id": "fGyn0G5eFYu7",
        "outputId": "d3e83401-872a-4294-bebc-42f107ef90b4"
      },
      "outputs": [
        {
          "output_type": "stream",
          "name": "stdout",
          "text": [
            "senti_synsets() 반환 type : <class 'list'>\n",
            "senti_synsets() 반환 값 개수 : 11\n",
            "senti_synsets() 반환 값 : [SentiSynset('decelerate.v.01'), SentiSynset('slow.v.02'), SentiSynset('slow.v.03'), SentiSynset('slow.a.01'), SentiSynset('slow.a.02'), SentiSynset('dense.s.04'), SentiSynset('slow.a.04'), SentiSynset('boring.s.01'), SentiSynset('dull.s.08'), SentiSynset('slowly.r.01'), SentiSynset('behind.r.03')]\n"
          ]
        }
      ],
      "source": [
        "import nltk\n",
        "from nltk.corpus import sentiwordnet as swn\n",
        "\n",
        "senti_synsets=list(swn.senti_synsets('slow'))\n",
        "print('senti_synsets() 반환 type :', type(senti_synsets))\n",
        "print('senti_synsets() 반환 값 개수 :', len(senti_synsets))\n",
        "print('senti_synsets() 반환 값 :', senti_synsets)"
      ]
    },
    {
      "cell_type": "markdown",
      "metadata": {
        "id": "CUISUWNFFrKs"
      },
      "source": [
        "어떤 단어가 전혀 감성적이지 않으면 객관성 지수는 1이 되고, 감성 지수는 모두 0이 된다.\n",
        "\n",
        "father(아버지)라는 단어와 fabulous(아주 멋진)라는 두 개 단어의 감성 지수와 객관성 지수를 나타낸다."
      ]
    },
    {
      "cell_type": "code",
      "execution_count": 13,
      "metadata": {
        "colab": {
          "base_uri": "https://localhost:8080/"
        },
        "id": "X3OJBQ_6F_BD",
        "outputId": "e8d6e1de-c570-4bb5-a43b-5f4cebfa3f29"
      },
      "outputs": [
        {
          "output_type": "stream",
          "name": "stdout",
          "text": [
            "father 긍정감성 지수 : 0.0\n",
            "father 부정감성 지수 : 0.0\n",
            "father 객관성 지수 : 1.0\n",
            "\n",
            "\n",
            "fabulous 긍정감성 지수 : 0.875\n",
            "fabulous 부정감성 지수 : 0.125\n"
          ]
        }
      ],
      "source": [
        "import nltk\n",
        "from nltk.corpus import sentiwordnet as swn\n",
        "\n",
        "father=swn.senti_synset('father.n.01')\n",
        "print('father 긍정감성 지수 :', father.pos_score())\n",
        "print('father 부정감성 지수 :', father.neg_score())\n",
        "print('father 객관성 지수 :', father.obj_score())\n",
        "print('\\n')\n",
        "fabulous=swn.senti_synset('fabulous.a.01')\n",
        "print('fabulous 긍정감성 지수 :', fabulous.pos_score())\n",
        "print('fabulous 부정감성 지수 :', fabulous.neg_score())"
      ]
    },
    {
      "cell_type": "markdown",
      "metadata": {
        "id": "T9ZmTFm4GZl-"
      },
      "source": [
        "father은 객관적인 단어로 객관성 지수가 1.0이고 긍정 감성/부정 감성 지수 모두 0이다. 반면 fabulous는 감성 단어로서 긍정 감성 지수가 0.875, 부정 감성 지수가 0.125이다."
      ]
    },
    {
      "cell_type": "markdown",
      "metadata": {
        "id": "FV6uZFWEGnHF"
      },
      "source": [
        "**1) SentiWordNet을 이용한 영화 감상평 감성 분석**\n",
        "\n",
        "1. 문서를 문장 단위로 분해 : **WordNet**\n",
        "2. 문장을 단어 단위로 토큰화하고 품사 태깅 : **어근 추출(Lemmatization), 품사 태깅(POS Tagging)**\n",
        "3. 품사 태깅된 단어 기반으로 synset 객체와 senti_synset 객체 생성\n",
        "4. senti_synset 객체에서 긍정 감성/부정 감성 지수를 구하고 이를 모두 합산해 특정 임계치 값 이상일 때 긍정 감성으로, 그렇지 않을 때는 부정 감성으로 결정 : **Polarity Score 합산 함수 생성**(각 단어의 긍정 지수와 부정 지수를 모두 합한 총 감성 지수가 0 이상일 경우 긍정 감성, 그렇지 않을 경우 부정 감성으로 예측한다.)\n",
        "\n",
        "**품사 태깅 내부 함수 생성**"
      ]
    },
    {
      "cell_type": "code",
      "execution_count": 14,
      "metadata": {
        "id": "bfrz6QQlG9G2"
      },
      "outputs": [],
      "source": [
        "from nltk.corpus import wordnet as wn\n",
        "\n",
        "# 간단한 NLTK PennTreebank Tag를 기반으로 WordNet 기반의 품사 Tag로 변환\n",
        "def penn_to_wn(tag):\n",
        "  if tag.startswith('J'):\n",
        "    return wn.ADJ\n",
        "  elif tag.startswith('N'):\n",
        "    return wn.NOUN\n",
        "  elif tag.startswith('R'):\n",
        "    return wn.ADV\n",
        "  elif tag.startswith('V'):\n",
        "    return wn.VERB"
      ]
    },
    {
      "cell_type": "code",
      "execution_count": 15,
      "metadata": {
        "id": "yjcxM751IbBH"
      },
      "outputs": [],
      "source": [
        "from nltk.stem import WordNetLemmatizer\n",
        "from nltk.corpus import sentiwordnet as swn\n",
        "from nltk import sent_tokenize, word_tokenize, pos_tag\n",
        "\n",
        "def swn_polarity(text):\n",
        "  # 감성 지수 초기화\n",
        "  sentiment=0.0\n",
        "  tokens_count=0\n",
        "\n",
        "  lemmatizer=WordNetLemmatizer()\n",
        "  raw_sentences=sent_tokenize(text)\n",
        "  # 분해된 문장별로 단어 토큰 -> 품사 태깅 후에 SentiSynset 생성 -> 감성 지수 합산\n",
        "  for raw_sentence in raw_sentences:\n",
        "    # NLTK 기반의 품사 태깅 문장 추출\n",
        "    tagged_sentence=pos_tag(word_tokenize(raw_sentence))\n",
        "    for word, tag in tagged_sentence:\n",
        "      # WordNet 기반 품사 태깅과 어근 추출\n",
        "      wn_tag=penn_to_wn(tag)\n",
        "      if wn_tag not in (wn.NOUN, wn.ADJ, wn.ADV):\n",
        "        continue\n",
        "      lemma=lemmatizer.lemmatize(word, pos=wn_tag)\n",
        "      if not lemma:\n",
        "        continue\n",
        "      # 어근을 추출한 단어와 WordNet 기반 품사 태깅을 입력해 Synset 객체를 생성\n",
        "      synsets=wn.synsets(lemma, pos=wn_tag)\n",
        "      if not synsets:\n",
        "        continue\n",
        "        # sentiwordnet의 감성 단어 분석으로 감성 synset 추출\n",
        "        # 모든 단어에 대해 긍정 감성 지수는 +로 부정 감성 지수는 -로 합산해 감성 지수 계산\n",
        "      synset=synsets[0]\n",
        "      swn_synset=swn.senti_synset(synset.name())\n",
        "      sentiment+=(swn_synset.pos_score()-swn_synset.neg_score())\n",
        "      tokens_count+=1\n",
        "  if not tokens_count:\n",
        "    return 0\n",
        "  # 총 score가 0 이상일 경우 긍정(Positive) 1, 그렇지 않을 경우 부정(Negative) 0 반환\n",
        "  if sentiment >=0:\n",
        "    return 1\n",
        "  return 0"
      ]
    },
    {
      "cell_type": "markdown",
      "metadata": {
        "id": "0V1v3YTyIC7K"
      },
      "source": [
        "`swn_polarity(text)` 함수를 IMDB 감상평의 개별 문서에 적용해 긍정 및 부정 감성을 예측한다. 판다스의 apply lambda 구문을 이용해 `swn_polarity(text)`를 개별 감상평 텍스트에 적용한다. 지도학습 기반의 감성 분석에서 생성한 review_df DataFrame을 그대로 이용한다. review_df의 새로운 칼럼으로 'preds'를 추가해 이 칼럼에 `swn_polarity(text)`로 반환된 결과의 정확도, 정밀도, 재현율 값을 모두 측정한다."
      ]
    },
    {
      "cell_type": "code",
      "execution_count": 16,
      "metadata": {
        "id": "lAqKJebEKNdt"
      },
      "outputs": [],
      "source": [
        "review_df['preds']=review_df['review'].apply(lambda x : swn_polarity(x))\n",
        "y_target=review_df['sentiment'].values\n",
        "preds=review_df['preds'].values"
      ]
    },
    {
      "cell_type": "markdown",
      "metadata": {
        "id": "L3ioyKeVK7y7"
      },
      "source": [
        "SentiWordNet의 감성 분석 예측 성능을 살펴보자."
      ]
    },
    {
      "cell_type": "code",
      "execution_count": 17,
      "metadata": {
        "colab": {
          "base_uri": "https://localhost:8080/"
        },
        "id": "zfhifOJxKhD6",
        "outputId": "18a3e0f0-1e2e-4094-eb64-5fe703e955f2"
      },
      "outputs": [
        {
          "output_type": "stream",
          "name": "stdout",
          "text": [
            "[[7668 4832]\n",
            " [3636 8864]]\n",
            "정확도 : 0.6613\n",
            "정밀도 : 0.6472\n",
            "재현율 : 0.7091\n"
          ]
        }
      ],
      "source": [
        "from sklearn.metrics import accuracy_score, confusion_matrix, precision_score\n",
        "from sklearn.metrics import recall_score, f1_score, roc_auc_score\n",
        "import numpy as np\n",
        "\n",
        "print(confusion_matrix(y_target, preds))\n",
        "print('정확도 :', np.round(accuracy_score(y_target, preds), 4))\n",
        "print('정밀도 :', np.round(precision_score(y_target, preds), 4))\n",
        "print('재현율 :', np.round(recall_score(y_target, preds), 4))"
      ]
    },
    {
      "cell_type": "markdown",
      "metadata": {
        "id": "Y8QfoFPRLHd-"
      },
      "source": [
        "전반적인 성능 지표가 만족스럽지는 않다."
      ]
    },
    {
      "cell_type": "markdown",
      "metadata": {
        "id": "0hgaxlwPLODs"
      },
      "source": [
        "**2) VADER를 이용한 감성 분석**\n",
        "\n",
        "VADER은 SentimentIntensityAnalyzer 클래스를 이용해 쉽게 감성 분석을 제공한다. VADER는 NLTK 패키지의 서브 모듈로 제공될 수도 있고 단독 패키지로 제공될 수도 있다. VADER를 NLTK 서브 모듈로 설치하는 부분은 바로 이전의 'SentiWordNet을 이용한 감성 부석' 첫 번째 소스코드인 `import nltk`와 `nltk.download('all')`을 통해 완료했다."
      ]
    },
    {
      "cell_type": "code",
      "execution_count": 18,
      "metadata": {
        "id": "HT3teyFVLNp6",
        "colab": {
          "base_uri": "https://localhost:8080/"
        },
        "outputId": "9a71e4af-5e37-408d-e5db-bf30abb5dccd"
      },
      "outputs": [
        {
          "output_type": "stream",
          "name": "stdout",
          "text": [
            "{'neg': 0.13, 'neu': 0.743, 'pos': 0.127, 'compound': -0.7943}\n"
          ]
        }
      ],
      "source": [
        "from nltk.sentiment.vader import SentimentIntensityAnalyzer\n",
        "\n",
        "senti_analyzer=SentimentIntensityAnalyzer()\n",
        "senti_scores=senti_analyzer.polarity_scores(review_df['review'][0])\n",
        "print(senti_scores)"
      ]
    },
    {
      "cell_type": "markdown",
      "metadata": {
        "id": "ENxYn-HtM6k4"
      },
      "source": [
        "SentimentIntensityAnalyzer 객체의 `polarity_scores()` 메서드는 딕셔너리 형태의 감성 점수를 반환한다. 'neg'는 부정 감성 지수, 'neu'는 중립적인 감성 지수, 'pos'는 긍정 감성 지수, compound는 neg, neu, pos score를 적절히 조합해 -1에서 1 사이의 감성 지수를 표현한 값이다. compound score를 기반으로 부정 감성 또는 긍정 감성 여부를 결정한다. 보통 0.1 이상이면 긍정, 그 이하면 부정 감성으로 판단하나 상황에 따라 이 임곗값을 적절히 조정해 예측 성능을 조절한다.\n",
        "\n",
        "`vader_polarity()` 함수를 만든다. 입력 파라미터로 영화 감상평 텍스트와 긍정/부정을 결정하는 임곗값(threshold)을 가지고, SentimentIntensityAnalyzer 객체의 `polarity_scores()` 메서드를 호출해 감성 결과를 반환한다. review_df DataFrame의 apply lambda 식을 통해 `vader_polarity()` 함수를 호출해 각 문서별로 감성 결과를 vader_preds라는 review_df의 새로운 칼럼으로 저장한 뒤, 저장된 감성 분석 결과를 기반으로 VADER의 예측 성능을 측정한다."
      ]
    },
    {
      "cell_type": "code",
      "execution_count": 19,
      "metadata": {
        "colab": {
          "base_uri": "https://localhost:8080/"
        },
        "id": "C9UfxJdHN2Hd",
        "outputId": "7486348b-888c-4990-8ff2-588fb3b27311"
      },
      "outputs": [
        {
          "output_type": "stream",
          "name": "stdout",
          "text": [
            "[[ 6747  5753]\n",
            " [ 1858 10642]]\n",
            "정확도 : 0.6956\n",
            "정밀도 : 0.6491\n",
            "재현율 : 0.8514\n"
          ]
        }
      ],
      "source": [
        "def vader_polarity(review, threshold=0.1):\n",
        "  analyzer=SentimentIntensityAnalyzer()\n",
        "  scores=analyzer.polarity_scores(review)\n",
        "\n",
        "  # compound 값에 기반해 threshold 입력값보다 크면 1, 그렇지 않으면 0을 반환\n",
        "  agg_score=scores['compound']\n",
        "  final_sentiment=1 if agg_score >= threshold else 0\n",
        "  return final_sentiment\n",
        "\n",
        "# apply lambda 식을 이용해 레코드별로 vader_polarity()를 수행하고 결과를 'vader_preds'에 저장\n",
        "review_df['vader_preds']=review_df['review'].apply(lambda x : vader_polarity(x, 0.1))\n",
        "y_target=review_df['sentiment'].values\n",
        "vader_preds=review_df['vader_preds'].values\n",
        "\n",
        "print(confusion_matrix(y_target, vader_preds))\n",
        "print('정확도 :', np.round(accuracy_score(y_target, vader_preds), 4))\n",
        "print('정밀도 :', np.round(precision_score(y_target, vader_preds), 4))\n",
        "print('재현율 :', np.round(recall_score(y_target, vader_preds), 4))"
      ]
    },
    {
      "cell_type": "markdown",
      "metadata": {
        "id": "y1YvEV1HOyKG"
      },
      "source": [
        "![image.png](data:image/png;base64,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)"
      ]
    }
  ],
  "metadata": {
    "colab": {
      "provenance": [],
      "authorship_tag": "ABX9TyNnQd9LBxeHrzxZvFkn0JQv",
      "include_colab_link": true
    },
    "kernelspec": {
      "display_name": "Python 3",
      "name": "python3"
    },
    "language_info": {
      "name": "python"
    }
  },
  "nbformat": 4,
  "nbformat_minor": 0
}