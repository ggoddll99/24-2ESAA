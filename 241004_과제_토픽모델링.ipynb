{
  "nbformat": 4,
  "nbformat_minor": 0,
  "metadata": {
    "colab": {
      "provenance": [],
      "authorship_tag": "ABX9TyNhXN+F0c9X+c/lWYT4U4qP",
      "include_colab_link": true
    },
    "kernelspec": {
      "name": "python3",
      "display_name": "Python 3"
    },
    "language_info": {
      "name": "python"
    }
  },
  "cells": [
    {
      "cell_type": "markdown",
      "metadata": {
        "id": "view-in-github",
        "colab_type": "text"
      },
      "source": [
        "<a href=\"https://colab.research.google.com/github/ggoddll99/24-2ESAA/blob/main/241004_%EA%B3%BC%EC%A0%9C_%ED%86%A0%ED%94%BD%EB%AA%A8%EB%8D%B8%EB%A7%81.ipynb\" target=\"_parent\"><img src=\"https://colab.research.google.com/assets/colab-badge.svg\" alt=\"Open In Colab\"/></a>"
      ]
    },
    {
      "cell_type": "markdown",
      "source": [
        "## **06. 토픽 모델링 - 20 뉴스그룹**"
      ],
      "metadata": {
        "id": "gf7SnEZaO0yl"
      }
    },
    {
      "cell_type": "markdown",
      "source": [
        "텍스트 요약 : 텍스트 내에서 중요한 주제나 중심 사상을 추출하는 기법. - ex. 토픽 모델링\n",
        "\n",
        "* 토픽 모델링 : 문서 집합에 숨어 있는 주제를 찾아내는 것. 사람이 수행하는 토픽 모델링은 더 함축적인 의미로 문장을 요약하는 것에 반해, 머신러닝 기반의 토픽 모델은 숨겨진 주제를 효과적으로 표현할 수 있는 중심 단어를 함축적으로 추출한다.\n",
        "\n",
        "  * LSA(Latent Semantic Analysis)\n",
        "  * LDA(Latent Dirichlet Allocation)"
      ],
      "metadata": {
        "id": "wTa4Hgq7O4tJ"
      }
    },
    {
      "cell_type": "markdown",
      "source": [
        "20 뉴스그룹 데이터세트 주제 : 'alt.atheism', 'comp.graphics', 'comp.os.ms-windows.misc', 'comp.sys.ibm.pc.hardware', 'comp.sys.mac.hardware1, 'comp.windows.x', 'misc.forsale', 'rec.autos', 'rec.motorcycles', 'rec.sport.baseball', 'rec.sport.hockey'sci.crypt', 'sci.electronics', 'sci.med', 'sci.space', 'soc.religion.Christian', 'talk.politics.guns', 'talk.politics.mideast', 'talk.politics.misc', 'talk.religion.misc'\n",
        "\n",
        "이 중 모터사이클, 야구, 그래픽스, 윈도우, 중동, 기독교, 전자공학, 의학의 8개 주제를 추출하고 이들 텍스트에 LDA 기반의 토픽 모델링을 적용한다.\n",
        "\n",
        "사이킷런은 `LatentDirichletAllocation` 클래스로 LDA 기반의 토픽 모델링을 제공한다.\n",
        "\n",
        "1. `fetch_20newsgroups()` API의 categories 파라미터를 통해 필요한 주제만 필터링해 추출하고 추출한다.\n",
        "2. 텍스트를 Count 기반으로 벡터화 변환한다(LDA는 Count 기반 벡터화만 사용한다).\n",
        "* `max_features=1000`으로 word 피처의 개수 제한\n",
        "  * 생성할 피처(단어 또는 n-그램)의 최대 개수를 설정\n",
        "    * 차원 축소\n",
        "      * 과적합 방지: 너무 많은 피처가 있으면 모델이 학습 데이터에 과적합될 위험이 높아진다.\n",
        "      * 계산 효율성: 피처 수가 줄어들면 모델 훈련과 예측에 소요되는 시간이 단축된다.\n",
        "    * 노이즈 감소\n",
        "      * 불필요한 단어 제거: 자주 사용되지 않는 단어는 일반적으로 정보가 적거나 노이즈가 될 수 있다.\n",
        "    * 데이터 특성 고려 : 특정 도메인에서는 특정 단어들이 더 중요할 수 있다.\n",
        "* `ngram_range` (1, 2)\n",
        "  * `ngram_range` 옵션은 단어의 n-그램(연속된 n개의 단어 시퀀스)의 범위를 설정하는 데 사용된다. 예를 들어, `ngram_range=(1, 2)`로 설정하면, 단어 단위의 1-그램(단일 단어)과 2-그램(두 단어의 조합)이 모두 포함된 피처를 생성한다.\n",
        "    * 1-그램: 각 단어를 개별적으로 사용.\n",
        "    * 2-그램: 두 단어의 조합을 사용 (예: \"좋은 날\").\n",
        "\n",
        "이렇게 n-그램을 사용하면 텍스트 데이터에서 더 많은 정보를 포착할 수 있어, 모델의 성능을 향상시킬 수 있습니다.\n",
        "* `max_df` : 특정 단어가 문서 집합에서 나타나는 비율을 기준으로 해당 단어를 필터링하는 데 사용됩니다. 0.5로 설정할 경우, 전체 문서의 50% 이상에서 나타나는 단어는 제외됩니다. 예를 들어, 100개의 문서가 있을 때, 50개 이상의 문서에 등장하는 단어는 피처에서 제거됩니다."
      ],
      "metadata": {
        "id": "79bUEGF7PWEo"
      }
    },
    {
      "cell_type": "code",
      "execution_count": null,
      "metadata": {
        "colab": {
          "base_uri": "https://localhost:8080/"
        },
        "id": "KYFPjns0Oj7u",
        "outputId": "9edf8d78-8795-4f26-ec01-01f3aed7494b"
      },
      "outputs": [
        {
          "output_type": "stream",
          "name": "stdout",
          "text": [
            "CountVectorizer Shape : (7862, 1000)\n"
          ]
        }
      ],
      "source": [
        "from sklearn.datasets import fetch_20newsgroups\n",
        "from sklearn.feature_extraction.text import CountVectorizer\n",
        "from sklearn.decomposition import LatentDirichletAllocation\n",
        "\n",
        "# 모터사이클, 야구, 그래픽스, 윈도우즈, 중동, 기독교, 전자공학, 의학 8개 주제 추출\n",
        "cats=['rec.motorcycles', 'rec.sport.baseball', 'comp.graphics', 'comp.windows.x',\n",
        "      'talk.politics.mideast', 'soc.religion.christian', 'sci.electronics', 'sci.med']\n",
        "\n",
        "# 위에서 cats 변수로 기재된 카테고리만 추출. fetch_20newsgroups()의 categories에 cats 입력\n",
        "news_df=fetch_20newsgroups(subset='all', remove=('headers', 'footers', 'quotes'),\n",
        "                           categories=cats, random_state=0)\n",
        "\n",
        "# LDA는 Count 기반의 벡터화만 적용한다.\n",
        "count_vect=CountVectorizer(max_df=0.95, max_features=1000, min_df=2, stop_words='english',\n",
        "                           ngram_range=(1, 2))\n",
        "feat_vect=count_vect.fit_transform(news_df.data)\n",
        "print('CountVectorizer Shape :', feat_vect.shape)"
      ]
    },
    {
      "cell_type": "markdown",
      "source": [
        "`feat_vect` : 7862개의 문서가 1000개의 피처로 구성된 행렬 데이터.\n",
        "\n",
        "토픽의 개수는 뉴스그룹에서 추출한 주제와 동일하게 8개로 정한다.\n",
        "\n",
        "`LatentDirichletAllocation` 클래스의 `n_components` 파라미터를 이용해 이 토픽 개수를 조정한다(`ranom_state` 입력)."
      ],
      "metadata": {
        "id": "fgBlD0A_bRn4"
      }
    },
    {
      "cell_type": "code",
      "source": [
        "lda=LatentDirichletAllocation(n_components=8, random_state=0)\n",
        "lda.fit(feat_vect)"
      ],
      "metadata": {
        "colab": {
          "base_uri": "https://localhost:8080/",
          "height": 80
        },
        "id": "xvbP00JpcB_Q",
        "outputId": "0cf0092d-c75c-41ca-daf1-bd009f2ba08b"
      },
      "execution_count": null,
      "outputs": [
        {
          "output_type": "execute_result",
          "data": {
            "text/plain": [
              "LatentDirichletAllocation(n_components=8, random_state=0)"
            ],
            "text/html": [
              "<style>#sk-container-id-1 {\n",
              "  /* Definition of color scheme common for light and dark mode */\n",
              "  --sklearn-color-text: black;\n",
              "  --sklearn-color-line: gray;\n",
              "  /* Definition of color scheme for unfitted estimators */\n",
              "  --sklearn-color-unfitted-level-0: #fff5e6;\n",
              "  --sklearn-color-unfitted-level-1: #f6e4d2;\n",
              "  --sklearn-color-unfitted-level-2: #ffe0b3;\n",
              "  --sklearn-color-unfitted-level-3: chocolate;\n",
              "  /* Definition of color scheme for fitted estimators */\n",
              "  --sklearn-color-fitted-level-0: #f0f8ff;\n",
              "  --sklearn-color-fitted-level-1: #d4ebff;\n",
              "  --sklearn-color-fitted-level-2: #b3dbfd;\n",
              "  --sklearn-color-fitted-level-3: cornflowerblue;\n",
              "\n",
              "  /* Specific color for light theme */\n",
              "  --sklearn-color-text-on-default-background: var(--sg-text-color, var(--theme-code-foreground, var(--jp-content-font-color1, black)));\n",
              "  --sklearn-color-background: var(--sg-background-color, var(--theme-background, var(--jp-layout-color0, white)));\n",
              "  --sklearn-color-border-box: var(--sg-text-color, var(--theme-code-foreground, var(--jp-content-font-color1, black)));\n",
              "  --sklearn-color-icon: #696969;\n",
              "\n",
              "  @media (prefers-color-scheme: dark) {\n",
              "    /* Redefinition of color scheme for dark theme */\n",
              "    --sklearn-color-text-on-default-background: var(--sg-text-color, var(--theme-code-foreground, var(--jp-content-font-color1, white)));\n",
              "    --sklearn-color-background: var(--sg-background-color, var(--theme-background, var(--jp-layout-color0, #111)));\n",
              "    --sklearn-color-border-box: var(--sg-text-color, var(--theme-code-foreground, var(--jp-content-font-color1, white)));\n",
              "    --sklearn-color-icon: #878787;\n",
              "  }\n",
              "}\n",
              "\n",
              "#sk-container-id-1 {\n",
              "  color: var(--sklearn-color-text);\n",
              "}\n",
              "\n",
              "#sk-container-id-1 pre {\n",
              "  padding: 0;\n",
              "}\n",
              "\n",
              "#sk-container-id-1 input.sk-hidden--visually {\n",
              "  border: 0;\n",
              "  clip: rect(1px 1px 1px 1px);\n",
              "  clip: rect(1px, 1px, 1px, 1px);\n",
              "  height: 1px;\n",
              "  margin: -1px;\n",
              "  overflow: hidden;\n",
              "  padding: 0;\n",
              "  position: absolute;\n",
              "  width: 1px;\n",
              "}\n",
              "\n",
              "#sk-container-id-1 div.sk-dashed-wrapped {\n",
              "  border: 1px dashed var(--sklearn-color-line);\n",
              "  margin: 0 0.4em 0.5em 0.4em;\n",
              "  box-sizing: border-box;\n",
              "  padding-bottom: 0.4em;\n",
              "  background-color: var(--sklearn-color-background);\n",
              "}\n",
              "\n",
              "#sk-container-id-1 div.sk-container {\n",
              "  /* jupyter's `normalize.less` sets `[hidden] { display: none; }`\n",
              "     but bootstrap.min.css set `[hidden] { display: none !important; }`\n",
              "     so we also need the `!important` here to be able to override the\n",
              "     default hidden behavior on the sphinx rendered scikit-learn.org.\n",
              "     See: https://github.com/scikit-learn/scikit-learn/issues/21755 */\n",
              "  display: inline-block !important;\n",
              "  position: relative;\n",
              "}\n",
              "\n",
              "#sk-container-id-1 div.sk-text-repr-fallback {\n",
              "  display: none;\n",
              "}\n",
              "\n",
              "div.sk-parallel-item,\n",
              "div.sk-serial,\n",
              "div.sk-item {\n",
              "  /* draw centered vertical line to link estimators */\n",
              "  background-image: linear-gradient(var(--sklearn-color-text-on-default-background), var(--sklearn-color-text-on-default-background));\n",
              "  background-size: 2px 100%;\n",
              "  background-repeat: no-repeat;\n",
              "  background-position: center center;\n",
              "}\n",
              "\n",
              "/* Parallel-specific style estimator block */\n",
              "\n",
              "#sk-container-id-1 div.sk-parallel-item::after {\n",
              "  content: \"\";\n",
              "  width: 100%;\n",
              "  border-bottom: 2px solid var(--sklearn-color-text-on-default-background);\n",
              "  flex-grow: 1;\n",
              "}\n",
              "\n",
              "#sk-container-id-1 div.sk-parallel {\n",
              "  display: flex;\n",
              "  align-items: stretch;\n",
              "  justify-content: center;\n",
              "  background-color: var(--sklearn-color-background);\n",
              "  position: relative;\n",
              "}\n",
              "\n",
              "#sk-container-id-1 div.sk-parallel-item {\n",
              "  display: flex;\n",
              "  flex-direction: column;\n",
              "}\n",
              "\n",
              "#sk-container-id-1 div.sk-parallel-item:first-child::after {\n",
              "  align-self: flex-end;\n",
              "  width: 50%;\n",
              "}\n",
              "\n",
              "#sk-container-id-1 div.sk-parallel-item:last-child::after {\n",
              "  align-self: flex-start;\n",
              "  width: 50%;\n",
              "}\n",
              "\n",
              "#sk-container-id-1 div.sk-parallel-item:only-child::after {\n",
              "  width: 0;\n",
              "}\n",
              "\n",
              "/* Serial-specific style estimator block */\n",
              "\n",
              "#sk-container-id-1 div.sk-serial {\n",
              "  display: flex;\n",
              "  flex-direction: column;\n",
              "  align-items: center;\n",
              "  background-color: var(--sklearn-color-background);\n",
              "  padding-right: 1em;\n",
              "  padding-left: 1em;\n",
              "}\n",
              "\n",
              "\n",
              "/* Toggleable style: style used for estimator/Pipeline/ColumnTransformer box that is\n",
              "clickable and can be expanded/collapsed.\n",
              "- Pipeline and ColumnTransformer use this feature and define the default style\n",
              "- Estimators will overwrite some part of the style using the `sk-estimator` class\n",
              "*/\n",
              "\n",
              "/* Pipeline and ColumnTransformer style (default) */\n",
              "\n",
              "#sk-container-id-1 div.sk-toggleable {\n",
              "  /* Default theme specific background. It is overwritten whether we have a\n",
              "  specific estimator or a Pipeline/ColumnTransformer */\n",
              "  background-color: var(--sklearn-color-background);\n",
              "}\n",
              "\n",
              "/* Toggleable label */\n",
              "#sk-container-id-1 label.sk-toggleable__label {\n",
              "  cursor: pointer;\n",
              "  display: block;\n",
              "  width: 100%;\n",
              "  margin-bottom: 0;\n",
              "  padding: 0.5em;\n",
              "  box-sizing: border-box;\n",
              "  text-align: center;\n",
              "}\n",
              "\n",
              "#sk-container-id-1 label.sk-toggleable__label-arrow:before {\n",
              "  /* Arrow on the left of the label */\n",
              "  content: \"▸\";\n",
              "  float: left;\n",
              "  margin-right: 0.25em;\n",
              "  color: var(--sklearn-color-icon);\n",
              "}\n",
              "\n",
              "#sk-container-id-1 label.sk-toggleable__label-arrow:hover:before {\n",
              "  color: var(--sklearn-color-text);\n",
              "}\n",
              "\n",
              "/* Toggleable content - dropdown */\n",
              "\n",
              "#sk-container-id-1 div.sk-toggleable__content {\n",
              "  max-height: 0;\n",
              "  max-width: 0;\n",
              "  overflow: hidden;\n",
              "  text-align: left;\n",
              "  /* unfitted */\n",
              "  background-color: var(--sklearn-color-unfitted-level-0);\n",
              "}\n",
              "\n",
              "#sk-container-id-1 div.sk-toggleable__content.fitted {\n",
              "  /* fitted */\n",
              "  background-color: var(--sklearn-color-fitted-level-0);\n",
              "}\n",
              "\n",
              "#sk-container-id-1 div.sk-toggleable__content pre {\n",
              "  margin: 0.2em;\n",
              "  border-radius: 0.25em;\n",
              "  color: var(--sklearn-color-text);\n",
              "  /* unfitted */\n",
              "  background-color: var(--sklearn-color-unfitted-level-0);\n",
              "}\n",
              "\n",
              "#sk-container-id-1 div.sk-toggleable__content.fitted pre {\n",
              "  /* unfitted */\n",
              "  background-color: var(--sklearn-color-fitted-level-0);\n",
              "}\n",
              "\n",
              "#sk-container-id-1 input.sk-toggleable__control:checked~div.sk-toggleable__content {\n",
              "  /* Expand drop-down */\n",
              "  max-height: 200px;\n",
              "  max-width: 100%;\n",
              "  overflow: auto;\n",
              "}\n",
              "\n",
              "#sk-container-id-1 input.sk-toggleable__control:checked~label.sk-toggleable__label-arrow:before {\n",
              "  content: \"▾\";\n",
              "}\n",
              "\n",
              "/* Pipeline/ColumnTransformer-specific style */\n",
              "\n",
              "#sk-container-id-1 div.sk-label input.sk-toggleable__control:checked~label.sk-toggleable__label {\n",
              "  color: var(--sklearn-color-text);\n",
              "  background-color: var(--sklearn-color-unfitted-level-2);\n",
              "}\n",
              "\n",
              "#sk-container-id-1 div.sk-label.fitted input.sk-toggleable__control:checked~label.sk-toggleable__label {\n",
              "  background-color: var(--sklearn-color-fitted-level-2);\n",
              "}\n",
              "\n",
              "/* Estimator-specific style */\n",
              "\n",
              "/* Colorize estimator box */\n",
              "#sk-container-id-1 div.sk-estimator input.sk-toggleable__control:checked~label.sk-toggleable__label {\n",
              "  /* unfitted */\n",
              "  background-color: var(--sklearn-color-unfitted-level-2);\n",
              "}\n",
              "\n",
              "#sk-container-id-1 div.sk-estimator.fitted input.sk-toggleable__control:checked~label.sk-toggleable__label {\n",
              "  /* fitted */\n",
              "  background-color: var(--sklearn-color-fitted-level-2);\n",
              "}\n",
              "\n",
              "#sk-container-id-1 div.sk-label label.sk-toggleable__label,\n",
              "#sk-container-id-1 div.sk-label label {\n",
              "  /* The background is the default theme color */\n",
              "  color: var(--sklearn-color-text-on-default-background);\n",
              "}\n",
              "\n",
              "/* On hover, darken the color of the background */\n",
              "#sk-container-id-1 div.sk-label:hover label.sk-toggleable__label {\n",
              "  color: var(--sklearn-color-text);\n",
              "  background-color: var(--sklearn-color-unfitted-level-2);\n",
              "}\n",
              "\n",
              "/* Label box, darken color on hover, fitted */\n",
              "#sk-container-id-1 div.sk-label.fitted:hover label.sk-toggleable__label.fitted {\n",
              "  color: var(--sklearn-color-text);\n",
              "  background-color: var(--sklearn-color-fitted-level-2);\n",
              "}\n",
              "\n",
              "/* Estimator label */\n",
              "\n",
              "#sk-container-id-1 div.sk-label label {\n",
              "  font-family: monospace;\n",
              "  font-weight: bold;\n",
              "  display: inline-block;\n",
              "  line-height: 1.2em;\n",
              "}\n",
              "\n",
              "#sk-container-id-1 div.sk-label-container {\n",
              "  text-align: center;\n",
              "}\n",
              "\n",
              "/* Estimator-specific */\n",
              "#sk-container-id-1 div.sk-estimator {\n",
              "  font-family: monospace;\n",
              "  border: 1px dotted var(--sklearn-color-border-box);\n",
              "  border-radius: 0.25em;\n",
              "  box-sizing: border-box;\n",
              "  margin-bottom: 0.5em;\n",
              "  /* unfitted */\n",
              "  background-color: var(--sklearn-color-unfitted-level-0);\n",
              "}\n",
              "\n",
              "#sk-container-id-1 div.sk-estimator.fitted {\n",
              "  /* fitted */\n",
              "  background-color: var(--sklearn-color-fitted-level-0);\n",
              "}\n",
              "\n",
              "/* on hover */\n",
              "#sk-container-id-1 div.sk-estimator:hover {\n",
              "  /* unfitted */\n",
              "  background-color: var(--sklearn-color-unfitted-level-2);\n",
              "}\n",
              "\n",
              "#sk-container-id-1 div.sk-estimator.fitted:hover {\n",
              "  /* fitted */\n",
              "  background-color: var(--sklearn-color-fitted-level-2);\n",
              "}\n",
              "\n",
              "/* Specification for estimator info (e.g. \"i\" and \"?\") */\n",
              "\n",
              "/* Common style for \"i\" and \"?\" */\n",
              "\n",
              ".sk-estimator-doc-link,\n",
              "a:link.sk-estimator-doc-link,\n",
              "a:visited.sk-estimator-doc-link {\n",
              "  float: right;\n",
              "  font-size: smaller;\n",
              "  line-height: 1em;\n",
              "  font-family: monospace;\n",
              "  background-color: var(--sklearn-color-background);\n",
              "  border-radius: 1em;\n",
              "  height: 1em;\n",
              "  width: 1em;\n",
              "  text-decoration: none !important;\n",
              "  margin-left: 1ex;\n",
              "  /* unfitted */\n",
              "  border: var(--sklearn-color-unfitted-level-1) 1pt solid;\n",
              "  color: var(--sklearn-color-unfitted-level-1);\n",
              "}\n",
              "\n",
              ".sk-estimator-doc-link.fitted,\n",
              "a:link.sk-estimator-doc-link.fitted,\n",
              "a:visited.sk-estimator-doc-link.fitted {\n",
              "  /* fitted */\n",
              "  border: var(--sklearn-color-fitted-level-1) 1pt solid;\n",
              "  color: var(--sklearn-color-fitted-level-1);\n",
              "}\n",
              "\n",
              "/* On hover */\n",
              "div.sk-estimator:hover .sk-estimator-doc-link:hover,\n",
              ".sk-estimator-doc-link:hover,\n",
              "div.sk-label-container:hover .sk-estimator-doc-link:hover,\n",
              ".sk-estimator-doc-link:hover {\n",
              "  /* unfitted */\n",
              "  background-color: var(--sklearn-color-unfitted-level-3);\n",
              "  color: var(--sklearn-color-background);\n",
              "  text-decoration: none;\n",
              "}\n",
              "\n",
              "div.sk-estimator.fitted:hover .sk-estimator-doc-link.fitted:hover,\n",
              ".sk-estimator-doc-link.fitted:hover,\n",
              "div.sk-label-container:hover .sk-estimator-doc-link.fitted:hover,\n",
              ".sk-estimator-doc-link.fitted:hover {\n",
              "  /* fitted */\n",
              "  background-color: var(--sklearn-color-fitted-level-3);\n",
              "  color: var(--sklearn-color-background);\n",
              "  text-decoration: none;\n",
              "}\n",
              "\n",
              "/* Span, style for the box shown on hovering the info icon */\n",
              ".sk-estimator-doc-link span {\n",
              "  display: none;\n",
              "  z-index: 9999;\n",
              "  position: relative;\n",
              "  font-weight: normal;\n",
              "  right: .2ex;\n",
              "  padding: .5ex;\n",
              "  margin: .5ex;\n",
              "  width: min-content;\n",
              "  min-width: 20ex;\n",
              "  max-width: 50ex;\n",
              "  color: var(--sklearn-color-text);\n",
              "  box-shadow: 2pt 2pt 4pt #999;\n",
              "  /* unfitted */\n",
              "  background: var(--sklearn-color-unfitted-level-0);\n",
              "  border: .5pt solid var(--sklearn-color-unfitted-level-3);\n",
              "}\n",
              "\n",
              ".sk-estimator-doc-link.fitted span {\n",
              "  /* fitted */\n",
              "  background: var(--sklearn-color-fitted-level-0);\n",
              "  border: var(--sklearn-color-fitted-level-3);\n",
              "}\n",
              "\n",
              ".sk-estimator-doc-link:hover span {\n",
              "  display: block;\n",
              "}\n",
              "\n",
              "/* \"?\"-specific style due to the `<a>` HTML tag */\n",
              "\n",
              "#sk-container-id-1 a.estimator_doc_link {\n",
              "  float: right;\n",
              "  font-size: 1rem;\n",
              "  line-height: 1em;\n",
              "  font-family: monospace;\n",
              "  background-color: var(--sklearn-color-background);\n",
              "  border-radius: 1rem;\n",
              "  height: 1rem;\n",
              "  width: 1rem;\n",
              "  text-decoration: none;\n",
              "  /* unfitted */\n",
              "  color: var(--sklearn-color-unfitted-level-1);\n",
              "  border: var(--sklearn-color-unfitted-level-1) 1pt solid;\n",
              "}\n",
              "\n",
              "#sk-container-id-1 a.estimator_doc_link.fitted {\n",
              "  /* fitted */\n",
              "  border: var(--sklearn-color-fitted-level-1) 1pt solid;\n",
              "  color: var(--sklearn-color-fitted-level-1);\n",
              "}\n",
              "\n",
              "/* On hover */\n",
              "#sk-container-id-1 a.estimator_doc_link:hover {\n",
              "  /* unfitted */\n",
              "  background-color: var(--sklearn-color-unfitted-level-3);\n",
              "  color: var(--sklearn-color-background);\n",
              "  text-decoration: none;\n",
              "}\n",
              "\n",
              "#sk-container-id-1 a.estimator_doc_link.fitted:hover {\n",
              "  /* fitted */\n",
              "  background-color: var(--sklearn-color-fitted-level-3);\n",
              "}\n",
              "</style><div id=\"sk-container-id-1\" class=\"sk-top-container\"><div class=\"sk-text-repr-fallback\"><pre>LatentDirichletAllocation(n_components=8, random_state=0)</pre><b>In a Jupyter environment, please rerun this cell to show the HTML representation or trust the notebook. <br />On GitHub, the HTML representation is unable to render, please try loading this page with nbviewer.org.</b></div><div class=\"sk-container\" hidden><div class=\"sk-item\"><div class=\"sk-estimator fitted sk-toggleable\"><input class=\"sk-toggleable__control sk-hidden--visually\" id=\"sk-estimator-id-1\" type=\"checkbox\" checked><label for=\"sk-estimator-id-1\" class=\"sk-toggleable__label fitted sk-toggleable__label-arrow fitted\">&nbsp;&nbsp;LatentDirichletAllocation<a class=\"sk-estimator-doc-link fitted\" rel=\"noreferrer\" target=\"_blank\" href=\"https://scikit-learn.org/1.5/modules/generated/sklearn.decomposition.LatentDirichletAllocation.html\">?<span>Documentation for LatentDirichletAllocation</span></a><span class=\"sk-estimator-doc-link fitted\">i<span>Fitted</span></span></label><div class=\"sk-toggleable__content fitted\"><pre>LatentDirichletAllocation(n_components=8, random_state=0)</pre></div> </div></div></div></div>"
            ]
          },
          "metadata": {},
          "execution_count": 3
        }
      ]
    },
    {
      "cell_type": "markdown",
      "source": [
        "fitting을 하면 `LatentDirichletAllocation` 객체는 `components_` 속성값을 가진다. `components_`는 개별 토픽별로 각 word 피처가 얼마나 많이 그 토픽에 할당됐는지에 대한 수치를 가지고 있다. 높은 값일수록 해당 word 피처는 그 토픽의 중심 word가 된다. `components_`의 형태와 속성값을 확인해보자."
      ],
      "metadata": {
        "id": "IZC86TBceKKW"
      }
    },
    {
      "cell_type": "code",
      "source": [
        "print(lda.components_.shape)\n",
        "lda.components_"
      ],
      "metadata": {
        "id": "PWQG2H93eJSk",
        "colab": {
          "base_uri": "https://localhost:8080/"
        },
        "outputId": "94253b12-a12f-4898-9afb-1a1e45a15c93"
      },
      "execution_count": null,
      "outputs": [
        {
          "output_type": "stream",
          "name": "stdout",
          "text": [
            "(8, 1000)\n"
          ]
        },
        {
          "output_type": "execute_result",
          "data": {
            "text/plain": [
              "array([[3.60992018e+01, 1.35626798e+02, 2.15751867e+01, ...,\n",
              "        3.02911688e+01, 8.66830093e+01, 6.79285199e+01],\n",
              "       [1.25199920e-01, 1.44401815e+01, 1.25045596e-01, ...,\n",
              "        1.81506995e+02, 1.25097844e-01, 9.39593286e+01],\n",
              "       [3.34762663e+02, 1.25176265e-01, 1.46743299e+02, ...,\n",
              "        1.25105772e-01, 3.63689741e+01, 1.25025218e-01],\n",
              "       ...,\n",
              "       [3.60204965e+01, 2.08640688e+01, 4.29606813e+00, ...,\n",
              "        1.45056650e+01, 8.33854413e+00, 1.55690009e+01],\n",
              "       [1.25128711e-01, 1.25247756e-01, 1.25005143e-01, ...,\n",
              "        9.17278769e+01, 1.25177668e-01, 3.74575887e+01],\n",
              "       [5.49258690e+01, 4.47009532e+00, 9.88524814e+00, ...,\n",
              "        4.87048440e+01, 1.25034678e-01, 1.25074632e-01]])"
            ]
          },
          "metadata": {},
          "execution_count": 4
        }
      ]
    },
    {
      "cell_type": "markdown",
      "source": [
        "`components_`는 array[8, 1000]으로 구성되어 있다. 8개의 토픽별로 1000개의 word 피처가 해당 토픽별로 연관도 값을 가지고 있다. 즉, `components_array`의 0번째 row, 10번째 col에 있는 값은 Topic #0에 대해서 피처 벡터화된 행렬에서 10번째 칼럼에 해당하는 피처와 Topic #0의 연관도를 가지고 있다. `lda_model.components_` 값만으로는 각 토픽별 word 연관도를 보기가 어렵다. `display_topics()` 함수를 만들어서 각 토픽별로 연관도가 높은 순으로 Word를 나열해보자."
      ],
      "metadata": {
        "id": "JDTHuar2Bu7e"
      }
    },
    {
      "cell_type": "code",
      "source": [
        "def display_topics(model, feature_names, no_top_words):\n",
        "  for topic_index, topic in enumerate(model.components_):\n",
        "    print('Topic #', topic_index)\n",
        "\n",
        "    # components_array에서 가장 값이 큰 순으로 정렬했을 때, 그 값의 array 인덱스를 반환\n",
        "    topic_word_indexes=topic.argsort()[::-1]\n",
        "    top_indexes=topic_word_indexes[:no_top_words]\n",
        "\n",
        "    # top_indexes 대상인 인덱스별로 feature_names에 해당하는 word feature 추출 후 join으로 concat\n",
        "    feature_concat=' '.join([feature_names[i] for i in top_indexes])\n",
        "    print(feature_concat)\n",
        "\n",
        "# CountVectorizer 객체 내의 전체 word의 명칭을 get_features_names()를 통해 추출\n",
        "feature_names=count_vect.get_feature_names_out()\n",
        "\n",
        "# 토픽별 가장 연관도가 높은 word를 15개만 추출\n",
        "display_topics(lda, feature_names, 15)\n"
      ],
      "metadata": {
        "colab": {
          "base_uri": "https://localhost:8080/"
        },
        "id": "qotnaL-GCPDg",
        "outputId": "f5dfb04f-dcbc-40e7-bf54-d6671e2446d3"
      },
      "execution_count": null,
      "outputs": [
        {
          "output_type": "stream",
          "name": "stdout",
          "text": [
            "Topic # 0\n",
            "year 10 game medical health team 12 20 disease cancer 1993 games years patients good\n",
            "Topic # 1\n",
            "don just like know people said think time ve didn right going say ll way\n",
            "Topic # 2\n",
            "image file jpeg program gif images output format files color entry 00 use bit 03\n",
            "Topic # 3\n",
            "like know don think use does just good time book read information people used post\n",
            "Topic # 4\n",
            "armenian israel armenians jews turkish people israeli jewish government war dos dos turkey arab armenia 000\n",
            "Topic # 5\n",
            "edu com available graphics ftp data pub motif mail widget software mit information version sun\n",
            "Topic # 6\n",
            "god people jesus church believe christ does christian say think christians bible faith sin life\n",
            "Topic # 7\n",
            "use dos thanks windows using window does display help like problem server need know run\n"
          ]
        }
      ]
    },
    {
      "cell_type": "markdown",
      "source": [
        "* Topic #0 : 일부 불분명안 주제어들이 있지만 주로 의학에 관련된 주제어가 추출된다.\n",
        "* Topic #1 : 명확하지 않고 일반적인 단어가 주를 이루고 있다.\n",
        "* Topic #2 : 컴퓨터 그래픽스 영역의 주제어가 다수 포함되어 있다.\n",
        "* Topic #3 : 일반적인 단어로 주제어가 추출됐다.\n",
        "* Topic #4 : 명확하게 중동 영역의 주제어가 추출됐다.\n",
        "* Topic #5 : 일부 컴퓨터 그래픽스 영역의 주제어를 포함하고 있지만, 전반적인 컴퓨터 관련 용어들을 가지고 있어서 8개 토픽 중 하나로 매핑하기는 어렵다.\n",
        "* Topic #6 : 명확하게 기독교 관련 주제어\n",
        "* Topic #7 : 윈도우 운영체제와 관련된 주제어"
      ],
      "metadata": {
        "id": "4K_MJMx7IWgF"
      }
    },
    {
      "cell_type": "markdown",
      "source": [
        "## **08. 문서 유사도**"
      ],
      "metadata": {
        "id": "rPqaUMNtZiBC"
      }
    },
    {
      "cell_type": "markdown",
      "source": [
        "1. **문서 유사도 측정 방법 - 코사인 유사도**\n",
        "문서와 문서 간의 유사도 비교는 코사인 유사도를 사용한다.\n",
        "\n",
        "* 코사인 유사도 : 벡터와 벡터 간의 유사도를 비교할 때 벡터의 크기보다는 벡터의 상호 방향성이 얼마나 유사한지에 기반한다. 즉, 두 벡터의 사잇각을 구해 얼마나 유사한지 수치로 구한 값이다."
      ],
      "metadata": {
        "id": "kPqkNJq1ZlpH"
      }
    },
    {
      "cell_type": "markdown",
      "source": [
        "**두 벡터의 사잇각**\n",
        "\n",
        "![image.png](data:image/png;base64,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)"
      ],
      "metadata": {
        "id": "wZD2VlORZ4K1"
      }
    },
    {
      "cell_type": "markdown",
      "source": [
        "두 벡터 A와 B의 코사인 값은 두 벡터 A와 B의 내적을 이용하여 구한다.\n",
        "\n",
        "![image.png](data:image/png;base64,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)"
      ],
      "metadata": {
        "id": "sJ5m53ZyaAAK"
      }
    },
    {
      "cell_type": "markdown",
      "source": [
        "![image.png](data:image/png;base64,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)"
      ],
      "metadata": {
        "id": "JoeNeVc6aJlM"
      }
    },
    {
      "cell_type": "markdown",
      "source": [
        "**코사인 유사도가 문서의 유사도 비교에 가장 많이 사용하는 이유** : 문서를 피처 벡터화 변환하면 차원이 큰 희소 행렬이 되기 쉽다. 이러한 희소 행렬 기반에서 문서와 문서 벡터 간의 크기에 기반한 유사도 지표는 정확도가 떨어지기 쉽다. 또한 문서가 매우 긴 경우 단어의 빈도수도 많을 것이기 때문에 이러한 빈도수에만 기반해서는 공정한 비교를 할 수 없다.\n",
        "\n",
        "예를 들어 A 문서에서 '머신러닝'이라는 단어가 5번 언급되고 B 문서에서는 3번 언급됐을 때 A 문서가 '머신러닝'과 더 밀접하게 관련된 문서라고 쉽게 판단해서는 안 된다. A 문서가 B 문서보다 10배 이상 크다면 오히려 B 문서가 '머신러닝'과 더 밀접하게 관련된 문서라고 판단할 수 있다."
      ],
      "metadata": {
        "id": "ezC-syF0aSdY"
      }
    },
    {
      "cell_type": "markdown",
      "source": [
        "간단한 문서에 대해 서로 간의 문서 유사도를 코사인 유사도 기반으로 구해 보자.\n",
        "\n",
        "1. 두 개의 넘파이 배열에 대한 코사인 유사도를 구하는 `cos_similarity()` 함수 작성"
      ],
      "metadata": {
        "id": "67vfC4KtawKf"
      }
    },
    {
      "cell_type": "code",
      "source": [
        "import numpy as np\n",
        "\n",
        "def cos_similarity(v1, v2):\n",
        "  dot_product=np.dot(v1, v2)\n",
        "  l2_norm=(np.sqrt(sum(np.square(v1)))*np.sqrt(sum(np.square(v2))))\n",
        "  similarity=dot_product/l2_norm\n",
        "\n",
        "  return similarity"
      ],
      "metadata": {
        "id": "l7CHTARbXviB"
      },
      "execution_count": null,
      "outputs": []
    },
    {
      "cell_type": "markdown",
      "source": [
        "2. `doc_list`로 정의된 3개의 간단한 문서의 유사도를 비교하기 위해 이 문서를 TF-IDF로 벡터화된 행렬로 변환한다."
      ],
      "metadata": {
        "id": "fuABmXHNbN-I"
      }
    },
    {
      "cell_type": "code",
      "source": [
        "from sklearn.feature_extraction.text import TfidfVectorizer\n",
        "\n",
        "doc_list=['if you take the blue pill, the story ends',\n",
        "          'if you take the red pill, you stay in Wonderland',\n",
        "          'if you take the red pill, I show you how deep the rabbit hole goes']\n",
        "\n",
        "tfidf_vect_simple=TfidfVectorizer()\n",
        "feature_vect_simple=tfidf_vect_simple.fit_transform(doc_list)\n",
        "print(feature_vect_simple.shape)"
      ],
      "metadata": {
        "colab": {
          "base_uri": "https://localhost:8080/"
        },
        "id": "-5RK2Hy0bTfV",
        "outputId": "447d11c5-4720-4c00-fe9d-a8cf65749f2a"
      },
      "execution_count": null,
      "outputs": [
        {
          "output_type": "stream",
          "name": "stdout",
          "text": [
            "(3, 18)\n"
          ]
        }
      ]
    },
    {
      "cell_type": "markdown",
      "source": [
        "3. 반환된 행렬은 희소 행렬이므로 앞에서 작성한 `cos_similarity()` 함수의 인자인 array로 만들기 위해 밀집 행렬로 변환한 뒤 다시 각각을 배열로 변환한다.\n",
        "\n",
        "`feature_vect_dense[0]`은 `doc_list` 첫 번째 문서의 피처 벡터화이며, `feature_vect_dense[1]`은 `doc_list` 두 번째 문서의 피처 벡터화이다.\n",
        "\n",
        "4. 위에서 작성한 `cos_similarity()` 함수를 이용해 두 개의 문서 유사도를 측정한다."
      ],
      "metadata": {
        "id": "LRaYR27pbrXe"
      }
    },
    {
      "cell_type": "code",
      "source": [
        "# TfidfVectorizer로 transform()한 결과는 희소 행렬이므로 밀집 행렬로 변환\n",
        "feature_vect_dense=feature_vect_simple.todense()\n",
        "\n",
        "# 첫 번째 문장과 두 번째 문장의 피처 벡터 추출\n",
        "vect1=np.array(feature_vect_dense[0]).reshape(-1, )\n",
        "vect2=np.array(feature_vect_dense[1]).reshape(-1, )\n",
        "\n",
        "# 첫 번째 문장과 두 번째 문장의 피처 벡터로 두 개 문장의 코사인 유사도 추출\n",
        "similarity_simple=cos_similarity(vect1, vect2)\n",
        "print('문장 1, 문장 2 Cosine 유사도 : {0:.3f}'.format(similarity_simple))"
      ],
      "metadata": {
        "colab": {
          "base_uri": "https://localhost:8080/"
        },
        "id": "kaXO5eU-cLNi",
        "outputId": "9934392b-ac8c-42e9-ae6d-0e7d5f148d56"
      },
      "execution_count": null,
      "outputs": [
        {
          "output_type": "stream",
          "name": "stdout",
          "text": [
            "문장 1, 문장 2 Cosine 유사도 : 0.402\n"
          ]
        }
      ]
    },
    {
      "cell_type": "markdown",
      "source": [
        "5. 첫 번째 문장과 세 번째 문장, 두 번째 문장과 세 번째 문장의 유사도 측정"
      ],
      "metadata": {
        "id": "-5_c42eTcp4k"
      }
    },
    {
      "cell_type": "code",
      "source": [
        "vect1=np.array(feature_vect_dense[0]).reshape(-1, )\n",
        "vect3=np.array(feature_vect_dense[2]).reshape(-1, )\n",
        "similarity_simple=cos_similarity(vect1, vect3)\n",
        "print('문장 1, 문장 3 Cosine 유사도 : {0:.3f}'.format(similarity_simple))\n",
        "\n",
        "vect2=np.array(feature_vect_dense[1]).reshape(-1, )\n",
        "vect3=np.array(feature_vect_dense[2]).reshape(-1, )\n",
        "similarity_simple=cos_similarity(vect2, vect3)\n",
        "print('문장 2, 문장 3 Cosine 유사도 : {0:.3f}'.format(similarity_simple))"
      ],
      "metadata": {
        "colab": {
          "base_uri": "https://localhost:8080/"
        },
        "id": "ce7Xm6f8cvQC",
        "outputId": "fb7521f2-2fac-423b-dc71-bc7fc5ce5319"
      },
      "execution_count": null,
      "outputs": [
        {
          "output_type": "stream",
          "name": "stdout",
          "text": [
            "문장 1, 문장 3 Cosine 유사도 : 0.404\n",
            "문장 2, 문장 3 Cosine 유사도 : 0.456\n"
          ]
        }
      ]
    },
    {
      "cell_type": "markdown",
      "source": [
        "사이킷런은 코사인 유사도를 측정하기 위해 sklearn.metrics.pairwise.cosine_similarity API를 제공한다.\n",
        "\n",
        "cosine_similarity() 함수는 두 개의 입력 파라미터를 받는다. 첫 번째 파라미터는 비교 기준이 되는 문서의 피처 행렬, 두 번째 파라미터는 비교되는 문서의 피처 행렬이다.\n",
        "\n",
        "cosine_similarity()는 희소 행렬, 밀집 행렬 모두 가능하며, 행렬 또는 배열 모두 가능하다. 따라서 앞서 만든 cos_similarity() 함수와 같이 별도의 작업이 필요 없다.\n",
        "\n",
        "첫 번째 문서와 비교해 첫 번째 문서(자신), 두 번째, 세 번째 문서의 유사도를 측정해보자."
      ],
      "metadata": {
        "id": "A3aMlSFJdPXY"
      }
    },
    {
      "cell_type": "code",
      "source": [
        "from sklearn.metrics.pairwise import cosine_similarity\n",
        "\n",
        "similarity_simple_pair=cosine_similarity(feature_vect_simple[0], feature_vect_simple)\n",
        "print(similarity_simple_pair)"
      ],
      "metadata": {
        "colab": {
          "base_uri": "https://localhost:8080/"
        },
        "id": "cQa91gNKd1km",
        "outputId": "5bc80b2a-5432-4780-b008-2b54d74ff786"
      },
      "execution_count": null,
      "outputs": [
        {
          "output_type": "stream",
          "name": "stdout",
          "text": [
            "[[1.         0.40207758 0.40425045]]\n"
          ]
        }
      ]
    },
    {
      "cell_type": "code",
      "source": [
        "from sklearn.metrics.pairwise import cosine_similarity\n",
        "\n",
        "similarity_simple_pair=cosine_similarity(feature_vect_simple[0], feature_vect_simple[1:])\n",
        "print(similarity_simple_pair)"
      ],
      "metadata": {
        "colab": {
          "base_uri": "https://localhost:8080/"
        },
        "id": "BYHCq7NyeCsi",
        "outputId": "619e5bf3-0982-4d73-e464-5c6b5dfbc835"
      },
      "execution_count": null,
      "outputs": [
        {
          "output_type": "stream",
          "name": "stdout",
          "text": [
            "[[0.40207758 0.40425045]]\n"
          ]
        }
      ]
    },
    {
      "cell_type": "markdown",
      "source": [
        "cosine_similarity()는 쌍으로 코사인 유사도 값을 제공할 수 있다. 모든 개별 문서에 쌍으로 코사인 유사도 값을 계산한다. 즉, 첫 번째 문서와 두, 세 번째 문서의 코사인 유사도, 두 번째 문서와 첫, 세 번째 문서의 코사인 유사도, 세 번째 문서와 첫, 두 번째 문서의 코사인 유사도를 ndarray 형태로 제공한다."
      ],
      "metadata": {
        "id": "SW_BqPa6d_tb"
      }
    },
    {
      "cell_type": "code",
      "source": [
        "similarity_simple_pair=cosine_similarity(feature_vect_simple, feature_vect_simple)\n",
        "print(similarity_simple_pair)\n",
        "print('shape : ', similarity_simple_pair.shape)"
      ],
      "metadata": {
        "colab": {
          "base_uri": "https://localhost:8080/"
        },
        "id": "KSRygfrWebSi",
        "outputId": "fb94f4e4-92bd-4186-96d3-59b45503ea93"
      },
      "execution_count": null,
      "outputs": [
        {
          "output_type": "stream",
          "name": "stdout",
          "text": [
            "[[1.         0.40207758 0.40425045]\n",
            " [0.40207758 1.         0.45647296]\n",
            " [0.40425045 0.45647296 1.        ]]\n",
            "shape :  (3, 3)\n"
          ]
        }
      ]
    },
    {
      "cell_type": "markdown",
      "source": [
        "cosine_similarity()의 반환 값은 (3, 3) 형태의 ndarray이다. 첫 번째 로우는 1번 문서와 2, 3번 문서의 코사인 유사도, 두 번째 로우는 2번 문서와 1, 3번 문서의 코사인 유사도, 세 번째 로우는 3번 문서와 1, 2번 문서의 코사인 유사도를 나타낸다."
      ],
      "metadata": {
        "id": "5vecudxCeq3l"
      }
    },
    {
      "cell_type": "markdown",
      "source": [
        "**Opinion Review 데이터 세트를 이용한 문서 유사도 측정**"
      ],
      "metadata": {
        "id": "V-xeqpe0e4HJ"
      }
    },
    {
      "cell_type": "code",
      "source": [
        "import pandas as pd\n",
        "import glob, os\n",
        "from sklearn.feature_extraction.text import TfidfVectorizer\n",
        "from sklearn.cluster import KMeans\n",
        "\n",
        "path=r'/content/drive/MyDrive/24-1/ESAA/과제/OpinosisDataset1.0/topics'\n",
        "all_files=glob.glob(os.path.join(path, '*.data'))\n",
        "filename_list=[]\n",
        "opinion_text=[]\n",
        "\n",
        "for file_ in all_files:\n",
        "  df=pd.read_table(file_, index_col=None, header=0, encoding='latin1')\n",
        "  filename_=file_.split('/')[-1]\n",
        "  filename=filename_.split('.')[0]\n",
        "  filename_list.append(filename)\n",
        "  opinion_text.append(df.to_string())\n",
        "\n",
        "document_df=pd.DataFrame({'filename' : filename_list, 'opinion_text' : opinion_text})\n",
        "tfidf_vect=TfidfVectorizer(tokenizer=LemNormalize, stop_words='english',\n",
        "                           ngram_range=(1, 2), min_df=0.05, max_df=0.85)\n",
        "feature_vect=tfidf_vect.fit_transform(document_df['opinion_text'])\n",
        "\n",
        "km_cluster=KMeans(n_clusters=5, max_iter=10000, random_state=0)\n",
        "km_cluster.fit(feature_vect)\n",
        "cluster_label=km_cluster.labels_\n",
        "cluster_centers=km_cluster.cluster_centers_\n",
        "document_df['cluster_label']=cluster_label"
      ],
      "metadata": {
        "id": "deSvkiH_e9Yj"
      },
      "execution_count": null,
      "outputs": []
    },
    {
      "cell_type": "markdown",
      "source": [
        "호텔을 주제로 군집화된 문서를 이용해 특정 문서와 다른 문서 간의 유사도를 알아본다.\n",
        "\n",
        "문서를 피처 벡터화해 변환하면 문서 내 단어에 출현 빈도와 같은 값을 부여해 각 문서가 단어 피처의 값으로 벡터화된다. 이렇게 각 문서가 피처 벡터화된 데이터를 cosine_simularity()를 이용해 상호 비교해 유사도를 확인한다.\n",
        "\n",
        "1. 호텔을 주제로 군집화된 데이터를 먼저 추출한다.\n",
        "2. 이 데이터에 해당하는 TfidfVectorizer의 데이터를 추출한다. 호텔 군집화 데이터를 기반으로 별도의 TF-IDF 벡터화를 수행하지 않고, 바로 위에서 TfidfVectorizer로 만들어진 데이터에서 그대로 추출한다."
      ],
      "metadata": {
        "id": "N_04XytxgcIn"
      }
    },
    {
      "cell_type": "markdown",
      "source": [
        "DataFrame 객체 변수인 document_df에서 먼저 호텔로 군집화된 문서의 인덱스를 추출한다. 이렇게 추출된 인덱스를 그대로 이용해 TfidfVectorizer 객체 변수인 feature_vect에서 호텔로 군집화된 문서의 피처 벡터를 추출한다."
      ],
      "metadata": {
        "id": "xrZyRIjgg-6L"
      }
    },
    {
      "cell_type": "code",
      "source": [
        "from sklearn.metrics.pairwise import cosine_similarity\n",
        "\n",
        "# cosine_label=2인 데이터는 호텔로 군집화된 데이터임. DataFrame에서 해당 인덱스를 추출\n",
        "hotel_indexes=document_df[document_df['cluster_label']==2].index\n",
        "print('호텔로 클러스터링된 문서들의 DataFrame Index : ', hotel_indexes)\n",
        "\n",
        "# 호텔로 군집화된 데이터 중 첫 번째 문서를 추출해 파일명 표시\n",
        "comparison_docname=document_df.iloc[hotel_indexes[0]]['filename']\n",
        "print('#### 비교 기준 문서명', comparison_docname, '와 타 문서 유사도####')\n",
        "\n",
        "'''document_df에서 추출한 Index 객체를 feature_vect로 입력해 호텔 군집화된 feature_vect 추출\n",
        "이를 이용해 호텔로 군집화된 문서 중 첫 번째 문서와 다른 문서 간의 코사인 유사도 측정'''\n",
        "similarity_pair=cosine_similarity(feature_vect[hotel_indexes[0]], feature_vect[hotel_indexes])\n",
        "print(similarity_pair)"
      ],
      "metadata": {
        "colab": {
          "base_uri": "https://localhost:8080/"
        },
        "id": "4qxyz0bWhIWp",
        "outputId": "776a6194-5020-46da-d691-d91fb3bdbe29"
      },
      "execution_count": null,
      "outputs": [
        {
          "output_type": "stream",
          "name": "stdout",
          "text": [
            "호텔로 클러스터링된 문서들의 DataFrame Index :  Index([1, 5, 6, 8, 14, 18, 20, 22, 28, 42, 43], dtype='int64')\n",
            "#### 비교 기준 문서명 rooms_swissotel_chicago 와 타 문서 유사도####\n",
            "[[1.         0.77312013 0.86779235 0.2790587  0.10470943 0.11313189\n",
            "  0.21975321 0.22029855 0.32619948 0.24123696 0.25016153]]\n"
          ]
        }
      ]
    },
    {
      "cell_type": "markdown",
      "source": [
        "단순히 숫자로만 표시돼서 직관적으로 유사도를 파악하기 어렵다. 첫 번째 문서와 다른 문서 간에 유사도가 높은 순으로 이를 정렬하고 시각화해 보자. cosine_similarity()는 쌍 형태의 ndarray를 반환하므로 이를 판다스 인덱스로 이용하기 위해 reshape(-1)로 차원을 변경한다."
      ],
      "metadata": {
        "id": "YHdG4nFliBZv"
      }
    },
    {
      "cell_type": "code",
      "source": [
        "import seaborn as sns\n",
        "import numpy as np\n",
        "import matplotlib.pyplot as plt\n",
        "%matplotlib inline\n",
        "\n",
        "# 첫 번째 문서와 타 문서간 유사도가 큰 순으로 정렬한 인덱스를 추출하되 자기 자신은 제외\n",
        "sorted_index=similarity_pair.argsort()[:, ::-1]\n",
        "sorted_index=sorted_index[:, 1:]\n",
        "\n",
        "# 유사도가 큰 순으로 hotel_indexes를 추출하여 재정렬\n",
        "hotel_sorted_indexes=hotel_indexes[sorted_index.reshape(-1)]\n",
        "\n",
        "# 유사도가 큰 순으로 유사도 값을 재정렬하되 자기 자신은 제외\n",
        "hotel_1_sim_value=np.sort(similarity_pair.reshape(-1))[::-1]\n",
        "hotel_1_sim_value=hotel_1_sim_value[1:]\n",
        "\n",
        "# 유사도가 큰 순으로 정렬된 인덱스와 유사도 값을 이용해 파일명과 유사도 값을 막대 그래프로 시각화\n",
        "hotel_1_sim_df=pd.DataFrame()\n",
        "hotel_1_sim_df['filename']=document_df.iloc[hotel_sorted_indexes]['filename']\n",
        "hotel_1_sim_df['similarity']=hotel_1_sim_value\n",
        "print('가장 유사도가 큰 파일명 및 유사도 :\\n', hotel_1_sim_df.iloc[0, :])\n",
        "\n",
        "sns.barplot(x='similarity', y='filename', data=hotel_1_sim_df)\n",
        "plt.title(comparison_docname)"
      ],
      "metadata": {
        "colab": {
          "base_uri": "https://localhost:8080/",
          "height": 559
        },
        "id": "GU_wb9k5iN1y",
        "outputId": "6ae86c9f-5c0b-412c-9ac6-47a4b684f6b9"
      },
      "execution_count": null,
      "outputs": [
        {
          "output_type": "stream",
          "name": "stdout",
          "text": [
            "가장 유사도가 큰 파일명 및 유사도 :\n",
            " filename      rooms_bestwestern_hotel_sfo\n",
            "similarity                       0.867792\n",
            "Name: 6, dtype: object\n"
          ]
        },
        {
          "output_type": "execute_result",
          "data": {
            "text/plain": [
              "Text(0.5, 1.0, 'rooms_swissotel_chicago')"
            ]
          },
          "metadata": {},
          "execution_count": 43
        },
        {
          "output_type": "display_data",
          "data": {
            "text/plain": [
              "<Figure size 640x480 with 1 Axes>"
            ],
            "image/png": "[encoded data removed]"
          },
          "metadata": {}
        }
      ]
    },
    {
      "cell_type": "markdown",
      "source": [
        "첫 번째 문서인 샌프란시스코의 베스트 웨스턴 호텔 화장실 리뷰인 bathroom_bestwestern_hotel_sfo와 가장 비슷한 문서는 room_holidaty_inn_london이다. 약 0.514인 코사인 유사도 값을 나타내고 있다."
      ],
      "metadata": {
        "id": "PuxJq1F_jfjW"
      }
    },
    {
      "cell_type": "markdown",
      "source": [
        "## **09. 한글 텍스트 처리 - 네이버 영화 평점 감성 분석**\n",
        "파이썬 기반의 한글 형태소 패키지 KoNLPy"
      ],
      "metadata": {
        "id": "HXL2jXjajrpg"
      }
    },
    {
      "cell_type": "markdown",
      "source": [
        "한글 언어 처리는 영어 등의 라틴어 처리보다 어렵다. 주된 원인은 '띄어쓰기'와 '다양한 조사' 때문이다.\n",
        "\n",
        "조사는 주어나 목적어를 위해 추가되며, 경우의 수가 많기 때문에 어근 추출(Stemming/Lemmatization) 등의 전처리 시 제거하기 까다롭다."
      ],
      "metadata": {
        "id": "nUtXNKn7kEqd"
      }
    },
    {
      "cell_type": "markdown",
      "source": [
        "**KoNLPy** : 파이썬의 대표적 한글 형태소 패키지.\n",
        "* 형태소 : 단어로서 의미를 가지는 최소 단위\n",
        "\n",
        "형태소 분석은 말뭉치를 이러한 형태소 어근 단위로 쪼개고 각 형태소에 품사 태깅(POS tagging)을 부착하는 작업을 지칭한다.\n",
        "\n",
        "꼬꼬마(Kkma), 한나눔(Hannanum), Komoran, 은전한닢 프로젝트(Mecab -> 윈도우 환경에서는 구동되지 않음), Twitter"
      ],
      "metadata": {
        "id": "byor0B1dkcI1"
      }
    },
    {
      "cell_type": "markdown",
      "source": [
        "1. 데이터 로딩\n",
        "\n",
        "https://github.com/e9t/nsmc\n",
        "\n",
        "Ratings_train.txt 파일은 탭(\\t)으로 칼럼이 분리돼 있으므로 read_csv()의 sep 파라미터를 '\\t'로 설정해 DataFrame으로 생성한다. 한글로 된 문서를 DataFrame으로 로딩할 때 인코딩 이슈가 발생할 수 있다. pd.read_csv() 시 encoding을 cp949로 설정한다."
      ],
      "metadata": {
        "id": "lSb8-5Mok-RS"
      }
    },
    {
      "cell_type": "code",
      "source": [
        "import pandas as pd\n",
        "\n",
        "train_df=pd.read_csv('/content/drive/MyDrive/24-1/ESAA/과제/Naver/ratings_train.txt', sep='\\t', encoding='utf-8')\n",
        "train_df.head(3)"
      ],
      "metadata": {
        "colab": {
          "base_uri": "https://localhost:8080/",
          "height": 143
        },
        "id": "8BsGlqOZkCqC",
        "outputId": "637172d1-ab00-46cc-b44c-4251c722e57b"
      },
      "execution_count": null,
      "outputs": [
        {
          "output_type": "execute_result",
          "data": {
            "text/plain": [
              "         id                           document  label\n",
              "0   9976970                아 더빙.. 진짜 짜증나네요 목소리      0\n",
              "1   3819312  흠...포스터보고 초딩영화줄....오버연기조차 가볍지 않구나      1\n",
              "2  10265843                  너무재밓었다그래서보는것을추천한다      0"
            ],
            "text/html": [
              "\n",
              "  <div id=\"df-5e82330a-975c-4b07-ab23-7fd34a4482ad\" class=\"colab-df-container\">\n",
              "    <div>\n",
              "<style scoped>\n",
              "    .dataframe tbody tr th:only-of-type {\n",
              "        vertical-align: middle;\n",
              "    }\n",
              "\n",
              "    .dataframe tbody tr th {\n",
              "        vertical-align: top;\n",
              "    }\n",
              "\n",
              "    .dataframe thead th {\n",
              "        text-align: right;\n",
              "    }\n",
              "</style>\n",
              "<table border=\"1\" class=\"dataframe\">\n",
              "  <thead>\n",
              "    <tr style=\"text-align: right;\">\n",
              "      <th></th>\n",
              "      <th>id</th>\n",
              "      <th>document</th>\n",
              "      <th>label</th>\n",
              "    </tr>\n",
              "  </thead>\n",
              "  <tbody>\n",
              "    <tr>\n",
              "      <th>0</th>\n",
              "      <td>9976970</td>\n",
              "      <td>아 더빙.. 진짜 짜증나네요 목소리</td>\n",
              "      <td>0</td>\n",
              "    </tr>\n",
              "    <tr>\n",
              "      <th>1</th>\n",
              "      <td>3819312</td>\n",
              "      <td>흠...포스터보고 초딩영화줄....오버연기조차 가볍지 않구나</td>\n",
              "      <td>1</td>\n",
              "    </tr>\n",
              "    <tr>\n",
              "      <th>2</th>\n",
              "      <td>10265843</td>\n",
              "      <td>너무재밓었다그래서보는것을추천한다</td>\n",
              "      <td>0</td>\n",
              "    </tr>\n",
              "  </tbody>\n",
              "</table>\n",
              "</div>\n",
              "    <div class=\"colab-df-buttons\">\n",
              "\n",
              "  <div class=\"colab-df-container\">\n",
              "    <button class=\"colab-df-convert\" onclick=\"convertToInteractive('df-5e82330a-975c-4b07-ab23-7fd34a4482ad')\"\n",
              "            title=\"Convert this dataframe to an interactive table.\"\n",
              "            style=\"display:none;\">\n",
              "\n",
              "  <svg xmlns=\"http://www.w3.org/2000/svg\" height=\"24px\" viewBox=\"0 -960 960 960\">\n",
              "    <path d=\"M120-120v-720h720v720H120Zm60-500h600v-160H180v160Zm220 220h160v-160H400v160Zm0 220h160v-160H400v160ZM180-400h160v-160H180v160Zm440 0h160v-160H620v160ZM180-180h160v-160H180v160Zm440 0h160v-160H620v160Z\"/>\n",
              "  </svg>\n",
              "    </button>\n",
              "\n",
              "  <style>\n",
              "    .colab-df-container {\n",
              "      display:flex;\n",
              "      gap: 12px;\n",
              "    }\n",
              "\n",
              "    .colab-df-convert {\n",
              "      background-color: #E8F0FE;\n",
              "      border: none;\n",
              "      border-radius: 50%;\n",
              "      cursor: pointer;\n",
              "      display: none;\n",
              "      fill: #1967D2;\n",
              "      height: 32px;\n",
              "      padding: 0 0 0 0;\n",
              "      width: 32px;\n",
              "    }\n",
              "\n",
              "    .colab-df-convert:hover {\n",
              "      background-color: #E2EBFA;\n",
              "      box-shadow: 0px 1px 2px rgba(60, 64, 67, 0.3), 0px 1px 3px 1px rgba(60, 64, 67, 0.15);\n",
              "      fill: #174EA6;\n",
              "    }\n",
              "\n",
              "    .colab-df-buttons div {\n",
              "      margin-bottom: 4px;\n",
              "    }\n",
              "\n",
              "    [theme=dark] .colab-df-convert {\n",
              "      background-color: #3B4455;\n",
              "      fill: #D2E3FC;\n",
              "    }\n",
              "\n",
              "    [theme=dark] .colab-df-convert:hover {\n",
              "      background-color: #434B5C;\n",
              "      box-shadow: 0px 1px 3px 1px rgba(0, 0, 0, 0.15);\n",
              "      filter: drop-shadow(0px 1px 2px rgba(0, 0, 0, 0.3));\n",
              "      fill: #FFFFFF;\n",
              "    }\n",
              "  </style>\n",
              "\n",
              "    <script>\n",
              "      const buttonEl =\n",
              "        document.querySelector('#df-5e82330a-975c-4b07-ab23-7fd34a4482ad button.colab-df-convert');\n",
              "      buttonEl.style.display =\n",
              "        google.colab.kernel.accessAllowed ? 'block' : 'none';\n",
              "\n",
              "      async function convertToInteractive(key) {\n",
              "        const element = document.querySelector('#df-5e82330a-975c-4b07-ab23-7fd34a4482ad');\n",
              "        const dataTable =\n",
              "          await google.colab.kernel.invokeFunction('convertToInteractive',\n",
              "                                                    [key], {});\n",
              "        if (!dataTable) return;\n",
              "\n",
              "        const docLinkHtml = 'Like what you see? Visit the ' +\n",
              "          '<a target=\"_blank\" href=https://colab.research.google.com/notebooks/data_table.ipynb>data table notebook</a>'\n",
              "          + ' to learn more about interactive tables.';\n",
              "        element.innerHTML = '';\n",
              "        dataTable['output_type'] = 'display_data';\n",
              "        await google.colab.output.renderOutput(dataTable, element);\n",
              "        const docLink = document.createElement('div');\n",
              "        docLink.innerHTML = docLinkHtml;\n",
              "        element.appendChild(docLink);\n",
              "      }\n",
              "    </script>\n",
              "  </div>\n",
              "\n",
              "\n",
              "<div id=\"df-d6a045fc-959b-48cd-acc8-7c0d44ab68ae\">\n",
              "  <button class=\"colab-df-quickchart\" onclick=\"quickchart('df-d6a045fc-959b-48cd-acc8-7c0d44ab68ae')\"\n",
              "            title=\"Suggest charts\"\n",
              "            style=\"display:none;\">\n",
              "\n",
              "<svg xmlns=\"http://www.w3.org/2000/svg\" height=\"24px\"viewBox=\"0 0 24 24\"\n",
              "     width=\"24px\">\n",
              "    <g>\n",
              "        <path d=\"M19 3H5c-1.1 0-2 .9-2 2v14c0 1.1.9 2 2 2h14c1.1 0 2-.9 2-2V5c0-1.1-.9-2-2-2zM9 17H7v-7h2v7zm4 0h-2V7h2v10zm4 0h-2v-4h2v4z\"/>\n",
              "    </g>\n",
              "</svg>\n",
              "  </button>\n",
              "\n",
              "<style>\n",
              "  .colab-df-quickchart {\n",
              "      --bg-color: #E8F0FE;\n",
              "      --fill-color: #1967D2;\n",
              "      --hover-bg-color: #E2EBFA;\n",
              "      --hover-fill-color: #174EA6;\n",
              "      --disabled-fill-color: #AAA;\n",
              "      --disabled-bg-color: #DDD;\n",
              "  }\n",
              "\n",
              "  [theme=dark] .colab-df-quickchart {\n",
              "      --bg-color: #3B4455;\n",
              "      --fill-color: #D2E3FC;\n",
              "      --hover-bg-color: #434B5C;\n",
              "      --hover-fill-color: #FFFFFF;\n",
              "      --disabled-bg-color: #3B4455;\n",
              "      --disabled-fill-color: #666;\n",
              "  }\n",
              "\n",
              "  .colab-df-quickchart {\n",
              "    background-color: var(--bg-color);\n",
              "    border: none;\n",
              "    border-radius: 50%;\n",
              "    cursor: pointer;\n",
              "    display: none;\n",
              "    fill: var(--fill-color);\n",
              "    height: 32px;\n",
              "    padding: 0;\n",
              "    width: 32px;\n",
              "  }\n",
              "\n",
              "  .colab-df-quickchart:hover {\n",
              "    background-color: var(--hover-bg-color);\n",
              "    box-shadow: 0 1px 2px rgba(60, 64, 67, 0.3), 0 1px 3px 1px rgba(60, 64, 67, 0.15);\n",
              "    fill: var(--button-hover-fill-color);\n",
              "  }\n",
              "\n",
              "  .colab-df-quickchart-complete:disabled,\n",
              "  .colab-df-quickchart-complete:disabled:hover {\n",
              "    background-color: var(--disabled-bg-color);\n",
              "    fill: var(--disabled-fill-color);\n",
              "    box-shadow: none;\n",
              "  }\n",
              "\n",
              "  .colab-df-spinner {\n",
              "    border: 2px solid var(--fill-color);\n",
              "    border-color: transparent;\n",
              "    border-bottom-color: var(--fill-color);\n",
              "    animation:\n",
              "      spin 1s steps(1) infinite;\n",
              "  }\n",
              "\n",
              "  @keyframes spin {\n",
              "    0% {\n",
              "      border-color: transparent;\n",
              "      border-bottom-color: var(--fill-color);\n",
              "      border-left-color: var(--fill-color);\n",
              "    }\n",
              "    20% {\n",
              "      border-color: transparent;\n",
              "      border-left-color: var(--fill-color);\n",
              "      border-top-color: var(--fill-color);\n",
              "    }\n",
              "    30% {\n",
              "      border-color: transparent;\n",
              "      border-left-color: var(--fill-color);\n",
              "      border-top-color: var(--fill-color);\n",
              "      border-right-color: var(--fill-color);\n",
              "    }\n",
              "    40% {\n",
              "      border-color: transparent;\n",
              "      border-right-color: var(--fill-color);\n",
              "      border-top-color: var(--fill-color);\n",
              "    }\n",
              "    60% {\n",
              "      border-color: transparent;\n",
              "      border-right-color: var(--fill-color);\n",
              "    }\n",
              "    80% {\n",
              "      border-color: transparent;\n",
              "      border-right-color: var(--fill-color);\n",
              "      border-bottom-color: var(--fill-color);\n",
              "    }\n",
              "    90% {\n",
              "      border-color: transparent;\n",
              "      border-bottom-color: var(--fill-color);\n",
              "    }\n",
              "  }\n",
              "</style>\n",
              "\n",
              "  <script>\n",
              "    async function quickchart(key) {\n",
              "      const quickchartButtonEl =\n",
              "        document.querySelector('#' + key + ' button');\n",
              "      quickchartButtonEl.disabled = true;  // To prevent multiple clicks.\n",
              "      quickchartButtonEl.classList.add('colab-df-spinner');\n",
              "      try {\n",
              "        const charts = await google.colab.kernel.invokeFunction(\n",
              "            'suggestCharts', [key], {});\n",
              "      } catch (error) {\n",
              "        console.error('Error during call to suggestCharts:', error);\n",
              "      }\n",
              "      quickchartButtonEl.classList.remove('colab-df-spinner');\n",
              "      quickchartButtonEl.classList.add('colab-df-quickchart-complete');\n",
              "    }\n",
              "    (() => {\n",
              "      let quickchartButtonEl =\n",
              "        document.querySelector('#df-d6a045fc-959b-48cd-acc8-7c0d44ab68ae button');\n",
              "      quickchartButtonEl.style.display =\n",
              "        google.colab.kernel.accessAllowed ? 'block' : 'none';\n",
              "    })();\n",
              "  </script>\n",
              "</div>\n",
              "\n",
              "    </div>\n",
              "  </div>\n"
            ],
            "application/vnd.google.colaboratory.intrinsic+json": {
              "type": "dataframe",
              "variable_name": "train_df"
            }
          },
          "metadata": {},
          "execution_count": 46
        }
      ]
    },
    {
      "cell_type": "code",
      "source": [
        "train_df['label'].value_counts()"
      ],
      "metadata": {
        "colab": {
          "base_uri": "https://localhost:8080/",
          "height": 178
        },
        "id": "tKjCkuo8mLvH",
        "outputId": "af4ac6f6-dc43-4db4-f818-d2cb51381004"
      },
      "execution_count": null,
      "outputs": [
        {
          "output_type": "execute_result",
          "data": {
            "text/plain": [
              "label\n",
              "0    75173\n",
              "1    74827\n",
              "Name: count, dtype: int64"
            ],
            "text/html": [
              "<div>\n",
              "<style scoped>\n",
              "    .dataframe tbody tr th:only-of-type {\n",
              "        vertical-align: middle;\n",
              "    }\n",
              "\n",
              "    .dataframe tbody tr th {\n",
              "        vertical-align: top;\n",
              "    }\n",
              "\n",
              "    .dataframe thead th {\n",
              "        text-align: right;\n",
              "    }\n",
              "</style>\n",
              "<table border=\"1\" class=\"dataframe\">\n",
              "  <thead>\n",
              "    <tr style=\"text-align: right;\">\n",
              "      <th></th>\n",
              "      <th>count</th>\n",
              "    </tr>\n",
              "    <tr>\n",
              "      <th>label</th>\n",
              "      <th></th>\n",
              "    </tr>\n",
              "  </thead>\n",
              "  <tbody>\n",
              "    <tr>\n",
              "      <th>0</th>\n",
              "      <td>75173</td>\n",
              "    </tr>\n",
              "    <tr>\n",
              "      <th>1</th>\n",
              "      <td>74827</td>\n",
              "    </tr>\n",
              "  </tbody>\n",
              "</table>\n",
              "</div><br><label><b>dtype:</b> int64</label>"
            ]
          },
          "metadata": {},
          "execution_count": 47
        }
      ]
    },
    {
      "cell_type": "markdown",
      "source": [
        "0과 1의 비율이 어느 한 쪽으로 치우치지 않고 균등한 분포를 나타내고 있다.\n",
        "\n",
        "1. train_df의 경우 리뷰 텍스트를 가지는 'document' 칼럼에 Null이 일부 존재하므로 이 값은 공백으로 변환한다.\n",
        "2. 문자가 아닌 숫자의 경우 단어적인 의미로 부족하므로 파이썬의 정규 표현식 모듈인 re를 이용해 이 역시 공백으로 변환한다.\n",
        "3. 테스트 데이터 세트의 경우도 파일을 로딩하고 동일한 데이터 가공을 수행한다."
      ],
      "metadata": {
        "id": "zKY1EWUrmPgv"
      }
    },
    {
      "cell_type": "code",
      "source": [
        "import re\n",
        "\n",
        "train_df=train_df.fillna(' ')\n",
        "# 정규 표현식을 이용해 숫자를 공백으로 변경(정규 표현식으로 \\d는 숫자를 의미함.)\n",
        "train_df['document']=train_df['document'].apply(lambda x : re.sub(r'\\d+', ' ', x))\n",
        "\n",
        "# 테스트 데이터 세트를 로딩하고 동일하게 Null 및 숫자를 공백으로 변환\n",
        "test_df=pd.read_csv('/content/drive/MyDrive/24-1/ESAA/과제/Naver/ratings_test.txt', sep='\\t', encoding='utf-8')\n",
        "test_df=test_df.fillna(' ')\n",
        "test_df['document']=test_df['document'].apply(lambda x : re.sub(r'\\d+', ' ', x))\n",
        "\n",
        "# id 칼럼 삭제\n",
        "train_df.drop('id', axis=1, inplace=True)\n",
        "test_df.drop('id', axis=1, inplace=True)"
      ],
      "metadata": {
        "id": "KS3P0vQImns3"
      },
      "execution_count": null,
      "outputs": []
    },
    {
      "cell_type": "markdown",
      "source": [
        "4. TF-IDF 방식으로 단어를 벡터화한다.\n",
        "\n",
        "각 문장을 한글 형태소 분석을 통해 형태소 단어로 토큰화한다. 한글 형태소 엔진은 SNS 분석에 적합한 Twitter 클래스를 이용한다. Twitter 객체의 morphs() 메서드를 이용하면 입력 인자로 들어온 문장을 형태소 단어 형태로 토큰화해 list 객체로 반환한다. 문장을 형태소 단어 형태로 반환하는 별도의 tokenizer 함수를 tw_tokenizer()라는 이름으로 생성한다. 이 tw_tokenizer() 함수는 뒤에서 사이킷런의 TfidfVectorizer 클래스의 tokenizer로 사용된다."
      ],
      "metadata": {
        "id": "JyWRajN8nUgr"
      }
    },
    {
      "cell_type": "code",
      "source": [
        "!pip install konlpy JPype1"
      ],
      "metadata": {
        "colab": {
          "base_uri": "https://localhost:8080/"
        },
        "id": "eHiUXup3oHe6",
        "outputId": "0de8932b-49a0-4141-d81c-ae768078f1d9"
      },
      "execution_count": null,
      "outputs": [
        {
          "output_type": "stream",
          "name": "stdout",
          "text": [
            "Collecting konlpy\n",
            "  Downloading konlpy-0.6.0-py2.py3-none-any.whl.metadata (1.9 kB)\n",
            "Collecting JPype1\n",
            "  Downloading JPype1-1.5.0-cp310-cp310-manylinux_2_17_x86_64.manylinux2014_x86_64.whl.metadata (4.9 kB)\n",
            "Requirement already satisfied: lxml>=4.1.0 in /usr/local/lib/python3.10/dist-packages (from konlpy) (4.9.4)\n",
            "Requirement already satisfied: numpy>=1.6 in /usr/local/lib/python3.10/dist-packages (from konlpy) (1.26.4)\n",
            "Requirement already satisfied: packaging in /usr/local/lib/python3.10/dist-packages (from JPype1) (24.1)\n",
            "Downloading konlpy-0.6.0-py2.py3-none-any.whl (19.4 MB)\n",
            "\u001b[2K   \u001b[90m━━━━━━━━━━━━━━━━━━━━━━━━━━━━━━━━━━━━━━━━\u001b[0m \u001b[32m19.4/19.4 MB\u001b[0m \u001b[31m43.4 MB/s\u001b[0m eta \u001b[36m0:00:00\u001b[0m\n",
            "\u001b[?25hDownloading JPype1-1.5.0-cp310-cp310-manylinux_2_17_x86_64.manylinux2014_x86_64.whl (488 kB)\n",
            "\u001b[2K   \u001b[90m━━━━━━━━━━━━━━━━━━━━━━━━━━━━━━━━━━━━━━━━\u001b[0m \u001b[32m488.6/488.6 kB\u001b[0m \u001b[31m22.6 MB/s\u001b[0m eta \u001b[36m0:00:00\u001b[0m\n",
            "\u001b[?25hInstalling collected packages: JPype1, konlpy\n",
            "Successfully installed JPype1-1.5.0 konlpy-0.6.0\n"
          ]
        }
      ]
    },
    {
      "cell_type": "code",
      "source": [
        "from konlpy.tag import Twitter\n",
        "\n",
        "twitter=Twitter()\n",
        "def tw_tokenizer(text):\n",
        "  # 입력 인자로 들어온 텍스트를 형태소 단어로 토큰화해 리스트 형태로 반환\n",
        "  tokens_ko=twitter.morphs(text)\n",
        "  return tokens_ko"
      ],
      "metadata": {
        "id": "XZIsM0adn1mb"
      },
      "execution_count": null,
      "outputs": []
    },
    {
      "cell_type": "markdown",
      "source": [
        "사이킷런의 TfidfVectorizer를 이용해 TF-IDF 피처 모델을 생성한다. tokenizer는 위에서 만든 tw_tokenizer() 함수를 이용한다.\n",
        "* ngram (1, 2)\n",
        "* min_df=3\n",
        "* max_df 상위 90%"
      ],
      "metadata": {
        "id": "gv8CpS9OoJ4h"
      }
    },
    {
      "cell_type": "code",
      "source": [
        "from sklearn.feature_extraction.text import TfidfVectorizer\n",
        "from sklearn.linear_model import LogisticRegression\n",
        "from sklearn.model_selection import GridSearchCV\n",
        "\n",
        "# Twitter 객체의 morphs() 객체를 이용한 tokenizer를 사용. ngram_range (1, 2)\n",
        "tfidf_vect=TfidfVectorizer(tokenizer=tw_tokenizer, ngram_range=(1, 2), min_df=3, max_df=0.9)\n",
        "tfidf_vect.fit(train_df['document'])\n",
        "tfidf_matrix_train=tfidf_vect.transform(train_df['document'])"
      ],
      "metadata": {
        "id": "uv20qePSoXXi"
      },
      "execution_count": null,
      "outputs": []
    },
    {
      "cell_type": "markdown",
      "source": [
        "5. 로지스틱 회귀를 이용해 분류 기반의 감성 분석을 수행한다. 로지스틱 회귀의 하이퍼 파라미터 C의 최적화를 위해 GridSearchCV를 이용한다."
      ],
      "metadata": {
        "id": "SBWWRIZkoxXW"
      }
    },
    {
      "cell_type": "code",
      "source": [
        "# 로지스틱 회귀를 이용해 감성 분석 분류 수행\n",
        "lg_clf=LogisticRegression(random_state=0, solver='liblinear')\n",
        "\n",
        "# 파라미터 C 최적화를 위해 GridSearchCV를 이용\n",
        "params={'C' : [1, 3.5, 4.5, 5.5, 10]}\n",
        "grid_cv=GridSearchCV(lg_clf, param_grid=params, cv=3, scoring='accuracy', verbose=1)\n",
        "grid_cv.fit(tfidf_matrix_train, train_df['label'])\n",
        "print(grid_cv.best_params_, round(grid_cv.best_score_, 4))"
      ],
      "metadata": {
        "colab": {
          "base_uri": "https://localhost:8080/"
        },
        "id": "_-jNaweZo8Cd",
        "outputId": "df57c3de-8c6e-4f0c-d19d-3ace68b6741b"
      },
      "execution_count": null,
      "outputs": [
        {
          "output_type": "stream",
          "name": "stdout",
          "text": [
            "Fitting 3 folds for each of 5 candidates, totalling 15 fits\n",
            "{'C': 3.5} 0.8593\n"
          ]
        }
      ]
    },
    {
      "cell_type": "markdown",
      "source": [
        "테스트 데이터 세트를 이용해 최종 감성 분석 예측을 수행한다.\n",
        "\n",
        "테스트 세트를 이용해 예측할 때는 학습할 때 적용한 TfidfVectorizer를 그대로 사용해야 한다. 그래야만 학습 시 설정된 TfidfVectorizer의 피처 개수와 테스트 데이터를 TfidfVectorizer로 변환할 피처 개수가 같아진다. 학습 데이터에 사용된 TfidfVectorizer 객체 변수인 tfidf_vect를 이용해 transform()을 테스트 데이터의 document 칼럼에 수행한다."
      ],
      "metadata": {
        "id": "XQtykLW1pzjM"
      }
    },
    {
      "cell_type": "code",
      "source": [
        "from sklearn.metrics import accuracy_score\n",
        "\n",
        "# 학습 데이터를 적용한 TfidfVectorizer를 이용해 테스트 데이터를 TF-IDF 값으로 피처 변환함\n",
        "tfidf_matrix_test=tfidf_vect.transform(test_df['document'])\n",
        "\n",
        "# classifier는 GridSearchCV에서 최적 파라미터로 학습된 classifier를 그대로 이용\n",
        "best_estimator=grid_cv.best_estimator_\n",
        "preds=best_estimator.predict(tfidf_matrix_test)\n",
        "\n",
        "print('Logistic Regression 정확도 : ', accuracy_score(test_df['label'], preds))"
      ],
      "metadata": {
        "colab": {
          "base_uri": "https://localhost:8080/"
        },
        "id": "fuPZ2RpqqHDl",
        "outputId": "13e811bd-36c9-4288-9df6-7e2e4b6e1118"
      },
      "execution_count": null,
      "outputs": [
        {
          "output_type": "stream",
          "name": "stdout",
          "text": [
            "Logistic Regression 정확도 :  0.86172\n"
          ]
        }
      ]
    }
  ]
}